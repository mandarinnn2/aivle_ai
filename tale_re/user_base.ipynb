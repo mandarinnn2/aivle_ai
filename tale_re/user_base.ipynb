{
 "cells": [
  {
   "cell_type": "markdown",
   "id": "b4bfdd67-8efb-44a7-be5a-2636d2c473a8",
   "metadata": {},
   "source": [
    "https://kwonkai.tistory.com/63"
   ]
  },
  {
   "cell_type": "code",
   "execution_count": 3,
   "id": "6e6b4d45-1da3-496a-b4e4-5f30b285e2d9",
   "metadata": {},
   "outputs": [],
   "source": [
    "# 라이브러리 설정\n",
    "import random\n",
    "import pandas as pd\n",
    "import statistics\n",
    "import matplotlib.pyplot as plt\n",
    "%matplotlib inline\n",
    "\n",
    "from sklearn.metrics.pairwise import cosine_similarity\n",
    "import operator"
   ]
  },
  {
   "cell_type": "code",
   "execution_count": 4,
   "id": "50222666-eaac-45eb-97c0-5e19221ce6d8",
   "metadata": {},
   "outputs": [],
   "source": [
    "df = pd.read_csv('동화데이터_최종.csv')"
   ]
  },
  {
   "cell_type": "markdown",
   "id": "a30e1967-dd51-4cba-99de-1a99d1a4ca6a",
   "metadata": {},
   "source": [
    "#### 동화 데이터에 id 추가하기"
   ]
  },
  {
   "cell_type": "code",
   "execution_count": 5,
   "id": "f56acb0f-1363-493c-81ec-d3d2efc6671f",
   "metadata": {},
   "outputs": [],
   "source": [
    "df = df.reset_index()"
   ]
  },
  {
   "cell_type": "code",
   "execution_count": 6,
   "id": "36eb5333-fadc-45b8-abd5-f40e710feeac",
   "metadata": {},
   "outputs": [
    {
     "data": {
      "text/html": [
       "<div>\n",
       "<style scoped>\n",
       "    .dataframe tbody tr th:only-of-type {\n",
       "        vertical-align: middle;\n",
       "    }\n",
       "\n",
       "    .dataframe tbody tr th {\n",
       "        vertical-align: top;\n",
       "    }\n",
       "\n",
       "    .dataframe thead th {\n",
       "        text-align: right;\n",
       "    }\n",
       "</style>\n",
       "<table border=\"1\" class=\"dataframe\">\n",
       "  <thead>\n",
       "    <tr style=\"text-align: right;\">\n",
       "      <th></th>\n",
       "      <th>index</th>\n",
       "      <th>제목</th>\n",
       "      <th>내용</th>\n",
       "      <th>카테고리</th>\n",
       "      <th>키워드</th>\n",
       "      <th>테마</th>\n",
       "    </tr>\n",
       "  </thead>\n",
       "  <tbody>\n",
       "    <tr>\n",
       "      <th>0</th>\n",
       "      <td>0</td>\n",
       "      <td>고양이와 쥐의 파트너십(동반자관계)</td>\n",
       "      <td>쥐를 친구로 된 어떤 고양이가 살고 있었다. \\r\\n고양이는 자신이 쥐에 대해 사랑...</td>\n",
       "      <td>그림형제동화</td>\n",
       "      <td>['고양이', '돼지 비계', '이름', '항아리', '세례', '대모', '친구'...</td>\n",
       "      <td>교회</td>\n",
       "    </tr>\n",
       "    <tr>\n",
       "      <th>1</th>\n",
       "      <td>1</td>\n",
       "      <td>건달들의 무리</td>\n",
       "      <td>하루는 수탉이 암탉에게 말했다. \\r\\n“나무열매들이 익어 가는 계절이 왔는데 슬슬...</td>\n",
       "      <td>그림형제동화</td>\n",
       "      <td>['수탉', '암탉', '오리', '나그네', '주막 주인', '마차']</td>\n",
       "      <td>숲속</td>\n",
       "    </tr>\n",
       "    <tr>\n",
       "      <th>2</th>\n",
       "      <td>2</td>\n",
       "      <td>실 잣는 세 여인네들</td>\n",
       "      <td>옛날 옛적에 게을러서 실을 잣지 않으려는 소녀가 한 명 있었어요.\\r\\n엄마가 뭐라...</td>\n",
       "      <td>그림형제동화</td>\n",
       "      <td>['소녀', '엄마', '왕비', '게으름', '세여인']</td>\n",
       "      <td>왕국</td>\n",
       "    </tr>\n",
       "    <tr>\n",
       "      <th>3</th>\n",
       "      <td>3</td>\n",
       "      <td>지푸라기, 숯, 콩</td>\n",
       "      <td>옛날 어느 마을에 가난한 노파가 한 명 살고 있었어요.\\r\\n그녀는 접시에 콩들을 ...</td>\n",
       "      <td>그림형제동화</td>\n",
       "      <td>['숯', '지푸라기', '콩', '탈출', '재봉사', '도움']</td>\n",
       "      <td>마을</td>\n",
       "    </tr>\n",
       "    <tr>\n",
       "      <th>4</th>\n",
       "      <td>4</td>\n",
       "      <td>생쥐, 새, 소시지</td>\n",
       "      <td>옛날 어느 날 생쥐와 새와 ‘소시지’가 동무가 되어 한 집에서 살게 되었어요.\\r\\...</td>\n",
       "      <td>그림형제동화</td>\n",
       "      <td>['소시지', '생쥐', '새', '뗄감', '요리', '후회']</td>\n",
       "      <td>숲속</td>\n",
       "    </tr>\n",
       "    <tr>\n",
       "      <th>...</th>\n",
       "      <td>...</td>\n",
       "      <td>...</td>\n",
       "      <td>...</td>\n",
       "      <td>...</td>\n",
       "      <td>...</td>\n",
       "      <td>...</td>\n",
       "    </tr>\n",
       "    <tr>\n",
       "      <th>437</th>\n",
       "      <td>437</td>\n",
       "      <td>선녀와 나무꾼</td>\n",
       "      <td>옛날 옛적, 가난해서 장가를 못간 나무꾼이 있었습니다. 하루는 나무를 하러 산에 갔...</td>\n",
       "      <td>전래동화</td>\n",
       "      <td>['나무꾼', '선녀', '노루', '아이', '날개옷', '실수']</td>\n",
       "      <td>마을</td>\n",
       "    </tr>\n",
       "    <tr>\n",
       "      <th>438</th>\n",
       "      <td>438</td>\n",
       "      <td>금도끼, 은도끼</td>\n",
       "      <td>옛날 한 작은 마을에 착한 나무꾼이 살았습니다. 나무꾼은 가난했지만 착하고 정직한 ...</td>\n",
       "      <td>전래동화</td>\n",
       "      <td>['도끼', '나무꾼', '산신령', '정직함', '욕심']</td>\n",
       "      <td>연못</td>\n",
       "    </tr>\n",
       "    <tr>\n",
       "      <th>439</th>\n",
       "      <td>439</td>\n",
       "      <td>심청전</td>\n",
       "      <td>옛날 한 마을에 심봉사 라고 불리는 장님에게 심청이라는 착하고 이쁜 딸이 있었습니다...</td>\n",
       "      <td>전래동화</td>\n",
       "      <td>['심청', '아버지', '약속', '공양미', '희생', '효도']</td>\n",
       "      <td>마을</td>\n",
       "    </tr>\n",
       "    <tr>\n",
       "      <th>440</th>\n",
       "      <td>440</td>\n",
       "      <td>은혜갚은 까치</td>\n",
       "      <td>옛날 한 선비가 과거를 보러 한양를 가기 위해 산을 오르다 구렁이에게 잡혀먹을 뻔한...</td>\n",
       "      <td>전래동화</td>\n",
       "      <td>['선비', '구렁이', '까치', '복수', '은혜']</td>\n",
       "      <td>마을</td>\n",
       "    </tr>\n",
       "    <tr>\n",
       "      <th>441</th>\n",
       "      <td>441</td>\n",
       "      <td>전래동화 흥부전</td>\n",
       "      <td>흥부전은 작자·연대 미상의 고전소설입니다. 조선 후기 소설로 흥보전,박흥보전,놀부전...</td>\n",
       "      <td>전래동화</td>\n",
       "      <td>['놀부', '흥부', '제비', '박', '욕심', '행복', '용서', '행운']</td>\n",
       "      <td>마을</td>\n",
       "    </tr>\n",
       "  </tbody>\n",
       "</table>\n",
       "<p>442 rows × 6 columns</p>\n",
       "</div>"
      ],
      "text/plain": [
       "     index                   제목  \\\n",
       "0        0  고양이와 쥐의 파트너십(동반자관계)   \n",
       "1        1              건달들의 무리   \n",
       "2        2          실 잣는 세 여인네들   \n",
       "3        3           지푸라기, 숯, 콩   \n",
       "4        4           생쥐, 새, 소시지   \n",
       "..     ...                  ...   \n",
       "437    437              선녀와 나무꾼   \n",
       "438    438             금도끼, 은도끼   \n",
       "439    439                  심청전   \n",
       "440    440              은혜갚은 까치   \n",
       "441    441             전래동화 흥부전   \n",
       "\n",
       "                                                    내용    카테고리  \\\n",
       "0    쥐를 친구로 된 어떤 고양이가 살고 있었다. \\r\\n고양이는 자신이 쥐에 대해 사랑...  그림형제동화   \n",
       "1    하루는 수탉이 암탉에게 말했다. \\r\\n“나무열매들이 익어 가는 계절이 왔는데 슬슬...  그림형제동화   \n",
       "2    옛날 옛적에 게을러서 실을 잣지 않으려는 소녀가 한 명 있었어요.\\r\\n엄마가 뭐라...  그림형제동화   \n",
       "3    옛날 어느 마을에 가난한 노파가 한 명 살고 있었어요.\\r\\n그녀는 접시에 콩들을 ...  그림형제동화   \n",
       "4    옛날 어느 날 생쥐와 새와 ‘소시지’가 동무가 되어 한 집에서 살게 되었어요.\\r\\...  그림형제동화   \n",
       "..                                                 ...     ...   \n",
       "437  옛날 옛적, 가난해서 장가를 못간 나무꾼이 있었습니다. 하루는 나무를 하러 산에 갔...    전래동화   \n",
       "438  옛날 한 작은 마을에 착한 나무꾼이 살았습니다. 나무꾼은 가난했지만 착하고 정직한 ...    전래동화   \n",
       "439  옛날 한 마을에 심봉사 라고 불리는 장님에게 심청이라는 착하고 이쁜 딸이 있었습니다...    전래동화   \n",
       "440  옛날 한 선비가 과거를 보러 한양를 가기 위해 산을 오르다 구렁이에게 잡혀먹을 뻔한...    전래동화   \n",
       "441  흥부전은 작자·연대 미상의 고전소설입니다. 조선 후기 소설로 흥보전,박흥보전,놀부전...    전래동화   \n",
       "\n",
       "                                                   키워드  테마  \n",
       "0    ['고양이', '돼지 비계', '이름', '항아리', '세례', '대모', '친구'...  교회  \n",
       "1             ['수탉', '암탉', '오리', '나그네', '주막 주인', '마차']  숲속  \n",
       "2                     ['소녀', '엄마', '왕비', '게으름', '세여인']  왕국  \n",
       "3                ['숯', '지푸라기', '콩', '탈출', '재봉사', '도움']  마을  \n",
       "4                 ['소시지', '생쥐', '새', '뗄감', '요리', '후회']  숲속  \n",
       "..                                                 ...  ..  \n",
       "437             ['나무꾼', '선녀', '노루', '아이', '날개옷', '실수']  마을  \n",
       "438                  ['도끼', '나무꾼', '산신령', '정직함', '욕심']  연못  \n",
       "439             ['심청', '아버지', '약속', '공양미', '희생', '효도']  마을  \n",
       "440                    ['선비', '구렁이', '까치', '복수', '은혜']  마을  \n",
       "441    ['놀부', '흥부', '제비', '박', '욕심', '행복', '용서', '행운']  마을  \n",
       "\n",
       "[442 rows x 6 columns]"
      ]
     },
     "execution_count": 6,
     "metadata": {},
     "output_type": "execute_result"
    }
   ],
   "source": [
    "df"
   ]
  },
  {
   "cell_type": "code",
   "execution_count": 7,
   "id": "0e503c4a-1ab9-4e49-a09f-7ecff9014438",
   "metadata": {},
   "outputs": [],
   "source": [
    "df.rename(columns={'index':'tale_id'}, inplace=True)"
   ]
  },
  {
   "cell_type": "code",
   "execution_count": 8,
   "id": "4498852e-8877-4c71-811d-adac8f175b55",
   "metadata": {},
   "outputs": [
    {
     "data": {
      "text/html": [
       "<div>\n",
       "<style scoped>\n",
       "    .dataframe tbody tr th:only-of-type {\n",
       "        vertical-align: middle;\n",
       "    }\n",
       "\n",
       "    .dataframe tbody tr th {\n",
       "        vertical-align: top;\n",
       "    }\n",
       "\n",
       "    .dataframe thead th {\n",
       "        text-align: right;\n",
       "    }\n",
       "</style>\n",
       "<table border=\"1\" class=\"dataframe\">\n",
       "  <thead>\n",
       "    <tr style=\"text-align: right;\">\n",
       "      <th></th>\n",
       "      <th>tale_id</th>\n",
       "      <th>제목</th>\n",
       "      <th>내용</th>\n",
       "      <th>카테고리</th>\n",
       "      <th>키워드</th>\n",
       "      <th>테마</th>\n",
       "    </tr>\n",
       "  </thead>\n",
       "  <tbody>\n",
       "    <tr>\n",
       "      <th>0</th>\n",
       "      <td>0</td>\n",
       "      <td>고양이와 쥐의 파트너십(동반자관계)</td>\n",
       "      <td>쥐를 친구로 된 어떤 고양이가 살고 있었다. \\r\\n고양이는 자신이 쥐에 대해 사랑...</td>\n",
       "      <td>그림형제동화</td>\n",
       "      <td>['고양이', '돼지 비계', '이름', '항아리', '세례', '대모', '친구'...</td>\n",
       "      <td>교회</td>\n",
       "    </tr>\n",
       "    <tr>\n",
       "      <th>1</th>\n",
       "      <td>1</td>\n",
       "      <td>건달들의 무리</td>\n",
       "      <td>하루는 수탉이 암탉에게 말했다. \\r\\n“나무열매들이 익어 가는 계절이 왔는데 슬슬...</td>\n",
       "      <td>그림형제동화</td>\n",
       "      <td>['수탉', '암탉', '오리', '나그네', '주막 주인', '마차']</td>\n",
       "      <td>숲속</td>\n",
       "    </tr>\n",
       "    <tr>\n",
       "      <th>2</th>\n",
       "      <td>2</td>\n",
       "      <td>실 잣는 세 여인네들</td>\n",
       "      <td>옛날 옛적에 게을러서 실을 잣지 않으려는 소녀가 한 명 있었어요.\\r\\n엄마가 뭐라...</td>\n",
       "      <td>그림형제동화</td>\n",
       "      <td>['소녀', '엄마', '왕비', '게으름', '세여인']</td>\n",
       "      <td>왕국</td>\n",
       "    </tr>\n",
       "    <tr>\n",
       "      <th>3</th>\n",
       "      <td>3</td>\n",
       "      <td>지푸라기, 숯, 콩</td>\n",
       "      <td>옛날 어느 마을에 가난한 노파가 한 명 살고 있었어요.\\r\\n그녀는 접시에 콩들을 ...</td>\n",
       "      <td>그림형제동화</td>\n",
       "      <td>['숯', '지푸라기', '콩', '탈출', '재봉사', '도움']</td>\n",
       "      <td>마을</td>\n",
       "    </tr>\n",
       "    <tr>\n",
       "      <th>4</th>\n",
       "      <td>4</td>\n",
       "      <td>생쥐, 새, 소시지</td>\n",
       "      <td>옛날 어느 날 생쥐와 새와 ‘소시지’가 동무가 되어 한 집에서 살게 되었어요.\\r\\...</td>\n",
       "      <td>그림형제동화</td>\n",
       "      <td>['소시지', '생쥐', '새', '뗄감', '요리', '후회']</td>\n",
       "      <td>숲속</td>\n",
       "    </tr>\n",
       "  </tbody>\n",
       "</table>\n",
       "</div>"
      ],
      "text/plain": [
       "   tale_id                   제목  \\\n",
       "0        0  고양이와 쥐의 파트너십(동반자관계)   \n",
       "1        1              건달들의 무리   \n",
       "2        2          실 잣는 세 여인네들   \n",
       "3        3           지푸라기, 숯, 콩   \n",
       "4        4           생쥐, 새, 소시지   \n",
       "\n",
       "                                                  내용    카테고리  \\\n",
       "0  쥐를 친구로 된 어떤 고양이가 살고 있었다. \\r\\n고양이는 자신이 쥐에 대해 사랑...  그림형제동화   \n",
       "1  하루는 수탉이 암탉에게 말했다. \\r\\n“나무열매들이 익어 가는 계절이 왔는데 슬슬...  그림형제동화   \n",
       "2  옛날 옛적에 게을러서 실을 잣지 않으려는 소녀가 한 명 있었어요.\\r\\n엄마가 뭐라...  그림형제동화   \n",
       "3  옛날 어느 마을에 가난한 노파가 한 명 살고 있었어요.\\r\\n그녀는 접시에 콩들을 ...  그림형제동화   \n",
       "4  옛날 어느 날 생쥐와 새와 ‘소시지’가 동무가 되어 한 집에서 살게 되었어요.\\r\\...  그림형제동화   \n",
       "\n",
       "                                                 키워드  테마  \n",
       "0  ['고양이', '돼지 비계', '이름', '항아리', '세례', '대모', '친구'...  교회  \n",
       "1           ['수탉', '암탉', '오리', '나그네', '주막 주인', '마차']  숲속  \n",
       "2                   ['소녀', '엄마', '왕비', '게으름', '세여인']  왕국  \n",
       "3              ['숯', '지푸라기', '콩', '탈출', '재봉사', '도움']  마을  \n",
       "4               ['소시지', '생쥐', '새', '뗄감', '요리', '후회']  숲속  "
      ]
     },
     "execution_count": 8,
     "metadata": {},
     "output_type": "execute_result"
    }
   ],
   "source": [
    "df.head()"
   ]
  },
  {
   "cell_type": "code",
   "execution_count": 9,
   "id": "e864e931-db8e-412f-9040-bd6550644655",
   "metadata": {},
   "outputs": [
    {
     "data": {
      "text/plain": [
       "442"
      ]
     },
     "execution_count": 9,
     "metadata": {},
     "output_type": "execute_result"
    }
   ],
   "source": [
    "len(df) # 총 442개의 행이 존재한다."
   ]
  },
  {
   "cell_type": "markdown",
   "id": "5be0c0ce-9d1b-4559-8826-ba9dbc4f8851",
   "metadata": {},
   "source": [
    "### 임의의 유저 30명을 만들고 각 동화에 별점을 매겨보자"
   ]
  },
  {
   "cell_type": "markdown",
   "id": "cd3f6c44-15dc-4956-81a4-2148d6fd0611",
   "metadata": {},
   "source": [
    "- user_id 30까지 만들고 동화수만큼 복사하기\n",
    "- id별로 각각의 tale_id 별 rating 저장하기"
   ]
  },
  {
   "cell_type": "code",
   "execution_count": 10,
   "id": "e0b4d52b-58ab-4153-9097-09985bf84019",
   "metadata": {},
   "outputs": [
    {
     "data": {
      "text/plain": [
       "13260"
      ]
     },
     "execution_count": 10,
     "metadata": {},
     "output_type": "execute_result"
    }
   ],
   "source": [
    "442*30"
   ]
  },
  {
   "cell_type": "code",
   "execution_count": 11,
   "id": "712da3aa-36ef-4538-90f8-d1d1e968c71c",
   "metadata": {},
   "outputs": [],
   "source": [
    "count_user = 30"
   ]
  },
  {
   "cell_type": "code",
   "execution_count": 12,
   "id": "5415c7d4-3809-467e-8aac-1e94f7ef2967",
   "metadata": {
    "scrolled": true
   },
   "outputs": [],
   "source": [
    "user = pd.DataFrame({'user_id':[j for j in range(count_user) for i in range(len(df))]})"
   ]
  },
  {
   "cell_type": "code",
   "execution_count": 13,
   "id": "1eee6096-a1ac-4d8b-b164-6cecfbb5998a",
   "metadata": {},
   "outputs": [],
   "source": [
    "id_val = []\n",
    "\n",
    "for i in range(count_user):\n",
    "    for j in range(len(df)):\n",
    "        id_val.append(j)"
   ]
  },
  {
   "cell_type": "code",
   "execution_count": 14,
   "id": "a6d0fbaf-6ffd-488e-9510-1063466dab22",
   "metadata": {
    "scrolled": true
   },
   "outputs": [],
   "source": [
    "import random\n",
    "\n",
    "user['tale_id'] = id_val\n",
    "user['rating'] =  [random.randint(0, 5) for i in range(len(df) * count_user)]"
   ]
  },
  {
   "cell_type": "code",
   "execution_count": 15,
   "id": "5cbcbef6-7d9d-4e59-8309-3051acde8816",
   "metadata": {},
   "outputs": [
    {
     "data": {
      "text/html": [
       "<div>\n",
       "<style scoped>\n",
       "    .dataframe tbody tr th:only-of-type {\n",
       "        vertical-align: middle;\n",
       "    }\n",
       "\n",
       "    .dataframe tbody tr th {\n",
       "        vertical-align: top;\n",
       "    }\n",
       "\n",
       "    .dataframe thead th {\n",
       "        text-align: right;\n",
       "    }\n",
       "</style>\n",
       "<table border=\"1\" class=\"dataframe\">\n",
       "  <thead>\n",
       "    <tr style=\"text-align: right;\">\n",
       "      <th></th>\n",
       "      <th>user_id</th>\n",
       "      <th>tale_id</th>\n",
       "      <th>rating</th>\n",
       "    </tr>\n",
       "  </thead>\n",
       "  <tbody>\n",
       "    <tr>\n",
       "      <th>0</th>\n",
       "      <td>0</td>\n",
       "      <td>0</td>\n",
       "      <td>2</td>\n",
       "    </tr>\n",
       "    <tr>\n",
       "      <th>1</th>\n",
       "      <td>0</td>\n",
       "      <td>1</td>\n",
       "      <td>5</td>\n",
       "    </tr>\n",
       "    <tr>\n",
       "      <th>2</th>\n",
       "      <td>0</td>\n",
       "      <td>2</td>\n",
       "      <td>4</td>\n",
       "    </tr>\n",
       "    <tr>\n",
       "      <th>3</th>\n",
       "      <td>0</td>\n",
       "      <td>3</td>\n",
       "      <td>0</td>\n",
       "    </tr>\n",
       "    <tr>\n",
       "      <th>4</th>\n",
       "      <td>0</td>\n",
       "      <td>4</td>\n",
       "      <td>5</td>\n",
       "    </tr>\n",
       "  </tbody>\n",
       "</table>\n",
       "</div>"
      ],
      "text/plain": [
       "   user_id  tale_id  rating\n",
       "0        0        0       2\n",
       "1        0        1       5\n",
       "2        0        2       4\n",
       "3        0        3       0\n",
       "4        0        4       5"
      ]
     },
     "execution_count": 15,
     "metadata": {},
     "output_type": "execute_result"
    }
   ],
   "source": [
    "user.head()"
   ]
  },
  {
   "cell_type": "code",
   "execution_count": 16,
   "id": "91429ec3-cdbc-4b18-bfae-083c69d31170",
   "metadata": {},
   "outputs": [
    {
     "data": {
      "text/html": [
       "<div>\n",
       "<style scoped>\n",
       "    .dataframe tbody tr th:only-of-type {\n",
       "        vertical-align: middle;\n",
       "    }\n",
       "\n",
       "    .dataframe tbody tr th {\n",
       "        vertical-align: top;\n",
       "    }\n",
       "\n",
       "    .dataframe thead th {\n",
       "        text-align: right;\n",
       "    }\n",
       "</style>\n",
       "<table border=\"1\" class=\"dataframe\">\n",
       "  <thead>\n",
       "    <tr style=\"text-align: right;\">\n",
       "      <th></th>\n",
       "      <th>user_id</th>\n",
       "      <th>tale_id</th>\n",
       "      <th>rating</th>\n",
       "    </tr>\n",
       "  </thead>\n",
       "  <tbody>\n",
       "    <tr>\n",
       "      <th>0</th>\n",
       "      <td>0</td>\n",
       "      <td>0</td>\n",
       "      <td>2</td>\n",
       "    </tr>\n",
       "    <tr>\n",
       "      <th>1</th>\n",
       "      <td>0</td>\n",
       "      <td>1</td>\n",
       "      <td>5</td>\n",
       "    </tr>\n",
       "    <tr>\n",
       "      <th>2</th>\n",
       "      <td>0</td>\n",
       "      <td>2</td>\n",
       "      <td>4</td>\n",
       "    </tr>\n",
       "    <tr>\n",
       "      <th>3</th>\n",
       "      <td>0</td>\n",
       "      <td>3</td>\n",
       "      <td>0</td>\n",
       "    </tr>\n",
       "    <tr>\n",
       "      <th>4</th>\n",
       "      <td>0</td>\n",
       "      <td>4</td>\n",
       "      <td>5</td>\n",
       "    </tr>\n",
       "  </tbody>\n",
       "</table>\n",
       "</div>"
      ],
      "text/plain": [
       "   user_id  tale_id  rating\n",
       "0        0        0       2\n",
       "1        0        1       5\n",
       "2        0        2       4\n",
       "3        0        3       0\n",
       "4        0        4       5"
      ]
     },
     "execution_count": 16,
     "metadata": {},
     "output_type": "execute_result"
    }
   ],
   "source": [
    "user.head()"
   ]
  },
  {
   "cell_type": "markdown",
   "id": "fc9ae53f-b7df-43ff-9c18-25c7cb6a502d",
   "metadata": {},
   "source": [
    "### user df 저장 및 사용하기"
   ]
  },
  {
   "cell_type": "code",
   "execution_count": 17,
   "id": "38bf7699-1a01-4b86-8fa0-f3e065139bd7",
   "metadata": {},
   "outputs": [],
   "source": [
    "user.to_csv('user.csv')"
   ]
  },
  {
   "cell_type": "code",
   "execution_count": 18,
   "id": "c2b4afb2-96f4-4094-8660-d4e5e3303b05",
   "metadata": {},
   "outputs": [
    {
     "data": {
      "text/plain": [
       "rating\n",
       "0    2299\n",
       "3    2244\n",
       "4    2211\n",
       "5    2201\n",
       "1    2165\n",
       "2    2140\n",
       "Name: count, dtype: int64"
      ]
     },
     "execution_count": 18,
     "metadata": {},
     "output_type": "execute_result"
    },
    {
     "data": {
      "image/png": "[encoded data removed]",
      "text/plain": [
       "<Figure size 640x480 with 1 Axes>"
      ]
     },
     "metadata": {},
     "output_type": "display_data"
    }
   ],
   "source": [
    "# 콘텐츠를 평가한 유저 숫자\n",
    "rating_per_user = user.groupby('user_id')['rating'].count()\n",
    "statistics.mean(rating_per_user.tolist())\n",
    "\n",
    "# 유저별 평점 개수의 분포\n",
    "rating_per_user.hist(bins=20, range=(0, 1000))\n",
    "\n",
    "# 평점 수\n",
    "user['rating'].value_counts()"
   ]
  },
  {
   "cell_type": "code",
   "execution_count": 19,
   "id": "e7c396f8-57d8-4a59-a989-c46c0364cdfb",
   "metadata": {},
   "outputs": [
    {
     "data": {
      "text/plain": [
       "<Axes: >"
      ]
     },
     "execution_count": 19,
     "metadata": {},
     "output_type": "execute_result"
    },
    {
     "data": {
      "image/png": "[encoded data removed]",
      "text/plain": [
       "<Figure size 640x480 with 1 Axes>"
      ]
     },
     "metadata": {},
     "output_type": "display_data"
    }
   ],
   "source": [
    "# 콘텐츠별 평가된 평점 등급\n",
    "ratings_per_tale = user.groupby('tale_id')['rating'].count()\n",
    "statistics.mean(ratings_per_tale.tolist())\n",
    "\n",
    "# 콘텐츠별 평가된 빈도\n",
    "ratings_per_tale.hist(bins=30, range=(0, 5000))"
   ]
  },
  {
   "cell_type": "code",
   "execution_count": 20,
   "id": "e812a62e-7f8d-416d-99a7-a22429775385",
   "metadata": {},
   "outputs": [
    {
     "data": {
      "text/plain": [
       "rating\n",
       "0    2299\n",
       "3    2244\n",
       "4    2211\n",
       "5    2201\n",
       "1    2165\n",
       "2    2140\n",
       "Name: count, dtype: int64"
      ]
     },
     "execution_count": 20,
     "metadata": {},
     "output_type": "execute_result"
    }
   ],
   "source": [
    "# rating이 0인 경우, 보지 않은 콘텐츠로 처리함\n",
    "user['rating'].value_counts()"
   ]
  },
  {
   "cell_type": "markdown",
   "id": "126e3448-d383-483a-862b-25f74df6f65b",
   "metadata": {},
   "source": [
    "### 유효값 필터링 (필요에 따라 사용하거나 사용하지 않을 수 있음)"
   ]
  },
  {
   "cell_type": "code",
   "execution_count": 21,
   "id": "ba8a4d2c-c128-40f1-a64d-a224fad0c157",
   "metadata": {},
   "outputs": [],
   "source": [
    "# 너무 적게 평가된 콘텐츠 제거\n",
    "ratings_per_tale_df = pd.DataFrame(ratings_per_tale)\n",
    "\n",
    "# 평점 개수가 20개 이하 콘텐츠 제거\n",
    "filtered_ratings_per_tale_df = ratings_per_tale_df[ratings_per_tale_df.rating >= 20]\n",
    "\n",
    "# df -> list\n",
    "# 인기가 많은 동화의 id 출력\n",
    "popular_tale = filtered_ratings_per_tale_df.index.tolist()"
   ]
  },
  {
   "cell_type": "code",
   "execution_count": 22,
   "id": "cea9e23f-b476-478d-8ad7-435abd6d9166",
   "metadata": {},
   "outputs": [],
   "source": [
    "# 너무 적게 평가한 유저 제거\n",
    "rating_per_user_df = pd.DataFrame(rating_per_user)\n",
    "\n",
    "# 평점 데이터 20개 이하일 경우 제거\n",
    "filtered_rating_per_user_df = rating_per_user_df[rating_per_user_df.rating >= 20]\n",
    "rating_users = filtered_rating_per_user_df.index.tolist()"
   ]
  },
  {
   "cell_type": "markdown",
   "id": "aba22288-41d4-4556-ac15-6388625bcdfb",
   "metadata": {},
   "source": [
    "### 피벗테이블 만들기"
   ]
  },
  {
   "cell_type": "code",
   "execution_count": 23,
   "id": "e0996801-6366-46fc-a25d-cc2f18ec3da2",
   "metadata": {},
   "outputs": [
    {
     "data": {
      "text/plain": [
       "(30, 442)"
      ]
     },
     "execution_count": 23,
     "metadata": {},
     "output_type": "execute_result"
    }
   ],
   "source": [
    "# 피벗테이블 만들기\n",
    "rating_matrix = user.pivot_table(index='user_id', columns='tale_id', values='rating')\n",
    "\n",
    "# 결측치 제거\n",
    "rating_matrix = rating_matrix.fillna(0)\n",
    "rating_matrix.shape"
   ]
  },
  {
   "cell_type": "code",
   "execution_count": 24,
   "id": "16b21d7f-7b50-4577-97e5-76ccbf70082d",
   "metadata": {},
   "outputs": [
    {
     "data": {
      "text/html": [
       "<div>\n",
       "<style scoped>\n",
       "    .dataframe tbody tr th:only-of-type {\n",
       "        vertical-align: middle;\n",
       "    }\n",
       "\n",
       "    .dataframe tbody tr th {\n",
       "        vertical-align: top;\n",
       "    }\n",
       "\n",
       "    .dataframe thead th {\n",
       "        text-align: right;\n",
       "    }\n",
       "</style>\n",
       "<table border=\"1\" class=\"dataframe\">\n",
       "  <thead>\n",
       "    <tr style=\"text-align: right;\">\n",
       "      <th>tale_id</th>\n",
       "      <th>0</th>\n",
       "      <th>1</th>\n",
       "      <th>2</th>\n",
       "      <th>3</th>\n",
       "      <th>4</th>\n",
       "      <th>5</th>\n",
       "      <th>6</th>\n",
       "      <th>7</th>\n",
       "      <th>8</th>\n",
       "      <th>9</th>\n",
       "      <th>...</th>\n",
       "      <th>432</th>\n",
       "      <th>433</th>\n",
       "      <th>434</th>\n",
       "      <th>435</th>\n",
       "      <th>436</th>\n",
       "      <th>437</th>\n",
       "      <th>438</th>\n",
       "      <th>439</th>\n",
       "      <th>440</th>\n",
       "      <th>441</th>\n",
       "    </tr>\n",
       "    <tr>\n",
       "      <th>user_id</th>\n",
       "      <th></th>\n",
       "      <th></th>\n",
       "      <th></th>\n",
       "      <th></th>\n",
       "      <th></th>\n",
       "      <th></th>\n",
       "      <th></th>\n",
       "      <th></th>\n",
       "      <th></th>\n",
       "      <th></th>\n",
       "      <th></th>\n",
       "      <th></th>\n",
       "      <th></th>\n",
       "      <th></th>\n",
       "      <th></th>\n",
       "      <th></th>\n",
       "      <th></th>\n",
       "      <th></th>\n",
       "      <th></th>\n",
       "      <th></th>\n",
       "      <th></th>\n",
       "    </tr>\n",
       "  </thead>\n",
       "  <tbody>\n",
       "    <tr>\n",
       "      <th>0</th>\n",
       "      <td>2.0</td>\n",
       "      <td>5.0</td>\n",
       "      <td>4.0</td>\n",
       "      <td>0.0</td>\n",
       "      <td>5.0</td>\n",
       "      <td>4.0</td>\n",
       "      <td>3.0</td>\n",
       "      <td>5.0</td>\n",
       "      <td>1.0</td>\n",
       "      <td>0.0</td>\n",
       "      <td>...</td>\n",
       "      <td>1.0</td>\n",
       "      <td>4.0</td>\n",
       "      <td>3.0</td>\n",
       "      <td>4.0</td>\n",
       "      <td>0.0</td>\n",
       "      <td>4.0</td>\n",
       "      <td>0.0</td>\n",
       "      <td>0.0</td>\n",
       "      <td>3.0</td>\n",
       "      <td>1.0</td>\n",
       "    </tr>\n",
       "    <tr>\n",
       "      <th>1</th>\n",
       "      <td>0.0</td>\n",
       "      <td>0.0</td>\n",
       "      <td>4.0</td>\n",
       "      <td>4.0</td>\n",
       "      <td>0.0</td>\n",
       "      <td>2.0</td>\n",
       "      <td>5.0</td>\n",
       "      <td>0.0</td>\n",
       "      <td>4.0</td>\n",
       "      <td>4.0</td>\n",
       "      <td>...</td>\n",
       "      <td>1.0</td>\n",
       "      <td>2.0</td>\n",
       "      <td>5.0</td>\n",
       "      <td>1.0</td>\n",
       "      <td>5.0</td>\n",
       "      <td>2.0</td>\n",
       "      <td>1.0</td>\n",
       "      <td>1.0</td>\n",
       "      <td>1.0</td>\n",
       "      <td>4.0</td>\n",
       "    </tr>\n",
       "    <tr>\n",
       "      <th>2</th>\n",
       "      <td>0.0</td>\n",
       "      <td>0.0</td>\n",
       "      <td>2.0</td>\n",
       "      <td>0.0</td>\n",
       "      <td>5.0</td>\n",
       "      <td>5.0</td>\n",
       "      <td>2.0</td>\n",
       "      <td>2.0</td>\n",
       "      <td>1.0</td>\n",
       "      <td>2.0</td>\n",
       "      <td>...</td>\n",
       "      <td>3.0</td>\n",
       "      <td>1.0</td>\n",
       "      <td>5.0</td>\n",
       "      <td>2.0</td>\n",
       "      <td>4.0</td>\n",
       "      <td>0.0</td>\n",
       "      <td>4.0</td>\n",
       "      <td>5.0</td>\n",
       "      <td>0.0</td>\n",
       "      <td>4.0</td>\n",
       "    </tr>\n",
       "    <tr>\n",
       "      <th>3</th>\n",
       "      <td>5.0</td>\n",
       "      <td>0.0</td>\n",
       "      <td>3.0</td>\n",
       "      <td>5.0</td>\n",
       "      <td>1.0</td>\n",
       "      <td>0.0</td>\n",
       "      <td>5.0</td>\n",
       "      <td>4.0</td>\n",
       "      <td>2.0</td>\n",
       "      <td>1.0</td>\n",
       "      <td>...</td>\n",
       "      <td>1.0</td>\n",
       "      <td>3.0</td>\n",
       "      <td>0.0</td>\n",
       "      <td>3.0</td>\n",
       "      <td>5.0</td>\n",
       "      <td>0.0</td>\n",
       "      <td>4.0</td>\n",
       "      <td>0.0</td>\n",
       "      <td>4.0</td>\n",
       "      <td>4.0</td>\n",
       "    </tr>\n",
       "    <tr>\n",
       "      <th>4</th>\n",
       "      <td>1.0</td>\n",
       "      <td>2.0</td>\n",
       "      <td>2.0</td>\n",
       "      <td>1.0</td>\n",
       "      <td>2.0</td>\n",
       "      <td>0.0</td>\n",
       "      <td>2.0</td>\n",
       "      <td>5.0</td>\n",
       "      <td>4.0</td>\n",
       "      <td>5.0</td>\n",
       "      <td>...</td>\n",
       "      <td>2.0</td>\n",
       "      <td>1.0</td>\n",
       "      <td>2.0</td>\n",
       "      <td>5.0</td>\n",
       "      <td>2.0</td>\n",
       "      <td>5.0</td>\n",
       "      <td>2.0</td>\n",
       "      <td>1.0</td>\n",
       "      <td>1.0</td>\n",
       "      <td>1.0</td>\n",
       "    </tr>\n",
       "  </tbody>\n",
       "</table>\n",
       "<p>5 rows × 442 columns</p>\n",
       "</div>"
      ],
      "text/plain": [
       "tale_id  0    1    2    3    4    5    6    7    8    9    ...  432  433  434  \\\n",
       "user_id                                                    ...                  \n",
       "0        2.0  5.0  4.0  0.0  5.0  4.0  3.0  5.0  1.0  0.0  ...  1.0  4.0  3.0   \n",
       "1        0.0  0.0  4.0  4.0  0.0  2.0  5.0  0.0  4.0  4.0  ...  1.0  2.0  5.0   \n",
       "2        0.0  0.0  2.0  0.0  5.0  5.0  2.0  2.0  1.0  2.0  ...  3.0  1.0  5.0   \n",
       "3        5.0  0.0  3.0  5.0  1.0  0.0  5.0  4.0  2.0  1.0  ...  1.0  3.0  0.0   \n",
       "4        1.0  2.0  2.0  1.0  2.0  0.0  2.0  5.0  4.0  5.0  ...  2.0  1.0  2.0   \n",
       "\n",
       "tale_id  435  436  437  438  439  440  441  \n",
       "user_id                                     \n",
       "0        4.0  0.0  4.0  0.0  0.0  3.0  1.0  \n",
       "1        1.0  5.0  2.0  1.0  1.0  1.0  4.0  \n",
       "2        2.0  4.0  0.0  4.0  5.0  0.0  4.0  \n",
       "3        3.0  5.0  0.0  4.0  0.0  4.0  4.0  \n",
       "4        5.0  2.0  5.0  2.0  1.0  1.0  1.0  \n",
       "\n",
       "[5 rows x 442 columns]"
      ]
     },
     "execution_count": 24,
     "metadata": {},
     "output_type": "execute_result"
    }
   ],
   "source": [
    "# tale_id = columns\n",
    "# user_id = index\n",
    "# values = rating_data\n",
    "rating_matrix.head()"
   ]
  },
  {
   "cell_type": "markdown",
   "id": "d7c5fa59-dfa5-4862-a717-19400594c824",
   "metadata": {},
   "source": [
    "### 비슷한 성향의 유저 찾기 - 코사인 유사도"
   ]
  },
  {
   "cell_type": "code",
   "execution_count": 25,
   "id": "269841d5-9fd5-404f-9e93-fdcee54866fc",
   "metadata": {},
   "outputs": [],
   "source": [
    "def similar_users(user_id, matrix, k=5):\n",
    "    # 현재 유저에 대한 데이터프레임 만들기\n",
    "    # matrix의 index = user_id -> 현재 1명 유저에 대한 평가 정보 찾기\n",
    "    user = matrix[matrix.index == user_id]\n",
    "\n",
    "    # matrix index 값이 user_id와 다른가?\n",
    "    # 일치하지 않는 값들은 other users\n",
    "    other_users = matrix[matrix.index != user_id]\n",
    "\n",
    "    # 대상 user, 다른 유저와의 cosine 유사도 계산\n",
    "    # list 변환\n",
    "    similarities = cosine_similarity(user.other_users)[0].tolist()\n",
    "\n",
    "    # 다른 사용자의 인덱스 목록 생성\n",
    "    other_users_list = other_users.index.tolist()\n",
    "\n",
    "    # 인덱스/유사도로 이뤄진 딕셔너리 생성\n",
    "    # dict(zip()) -> {'other_users_list1' : similarities, 'other_users_list2' : similarities}\n",
    "    user_similarity = dict(zip(other_users_list, similarities))\n",
    "\n",
    "    # 딕셔너리 정렬\n",
    "    # key = operator.itemgetter(1) -> 오름차순 정렬 -> reverse -> 내림차순\n",
    "    user_similarity_sorted = sorted(user_similarity.items(), key=operator.itemgetter(1))\n",
    "    user_similarity_sorted.revrese()\n",
    "\n",
    "    # 가장 높은 유사도 k개 정렬하기\n",
    "    top_users_similarities = user_similarity_sorted[:k]\n",
    "    users = [i[0] for i in top_users_similarities]\n",
    "\n",
    "    return users"
   ]
  },
  {
   "cell_type": "markdown",
   "id": "cde460a1-a8d6-45d2-8540-1d6de98653c2",
   "metadata": {},
   "source": [
    "#### 해당 user_id와 other_users의 matrix를 따로 저장해준다"
   ]
  },
  {
   "cell_type": "code",
   "execution_count": 26,
   "id": "c33396ef-7357-4856-9a33-656f6dd59db8",
   "metadata": {},
   "outputs": [],
   "source": [
    "# 현재 유저에 대한 정보 찾기 (특정 유저 - 예) 23번 유저)\n",
    "user_id = 23\n",
    "user = rating_matrix[rating_matrix.index == user_id]"
   ]
  },
  {
   "cell_type": "code",
   "execution_count": 27,
   "id": "14c439f4-e3c5-4d18-84ee-527c415346e4",
   "metadata": {},
   "outputs": [],
   "source": [
    "# matrix index값이 user_id와 다른가?\n",
    "other_users = rating_matrix[rating_matrix.index != user_id]"
   ]
  },
  {
   "cell_type": "markdown",
   "id": "9fdc3563-52c8-4324-be3b-c9a4737c89b9",
   "metadata": {},
   "source": [
    "#### cosine_similarity() 함수로 대상 유저와 다른 유저들 사이의 유사도 계산"
   ]
  },
  {
   "cell_type": "code",
   "execution_count": 29,
   "id": "835b6b71-989e-4aa1-be5d-d8497f3f5692",
   "metadata": {},
   "outputs": [],
   "source": [
    "# 대상 user, 다른 유저와의 cosine 유사도 계산\n",
    "# list 변환\n",
    "similarities = cosine_similarity(user, other_users)[0].tolist()"
   ]
  },
  {
   "cell_type": "markdown",
   "id": "1b6a2c82-6240-4c5e-acbd-0b447a4e6e08",
   "metadata": {},
   "source": [
    "#### dict(zip()) 함수를 이용하여 dict에 other_user마다 similarity 값을 넣는다"
   ]
  },
  {
   "cell_type": "code",
   "execution_count": 30,
   "id": "51184afa-6551-4a78-8f95-da04352aa75e",
   "metadata": {},
   "outputs": [],
   "source": [
    "# 다른 사용자의 인덱스 목록 생성\n",
    "other_users_list = other_users.index.tolist()\n",
    "\n",
    "# 인덱스/유사도로 이뤄진 딕셔너리 생성\n",
    "# dict(zip()) -> {'other_users_list1' : similarities, 'other_users_list2' : similarities}\n",
    "user_similarity = dict(zip(other_users_list, similarities))"
   ]
  },
  {
   "cell_type": "markdown",
   "id": "7b3de5fc-fb23-492e-8b62-6183e3e763f1",
   "metadata": {},
   "source": [
    "#### 특정 유저와 가장 유사도가 높은 k개를 정렬한다"
   ]
  },
  {
   "cell_type": "code",
   "execution_count": 31,
   "id": "38752cef-d305-45f7-b11d-aae484a1edce",
   "metadata": {},
   "outputs": [],
   "source": [
    "# 딕셔너리 정렬\n",
    "# key = operator.itemgetter(1) -> 오름차순 정렬 -> reverse -> 내림차순\n",
    "user_similarity_sorted = sorted(user_similarity.items(), key = operator.itemgetter(1))\n",
    "user_similarity_sorted.reverse()\n",
    "\n",
    "# 가장 높은 유사도 k개 정렬하기\n",
    "k = 5\n",
    "top_users_similarities = user_similarity_sorted[:k]\n",
    "users = [i[0] for i in top_users_similarities]"
   ]
  },
  {
   "cell_type": "markdown",
   "id": "0eca9a26-e9d2-462e-a7d3-35b5f766803d",
   "metadata": {},
   "source": [
    "### 콘텐츠 추천하기"
   ]
  },
  {
   "cell_type": "code",
   "execution_count": 44,
   "id": "5f405d6e-626e-4d51-9764-d633b0eec288",
   "metadata": {},
   "outputs": [],
   "source": [
    "def recommend_item(user_index, similar_user_indices, matrix, items=10):\n",
    "    # 유저와 비슷한 유저 가져오기\n",
    "    similar_users = matrix[matrix.index.isin(similar_user_indices)]\n",
    "    \n",
    "    # 비슷한 유저 평균 계산 # row 계산\n",
    "    similar_users = similar_users.mean(axis=0)\n",
    "\n",
    "    # df변환, 정렬/필터링 용이\n",
    "    similar_users_df = pd.DataFrame(similar_users, columns=['user_similarity'])\n",
    "\n",
    "    # 현재 사용자의 벡터 가져오기: matrix = rating_matrix(pivot table)\n",
    "    user_df = matrix[matrix.index == user_index]\n",
    "\n",
    "    # 현재 사용자의 평가 데이터 정렬\n",
    "    user_df_transposed = user_df.transpose()\n",
    "\n",
    "    # 컬럼명 변경 \n",
    "    user_df_transposed.columns = ['rating']\n",
    "\n",
    "    # 미시청 콘텐츠 목록리스트 만들기\n",
    "    tale_unseen = user_df_transposed.index.tolist()\n",
    "\n",
    "    # 미시청 콘텐츠 필터링\n",
    "    similar_users_df_filtered =similar_users_df[similar_users_df.index.isin(tale_unseen)]\n",
    "\n",
    "    # 평균값을 기준으로 내림차순 정렬\n",
    "    similar_users_df_ordered = similar_users_df_filtered.sort_values(by=['user_similarity'], ascending=False)\n",
    "\n",
    "    # 상위 10개 값 가져오기\n",
    "    items = 10\n",
    "    top_n_tale = similar_users_df_ordered.head(items)\n",
    "    top_n_tale_indices = top_n_tale.index.tolist()\n",
    "\n",
    "    # tale df에서 top10 값 찾기\n",
    "    tale_info = df[df['tale_id'].isin(top_n_tale_indices)]\n",
    "    tale_info\n",
    "\n",
    "    return tale_info # items"
   ]
  },
  {
   "cell_type": "code",
   "execution_count": 50,
   "id": "d812a861-b301-4d08-a12c-a36c7c6f3953",
   "metadata": {},
   "outputs": [
    {
     "name": "stdout",
     "output_type": "stream",
     "text": [
      "--콘텐츠 추천 top 10--\n",
      "     tale_id               제목  \\\n",
      "16        16        도둑과 도둑 선생   \n",
      "33        33          고집불통 아이   \n",
      "47        47          은화가 된 별   \n",
      "120      120          고양이와 수탉   \n",
      "196      196   농장(농가)에 들어간 사자   \n",
      "281      281        까마귀와 헤르메스   \n",
      "289      289     방탕아(낭비자)와 제비   \n",
      "292      292  사자 가죽을 뒤집어쓴 당나귀   \n",
      "332      332     사자와 제우스와 코끼리   \n",
      "352      352         장님과 앉은뱅이   \n",
      "\n",
      "                                                    내용    카테고리  \\\n",
      "16   ‘한스’는 자기 아들에게 어떤 ‘일’을 배우게 할지 알고 싶어 교회로 가 우리 주 ...  그림형제동화   \n",
      "33   옛날에 고집불통인 아이가 살았어요.\\r\\n어찌나 고집을 부리는지 엄마가 시키는 건 ...  그림형제동화   \n",
      "47   옛날에 아빠 엄마를 잃은 어린 소녀가 하나 있었지요.그녀는 너무도 가난하여 묵을 방...  그림형제동화   \n",
      "120  고양이가 수탉을 잡더니 어찌되었건 잡아먹을 그럴싸한 구실을 댔어요.\\r\\n“넌 야밤...    이솝우화   \n",
      "196  사자가 농장에 들어왔어요.\\r\\n농부는 얼른 문을 닫았어요, 사자를 생포할 생각이었...    이솝우화   \n",
      "281  덫에 걸린 까마귀가 아폴로 신에게 기도했어요.\\r\\n“저 좀 풀어주세요, 그럼 제가...    이솝우화   \n",
      "289  어머나, 젊은 사람이 어찌나 낭비벽이 심한지 재산을 몽땅 탕진하고 딸랑 명품 외투 ...    이솝우화   \n",
      "292  사자 가죽을 뒤집어쓴 당나귀가 숲 여기저기를 어슬렁거렸어요. 그와 마주치는 어리석은...    이솝우화   \n",
      "332  사자가 불만이 이만저만이 아니었어요, 누구에게는요? 제우스 신에게지요.\\r\\n“저는...    이솝우화   \n",
      "352  어느 산골 마을에 둘도 없이 친한 장님과 앉은뱅이가 살았습니다. 그러던 어느 날 “...    전래동화   \n",
      "\n",
      "                                           키워드  테마  \n",
      "16              ['아빠', '도둑', '한스', '도둑질', '꾀']  숲속  \n",
      "33                           ['딸', '엄마', '고집']  마을  \n",
      "47                                    [기부, 소녀]  마을  \n",
      "120                       ['고양이', '수탉', '말싸움']  마을  \n",
      "196             ['사자', '농장', '농부', '공격', '욕심']  농장  \n",
      "281  ['까마귀', '약속', '아폴로', '유향', '헤르메스', '거짓말']  하늘  \n",
      "289            ['외투', '제비', '탕진', '겨울', '낭비벽']   집  \n",
      "292             ['당나귀', '여우', '사자', '가죽', '숲']  숲속  \n",
      "332          ['사자', '코끼리', '제우스', '겁쟁이', '대답']  숲속  \n",
      "352           ['황금', '장님', '앉은뱅이', '우정', '황금']  숲속  \n",
      "\n",
      "-- tale_id --\n",
      "16      16\n",
      "33      33\n",
      "47      47\n",
      "120    120\n",
      "196    196\n",
      "281    281\n",
      "289    289\n",
      "292    292\n",
      "332    332\n",
      "352    352\n",
      "Name: tale_id, dtype: int64\n",
      "16           도둑과 도둑 선생\n",
      "33             고집불통 아이\n",
      "47             은화가 된 별\n",
      "120            고양이와 수탉\n",
      "196     농장(농가)에 들어간 사자\n",
      "281          까마귀와 헤르메스\n",
      "289       방탕아(낭비자)와 제비\n",
      "292    사자 가죽을 뒤집어쓴 당나귀\n",
      "332       사자와 제우스와 코끼리\n",
      "352           장님과 앉은뱅이\n",
      "Name: 제목, dtype: object\n"
     ]
    },
    {
     "data": {
      "text/html": [
       "<div>\n",
       "<style scoped>\n",
       "    .dataframe tbody tr th:only-of-type {\n",
       "        vertical-align: middle;\n",
       "    }\n",
       "\n",
       "    .dataframe tbody tr th {\n",
       "        vertical-align: top;\n",
       "    }\n",
       "\n",
       "    .dataframe thead th {\n",
       "        text-align: right;\n",
       "    }\n",
       "</style>\n",
       "<table border=\"1\" class=\"dataframe\">\n",
       "  <thead>\n",
       "    <tr style=\"text-align: right;\">\n",
       "      <th></th>\n",
       "      <th>tale_id</th>\n",
       "      <th>제목</th>\n",
       "      <th>내용</th>\n",
       "      <th>카테고리</th>\n",
       "      <th>키워드</th>\n",
       "      <th>테마</th>\n",
       "    </tr>\n",
       "  </thead>\n",
       "  <tbody>\n",
       "    <tr>\n",
       "      <th>16</th>\n",
       "      <td>16</td>\n",
       "      <td>도둑과 도둑 선생</td>\n",
       "      <td>‘한스’는 자기 아들에게 어떤 ‘일’을 배우게 할지 알고 싶어 교회로 가 우리 주 ...</td>\n",
       "      <td>그림형제동화</td>\n",
       "      <td>['아빠', '도둑', '한스', '도둑질', '꾀']</td>\n",
       "      <td>숲속</td>\n",
       "    </tr>\n",
       "    <tr>\n",
       "      <th>33</th>\n",
       "      <td>33</td>\n",
       "      <td>고집불통 아이</td>\n",
       "      <td>옛날에 고집불통인 아이가 살았어요.\\r\\n어찌나 고집을 부리는지 엄마가 시키는 건 ...</td>\n",
       "      <td>그림형제동화</td>\n",
       "      <td>['딸', '엄마', '고집']</td>\n",
       "      <td>마을</td>\n",
       "    </tr>\n",
       "    <tr>\n",
       "      <th>47</th>\n",
       "      <td>47</td>\n",
       "      <td>은화가 된 별</td>\n",
       "      <td>옛날에 아빠 엄마를 잃은 어린 소녀가 하나 있었지요.그녀는 너무도 가난하여 묵을 방...</td>\n",
       "      <td>그림형제동화</td>\n",
       "      <td>[기부, 소녀]</td>\n",
       "      <td>마을</td>\n",
       "    </tr>\n",
       "    <tr>\n",
       "      <th>120</th>\n",
       "      <td>120</td>\n",
       "      <td>고양이와 수탉</td>\n",
       "      <td>고양이가 수탉을 잡더니 어찌되었건 잡아먹을 그럴싸한 구실을 댔어요.\\r\\n“넌 야밤...</td>\n",
       "      <td>이솝우화</td>\n",
       "      <td>['고양이', '수탉', '말싸움']</td>\n",
       "      <td>마을</td>\n",
       "    </tr>\n",
       "    <tr>\n",
       "      <th>196</th>\n",
       "      <td>196</td>\n",
       "      <td>농장(농가)에 들어간 사자</td>\n",
       "      <td>사자가 농장에 들어왔어요.\\r\\n농부는 얼른 문을 닫았어요, 사자를 생포할 생각이었...</td>\n",
       "      <td>이솝우화</td>\n",
       "      <td>['사자', '농장', '농부', '공격', '욕심']</td>\n",
       "      <td>농장</td>\n",
       "    </tr>\n",
       "  </tbody>\n",
       "</table>\n",
       "</div>"
      ],
      "text/plain": [
       "     tale_id              제목  \\\n",
       "16        16       도둑과 도둑 선생   \n",
       "33        33         고집불통 아이   \n",
       "47        47         은화가 된 별   \n",
       "120      120         고양이와 수탉   \n",
       "196      196  농장(농가)에 들어간 사자   \n",
       "\n",
       "                                                    내용    카테고리  \\\n",
       "16   ‘한스’는 자기 아들에게 어떤 ‘일’을 배우게 할지 알고 싶어 교회로 가 우리 주 ...  그림형제동화   \n",
       "33   옛날에 고집불통인 아이가 살았어요.\\r\\n어찌나 고집을 부리는지 엄마가 시키는 건 ...  그림형제동화   \n",
       "47   옛날에 아빠 엄마를 잃은 어린 소녀가 하나 있었지요.그녀는 너무도 가난하여 묵을 방...  그림형제동화   \n",
       "120  고양이가 수탉을 잡더니 어찌되었건 잡아먹을 그럴싸한 구실을 댔어요.\\r\\n“넌 야밤...    이솝우화   \n",
       "196  사자가 농장에 들어왔어요.\\r\\n농부는 얼른 문을 닫았어요, 사자를 생포할 생각이었...    이솝우화   \n",
       "\n",
       "                                키워드  테마  \n",
       "16   ['아빠', '도둑', '한스', '도둑질', '꾀']  숲속  \n",
       "33                ['딸', '엄마', '고집']  마을  \n",
       "47                         [기부, 소녀]  마을  \n",
       "120            ['고양이', '수탉', '말싸움']  마을  \n",
       "196  ['사자', '농장', '농부', '공격', '욕심']  농장  "
      ]
     },
     "execution_count": 50,
     "metadata": {},
     "output_type": "execute_result"
    }
   ],
   "source": [
    "# 추천 콘텐츠 뽑아내기\n",
    "recommend_content = recommend_item(user_id, other_users, rating_matrix)\n",
    "\n",
    "print(\"--콘텐츠 추천 top 10--\")\n",
    "\n",
    "# 모든 추천\n",
    "print(recommend_content)\n",
    "print()\n",
    "\n",
    "# tale_id만 뽑기\n",
    "print(\"-- tale_id --\")\n",
    "print(recommend_content['tale_id'])\n",
    "\n",
    "# 제목만 뽑기\n",
    "print(recommend_content['제목'])"
   ]
  }
 ],
 "metadata": {
  "kernelspec": {
   "display_name": "Python 3 (ipykernel)",
   "language": "python",
   "name": "python3"
  },
  "language_info": {
   "codemirror_mode": {
    "name": "ipython",
    "version": 3
   },
   "file_extension": ".py",
   "mimetype": "text/x-python",
   "name": "python",
   "nbconvert_exporter": "python",
   "pygments_lexer": "ipython3",
   "version": "3.11.7"
  }
 },
 "nbformat": 4,
 "nbformat_minor": 5
}
