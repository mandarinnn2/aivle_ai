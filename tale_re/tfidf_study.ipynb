{
 "cells": [
  {
   "cell_type": "code",
   "execution_count": 15,
   "id": "7504c8cc-4818-4772-a627-1c7486c9e511",
   "metadata": {},
   "outputs": [],
   "source": [
    "# https://yeong-jin-data-blog.tistory.com/entry/TF-IDF-Term-Frequency-Inverse-Document-Frequency"
   ]
  },
  {
   "cell_type": "code",
   "execution_count": 1,
   "id": "54907435-cdca-4af5-900d-f64b20cf8511",
   "metadata": {},
   "outputs": [],
   "source": [
    "# tfidfvectorizer\n",
    "# CountVectorizer로 자연어를 벡터화하면 의미 없이 자주 사용되는 단어의 가중치 증가하는 문제가 발생한다. 이때 문제를 해결하기 위한 방법 중 하나가 TfidfVectorizer다."
   ]
  },
  {
   "cell_type": "markdown",
   "id": "a73c2ae8-fbd0-4ee4-a53e-e32944657fe8",
   "metadata": {},
   "source": [
    "https://wikidocs.net/31698"
   ]
  },
  {
   "cell_type": "code",
   "execution_count": null,
   "id": "ed2e145f-b91a-4139-8243-2ebd78fbad78",
   "metadata": {},
   "outputs": [],
   "source": [
    "1) tf(Term Frequency) - 하나의 문서(문장)에서 특정 단어가 등장하는 횟수\n",
    "2) idf(Inverse Document Frequency) \n",
    "df는 문서의 빈도. 특정 단어가 몇 개의 문서(문장)에서 등장하는지 수치화한 것이다. \n",
    "idf는 df의 역수이다. 보통 그냥 역수를 취하기 보다 아래처럼 수식화 한다.\n",
    "역수를 사용하는 이유는 적은 문서(문장)에 등장할수혹 큰 숫자가 되게하고 반대로 많은 문서(문장)에 등장할수록 숫자를 작아지게 함으로써 여러 문서(문장)에 의미 없이 사용되는 단어의 가중치를 줄이기 위해서이다."
   ]
  },
  {
   "cell_type": "markdown",
   "id": "b8f6481c-ac89-45dc-bc74-b2a4cf4a568b",
   "metadata": {},
   "source": [
    "$idf\\left(t\\right)=\\log \\frac{n}{1+df(t)}$"
   ]
  },
  {
   "cell_type": "markdown",
   "id": "42d5dc90-7d48-4b9d-9d14-7ffa275cc51d",
   "metadata": {},
   "source": [
    "Tf-idf 수치는 tf값과 idf값을 곱하여 구한다. 해당 연산을 거친 최종 tf-idf값은 0과 1사이로 만들어진다."
   ]
  },
  {
   "cell_type": "code",
   "execution_count": 10,
   "id": "7c669fe2-b9ee-4f65-be63-cf69fb086794",
   "metadata": {},
   "outputs": [
    {
     "name": "stdout",
     "output_type": "stream",
     "text": [
      "{'you': 7, 'know': 1, 'want': 5, 'your': 8, 'love': 3, 'like': 2, 'what': 6, 'should': 4, 'do': 0}\n",
      "  (0, 1)\t0.4673509818107163\n",
      "  (0, 3)\t0.4673509818107163\n",
      "  (0, 5)\t0.4673509818107163\n",
      "  (0, 7)\t0.35543246785041743\n",
      "  (0, 8)\t0.4673509818107163\n",
      "  (1, 2)\t0.7959605415681652\n",
      "  (1, 7)\t0.6053485081062916\n",
      "  (2, 0)\t0.5773502691896257\n",
      "  (2, 4)\t0.5773502691896257\n",
      "  (2, 6)\t0.5773502691896257\n",
      "[[0.         0.46735098 0.         0.46735098 0.         0.46735098\n",
      "  0.         0.35543247 0.46735098]\n",
      " [0.         0.         0.79596054 0.         0.         0.\n",
      "  0.         0.60534851 0.        ]\n",
      " [0.57735027 0.         0.         0.         0.57735027 0.\n",
      "  0.57735027 0.         0.        ]]\n",
      "[[0.         0.46735098 0.         0.46735098 0.         0.46735098\n",
      "  0.         0.35543247 0.46735098]\n",
      " [0.         0.         0.79596054 0.         0.         0.\n",
      "  0.         0.60534851 0.        ]\n",
      " [0.57735027 0.         0.         0.         0.57735027 0.\n",
      "  0.57735027 0.         0.        ]]\n"
     ]
    }
   ],
   "source": [
    "from sklearn.feature_extraction.text import TfidfVectorizer\n",
    "\n",
    "corpus = [ 'you know I want your love', 'I like you', 'what should I do ' ]\n",
    "\n",
    "tfidfv = TfidfVectorizer().fit(corpus)\n",
    "\n",
    "print(tfidfv.vocabulary_) # fit()을 진행하면 단어의 수를 세준다.\n",
    "print(tfidfv.transform(corpus)) # transform()을 진행하면 각 단어별 벡터를 계산해준다.\n",
    "print(tfidfv.transform(corpus).toarray())\n",
    "print(tfidfv.fit_transform(corpus).toarray())"
   ]
  },
  {
   "cell_type": "code",
   "execution_count": null,
   "id": "34b3f89f-a9ba-4037-97d9-a3302650049c",
   "metadata": {},
   "outputs": [],
   "source": [
    "(a,b)는 array로 만들었을 때 각 뒤에 나오는 tf-idf 값의 위치를 나타낸다.\n",
    "표현되지 않은 값들은 모두 0이다."
   ]
  }
 ],
 "metadata": {
  "kernelspec": {
   "display_name": "Python 3 (ipykernel)",
   "language": "python",
   "name": "python3"
  },
  "language_info": {
   "codemirror_mode": {
    "name": "ipython",
    "version": 3
   },
   "file_extension": ".py",
   "mimetype": "text/x-python",
   "name": "python",
   "nbconvert_exporter": "python",
   "pygments_lexer": "ipython3",
   "version": "3.11.7"
  }
 },
 "nbformat": 4,
 "nbformat_minor": 5
}
