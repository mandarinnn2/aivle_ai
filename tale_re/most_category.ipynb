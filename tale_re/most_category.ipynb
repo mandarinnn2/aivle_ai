{
 "cells": [
  {
   "cell_type": "code",
   "execution_count": 44,
   "id": "8679b64f-c660-4c03-9854-25990dee8fc5",
   "metadata": {},
   "outputs": [],
   "source": [
    "import pandas as pd\n",
    "import numpy as np"
   ]
  },
  {
   "cell_type": "code",
   "execution_count": 45,
   "id": "70e41760-8842-4b96-8504-05d38b323c31",
   "metadata": {},
   "outputs": [],
   "source": [
    "df = pd.read_csv('tales.csv')"
   ]
  },
  {
   "cell_type": "code",
   "execution_count": 46,
   "id": "472aa4ed-3e30-4f09-902c-46f2b48c4151",
   "metadata": {},
   "outputs": [],
   "source": [
    "df['본 횟수'] = 0 # 임의의 열 생성"
   ]
  },
  {
   "cell_type": "code",
   "execution_count": 52,
   "id": "b4d982ed-a1db-47ca-b5b5-3807c5324243",
   "metadata": {},
   "outputs": [
    {
     "name": "stdout",
     "output_type": "stream",
     "text": [
      "가장 많이 읽은 동화 장르는 그림형제동화입니다.\n"
     ]
    }
   ],
   "source": [
    "max_tale = df['본 횟수'].groupby(df['카테고리']).sum() # 카테고리별 본 횟수의 sum을 저장\n",
    "max_tale = max_tale.sort_values(ascending=False).index[0] # 횟수가 가장 많은 순으로 정렬\n",
    "text = f'가장 많이 읽은 동화 장르는 {max_tale}입니다.'\n",
    "print(text)"
   ]
  }
 ],
 "metadata": {
  "kernelspec": {
   "display_name": "Python 3 (ipykernel)",
   "language": "python",
   "name": "python3"
  },
  "language_info": {
   "codemirror_mode": {
    "name": "ipython",
    "version": 3
   },
   "file_extension": ".py",
   "mimetype": "text/x-python",
   "name": "python",
   "nbconvert_exporter": "python",
   "pygments_lexer": "ipython3",
   "version": "3.11.7"
  }
 },
 "nbformat": 4,
 "nbformat_minor": 5
}
