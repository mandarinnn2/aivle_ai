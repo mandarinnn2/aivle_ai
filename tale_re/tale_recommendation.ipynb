{
  "cells": [
    {
      "cell_type": "markdown",
      "metadata": {
        "id": "view-in-github"
      },
      "source": [
        "<a href=\"https://colab.research.google.com/github/threegenie/knn_project/blob/main/new_work_times_project.ipynb\" target=\"_parent\"><img src=\"https://colab.research.google.com/assets/colab-badge.svg\" alt=\"Open In Colab\"/></a>"
      ]
    },
    {
      "cell_type": "markdown",
      "metadata": {
        "id": "1lVIa78h4zLw"
      },
      "source": [
        "### 그래프 한글 깨짐 방지"
      ]
    },
    {
      "cell_type": "code",
      "execution_count": 1,
      "metadata": {
        "id": "aw221VGO4zLx"
      },
      "outputs": [],
      "source": [
        "import warnings\n",
        "import matplotlib.pyplot as plt\n",
        "warnings.simplefilter(action='ignore', category=FutureWarning)\n",
        "\n",
        "plt.style.use(\"ggplot\")\n",
        "plt.rc('font', family='Malgun Gothic')"
      ]
    },
    {
      "cell_type": "markdown",
      "metadata": {
        "id": "H2Fsiaeh4zLy"
      },
      "source": [
        "### 데이터 불러오기"
      ]
    },
    {
      "cell_type": "code",
      "execution_count": 2,
      "metadata": {
        "id": "aM1RotxEYdrT"
      },
      "outputs": [],
      "source": [
        "import pandas as pd\n",
        "import os, sys\n",
        "import numpy as np\n",
        "\n",
        "df = pd.read_csv('동화데이터_최종.csv')"
      ]
    },
    {
      "cell_type": "code",
      "execution_count": 3,
      "metadata": {
        "colab": {
          "base_uri": "https://localhost:8080/",
          "height": 310
        },
        "id": "Xa8KHt28Zdgn",
        "outputId": "251a4b8d-011e-4a10-9f1c-161bb8aea6c0",
        "scrolled": true
      },
      "outputs": [
        {
          "output_type": "execute_result",
          "data": {
            "text/plain": [
              "                    제목                                                 내용  \\\n",
              "0  고양이와 쥐의 파트너십(동반자관계)  쥐를 친구로 된 어떤 고양이가 살고 있었다. \\r\\n고양이는 자신이 쥐에 대해 사랑...   \n",
              "1              건달들의 무리  하루는 수탉이 암탉에게 말했다. \\r\\n“나무열매들이 익어 가는 계절이 왔는데 슬슬...   \n",
              "2          실 잣는 세 여인네들  옛날 옛적에 게을러서 실을 잣지 않으려는 소녀가 한 명 있었어요.\\r\\n엄마가 뭐라...   \n",
              "3           지푸라기, 숯, 콩  옛날 어느 마을에 가난한 노파가 한 명 살고 있었어요.\\r\\n그녀는 접시에 콩들을 ...   \n",
              "4           생쥐, 새, 소시지  옛날 어느 날 생쥐와 새와 ‘소시지’가 동무가 되어 한 집에서 살게 되었어요.\\r\\...   \n",
              "\n",
              "     카테고리                                                키워드  테마  \n",
              "0  그림형제동화  ['고양이', '돼지 비계', '이름', '항아리', '세례', '대모', '친구'...  교회  \n",
              "1  그림형제동화           ['수탉', '암탉', '오리', '나그네', '주막 주인', '마차']  숲속  \n",
              "2  그림형제동화                   ['소녀', '엄마', '왕비', '게으름', '세여인']  왕국  \n",
              "3  그림형제동화              ['숯', '지푸라기', '콩', '탈출', '재봉사', '도움']  마을  \n",
              "4  그림형제동화               ['소시지', '생쥐', '새', '뗄감', '요리', '후회']  숲속  "
            ],
            "text/html": [
              "\n",
              "  <div id=\"df-8783982b-9d40-4926-948f-2e4d1aa32b67\" class=\"colab-df-container\">\n",
              "    <div>\n",
              "<style scoped>\n",
              "    .dataframe tbody tr th:only-of-type {\n",
              "        vertical-align: middle;\n",
              "    }\n",
              "\n",
              "    .dataframe tbody tr th {\n",
              "        vertical-align: top;\n",
              "    }\n",
              "\n",
              "    .dataframe thead th {\n",
              "        text-align: right;\n",
              "    }\n",
              "</style>\n",
              "<table border=\"1\" class=\"dataframe\">\n",
              "  <thead>\n",
              "    <tr style=\"text-align: right;\">\n",
              "      <th></th>\n",
              "      <th>제목</th>\n",
              "      <th>내용</th>\n",
              "      <th>카테고리</th>\n",
              "      <th>키워드</th>\n",
              "      <th>테마</th>\n",
              "    </tr>\n",
              "  </thead>\n",
              "  <tbody>\n",
              "    <tr>\n",
              "      <th>0</th>\n",
              "      <td>고양이와 쥐의 파트너십(동반자관계)</td>\n",
              "      <td>쥐를 친구로 된 어떤 고양이가 살고 있었다. \\r\\n고양이는 자신이 쥐에 대해 사랑...</td>\n",
              "      <td>그림형제동화</td>\n",
              "      <td>['고양이', '돼지 비계', '이름', '항아리', '세례', '대모', '친구'...</td>\n",
              "      <td>교회</td>\n",
              "    </tr>\n",
              "    <tr>\n",
              "      <th>1</th>\n",
              "      <td>건달들의 무리</td>\n",
              "      <td>하루는 수탉이 암탉에게 말했다. \\r\\n“나무열매들이 익어 가는 계절이 왔는데 슬슬...</td>\n",
              "      <td>그림형제동화</td>\n",
              "      <td>['수탉', '암탉', '오리', '나그네', '주막 주인', '마차']</td>\n",
              "      <td>숲속</td>\n",
              "    </tr>\n",
              "    <tr>\n",
              "      <th>2</th>\n",
              "      <td>실 잣는 세 여인네들</td>\n",
              "      <td>옛날 옛적에 게을러서 실을 잣지 않으려는 소녀가 한 명 있었어요.\\r\\n엄마가 뭐라...</td>\n",
              "      <td>그림형제동화</td>\n",
              "      <td>['소녀', '엄마', '왕비', '게으름', '세여인']</td>\n",
              "      <td>왕국</td>\n",
              "    </tr>\n",
              "    <tr>\n",
              "      <th>3</th>\n",
              "      <td>지푸라기, 숯, 콩</td>\n",
              "      <td>옛날 어느 마을에 가난한 노파가 한 명 살고 있었어요.\\r\\n그녀는 접시에 콩들을 ...</td>\n",
              "      <td>그림형제동화</td>\n",
              "      <td>['숯', '지푸라기', '콩', '탈출', '재봉사', '도움']</td>\n",
              "      <td>마을</td>\n",
              "    </tr>\n",
              "    <tr>\n",
              "      <th>4</th>\n",
              "      <td>생쥐, 새, 소시지</td>\n",
              "      <td>옛날 어느 날 생쥐와 새와 ‘소시지’가 동무가 되어 한 집에서 살게 되었어요.\\r\\...</td>\n",
              "      <td>그림형제동화</td>\n",
              "      <td>['소시지', '생쥐', '새', '뗄감', '요리', '후회']</td>\n",
              "      <td>숲속</td>\n",
              "    </tr>\n",
              "  </tbody>\n",
              "</table>\n",
              "</div>\n",
              "    <div class=\"colab-df-buttons\">\n",
              "\n",
              "  <div class=\"colab-df-container\">\n",
              "    <button class=\"colab-df-convert\" onclick=\"convertToInteractive('df-8783982b-9d40-4926-948f-2e4d1aa32b67')\"\n",
              "            title=\"Convert this dataframe to an interactive table.\"\n",
              "            style=\"display:none;\">\n",
              "\n",
              "  <svg xmlns=\"http://www.w3.org/2000/svg\" height=\"24px\" viewBox=\"0 -960 960 960\">\n",
              "    <path d=\"M120-120v-720h720v720H120Zm60-500h600v-160H180v160Zm220 220h160v-160H400v160Zm0 220h160v-160H400v160ZM180-400h160v-160H180v160Zm440 0h160v-160H620v160ZM180-180h160v-160H180v160Zm440 0h160v-160H620v160Z\"/>\n",
              "  </svg>\n",
              "    </button>\n",
              "\n",
              "  <style>\n",
              "    .colab-df-container {\n",
              "      display:flex;\n",
              "      gap: 12px;\n",
              "    }\n",
              "\n",
              "    .colab-df-convert {\n",
              "      background-color: #E8F0FE;\n",
              "      border: none;\n",
              "      border-radius: 50%;\n",
              "      cursor: pointer;\n",
              "      display: none;\n",
              "      fill: #1967D2;\n",
              "      height: 32px;\n",
              "      padding: 0 0 0 0;\n",
              "      width: 32px;\n",
              "    }\n",
              "\n",
              "    .colab-df-convert:hover {\n",
              "      background-color: #E2EBFA;\n",
              "      box-shadow: 0px 1px 2px rgba(60, 64, 67, 0.3), 0px 1px 3px 1px rgba(60, 64, 67, 0.15);\n",
              "      fill: #174EA6;\n",
              "    }\n",
              "\n",
              "    .colab-df-buttons div {\n",
              "      margin-bottom: 4px;\n",
              "    }\n",
              "\n",
              "    [theme=dark] .colab-df-convert {\n",
              "      background-color: #3B4455;\n",
              "      fill: #D2E3FC;\n",
              "    }\n",
              "\n",
              "    [theme=dark] .colab-df-convert:hover {\n",
              "      background-color: #434B5C;\n",
              "      box-shadow: 0px 1px 3px 1px rgba(0, 0, 0, 0.15);\n",
              "      filter: drop-shadow(0px 1px 2px rgba(0, 0, 0, 0.3));\n",
              "      fill: #FFFFFF;\n",
              "    }\n",
              "  </style>\n",
              "\n",
              "    <script>\n",
              "      const buttonEl =\n",
              "        document.querySelector('#df-8783982b-9d40-4926-948f-2e4d1aa32b67 button.colab-df-convert');\n",
              "      buttonEl.style.display =\n",
              "        google.colab.kernel.accessAllowed ? 'block' : 'none';\n",
              "\n",
              "      async function convertToInteractive(key) {\n",
              "        const element = document.querySelector('#df-8783982b-9d40-4926-948f-2e4d1aa32b67');\n",
              "        const dataTable =\n",
              "          await google.colab.kernel.invokeFunction('convertToInteractive',\n",
              "                                                    [key], {});\n",
              "        if (!dataTable) return;\n",
              "\n",
              "        const docLinkHtml = 'Like what you see? Visit the ' +\n",
              "          '<a target=\"_blank\" href=https://colab.research.google.com/notebooks/data_table.ipynb>data table notebook</a>'\n",
              "          + ' to learn more about interactive tables.';\n",
              "        element.innerHTML = '';\n",
              "        dataTable['output_type'] = 'display_data';\n",
              "        await google.colab.output.renderOutput(dataTable, element);\n",
              "        const docLink = document.createElement('div');\n",
              "        docLink.innerHTML = docLinkHtml;\n",
              "        element.appendChild(docLink);\n",
              "      }\n",
              "    </script>\n",
              "  </div>\n",
              "\n",
              "\n",
              "<div id=\"df-8afcd9a4-4fd4-4f30-b62d-8457a6988d9d\">\n",
              "  <button class=\"colab-df-quickchart\" onclick=\"quickchart('df-8afcd9a4-4fd4-4f30-b62d-8457a6988d9d')\"\n",
              "            title=\"Suggest charts\"\n",
              "            style=\"display:none;\">\n",
              "\n",
              "<svg xmlns=\"http://www.w3.org/2000/svg\" height=\"24px\"viewBox=\"0 0 24 24\"\n",
              "     width=\"24px\">\n",
              "    <g>\n",
              "        <path d=\"M19 3H5c-1.1 0-2 .9-2 2v14c0 1.1.9 2 2 2h14c1.1 0 2-.9 2-2V5c0-1.1-.9-2-2-2zM9 17H7v-7h2v7zm4 0h-2V7h2v10zm4 0h-2v-4h2v4z\"/>\n",
              "    </g>\n",
              "</svg>\n",
              "  </button>\n",
              "\n",
              "<style>\n",
              "  .colab-df-quickchart {\n",
              "      --bg-color: #E8F0FE;\n",
              "      --fill-color: #1967D2;\n",
              "      --hover-bg-color: #E2EBFA;\n",
              "      --hover-fill-color: #174EA6;\n",
              "      --disabled-fill-color: #AAA;\n",
              "      --disabled-bg-color: #DDD;\n",
              "  }\n",
              "\n",
              "  [theme=dark] .colab-df-quickchart {\n",
              "      --bg-color: #3B4455;\n",
              "      --fill-color: #D2E3FC;\n",
              "      --hover-bg-color: #434B5C;\n",
              "      --hover-fill-color: #FFFFFF;\n",
              "      --disabled-bg-color: #3B4455;\n",
              "      --disabled-fill-color: #666;\n",
              "  }\n",
              "\n",
              "  .colab-df-quickchart {\n",
              "    background-color: var(--bg-color);\n",
              "    border: none;\n",
              "    border-radius: 50%;\n",
              "    cursor: pointer;\n",
              "    display: none;\n",
              "    fill: var(--fill-color);\n",
              "    height: 32px;\n",
              "    padding: 0;\n",
              "    width: 32px;\n",
              "  }\n",
              "\n",
              "  .colab-df-quickchart:hover {\n",
              "    background-color: var(--hover-bg-color);\n",
              "    box-shadow: 0 1px 2px rgba(60, 64, 67, 0.3), 0 1px 3px 1px rgba(60, 64, 67, 0.15);\n",
              "    fill: var(--button-hover-fill-color);\n",
              "  }\n",
              "\n",
              "  .colab-df-quickchart-complete:disabled,\n",
              "  .colab-df-quickchart-complete:disabled:hover {\n",
              "    background-color: var(--disabled-bg-color);\n",
              "    fill: var(--disabled-fill-color);\n",
              "    box-shadow: none;\n",
              "  }\n",
              "\n",
              "  .colab-df-spinner {\n",
              "    border: 2px solid var(--fill-color);\n",
              "    border-color: transparent;\n",
              "    border-bottom-color: var(--fill-color);\n",
              "    animation:\n",
              "      spin 1s steps(1) infinite;\n",
              "  }\n",
              "\n",
              "  @keyframes spin {\n",
              "    0% {\n",
              "      border-color: transparent;\n",
              "      border-bottom-color: var(--fill-color);\n",
              "      border-left-color: var(--fill-color);\n",
              "    }\n",
              "    20% {\n",
              "      border-color: transparent;\n",
              "      border-left-color: var(--fill-color);\n",
              "      border-top-color: var(--fill-color);\n",
              "    }\n",
              "    30% {\n",
              "      border-color: transparent;\n",
              "      border-left-color: var(--fill-color);\n",
              "      border-top-color: var(--fill-color);\n",
              "      border-right-color: var(--fill-color);\n",
              "    }\n",
              "    40% {\n",
              "      border-color: transparent;\n",
              "      border-right-color: var(--fill-color);\n",
              "      border-top-color: var(--fill-color);\n",
              "    }\n",
              "    60% {\n",
              "      border-color: transparent;\n",
              "      border-right-color: var(--fill-color);\n",
              "    }\n",
              "    80% {\n",
              "      border-color: transparent;\n",
              "      border-right-color: var(--fill-color);\n",
              "      border-bottom-color: var(--fill-color);\n",
              "    }\n",
              "    90% {\n",
              "      border-color: transparent;\n",
              "      border-bottom-color: var(--fill-color);\n",
              "    }\n",
              "  }\n",
              "</style>\n",
              "\n",
              "  <script>\n",
              "    async function quickchart(key) {\n",
              "      const quickchartButtonEl =\n",
              "        document.querySelector('#' + key + ' button');\n",
              "      quickchartButtonEl.disabled = true;  // To prevent multiple clicks.\n",
              "      quickchartButtonEl.classList.add('colab-df-spinner');\n",
              "      try {\n",
              "        const charts = await google.colab.kernel.invokeFunction(\n",
              "            'suggestCharts', [key], {});\n",
              "      } catch (error) {\n",
              "        console.error('Error during call to suggestCharts:', error);\n",
              "      }\n",
              "      quickchartButtonEl.classList.remove('colab-df-spinner');\n",
              "      quickchartButtonEl.classList.add('colab-df-quickchart-complete');\n",
              "    }\n",
              "    (() => {\n",
              "      let quickchartButtonEl =\n",
              "        document.querySelector('#df-8afcd9a4-4fd4-4f30-b62d-8457a6988d9d button');\n",
              "      quickchartButtonEl.style.display =\n",
              "        google.colab.kernel.accessAllowed ? 'block' : 'none';\n",
              "    })();\n",
              "  </script>\n",
              "</div>\n",
              "\n",
              "    </div>\n",
              "  </div>\n"
            ],
            "application/vnd.google.colaboratory.intrinsic+json": {
              "type": "dataframe",
              "variable_name": "df",
              "summary": "{\n  \"name\": \"df\",\n  \"rows\": 442,\n  \"fields\": [\n    {\n      \"column\": \"\\uc81c\\ubaa9\",\n      \"properties\": {\n        \"dtype\": \"string\",\n        \"num_unique_values\": 440,\n        \"samples\": [\n          \"\\uc5fc\\uc18c\\uc640 \\ub2f9\\ub098\\uadc0\",\n          \"\\uc131\\ubaa8 \\ub9c8\\ub9ac\\uc544\\uc758 \\uc791\\uc740 \\uc794\",\n          \"\\ub9dd\\ubd80\\uc11d \\uc7ac\\ud310\"\n        ],\n        \"semantic_type\": \"\",\n        \"description\": \"\"\n      }\n    },\n    {\n      \"column\": \"\\ub0b4\\uc6a9\",\n      \"properties\": {\n        \"dtype\": \"string\",\n        \"num_unique_values\": 442,\n        \"samples\": [\n          \"\\uc591\\uc6b0\\ub9ac\\uc5d0\\uc11c \\uc0c8\\ub07c \\uc591\\uc744 \\ud6d4\\uce5c \\ub291\\ub300\\uac00 \\uc790\\uae30 \\uad74\\ub85c \\uac00\\ub2e4 \\uae38\\uc5d0 \\uc788\\ub358 \\uc0ac\\uc790\\uc640 \\ub9c8\\uc8fc\\ucce4\\uc5b4\\uc694.\\r\\n\\uc0ac\\uc790\\ub294 \\ub291\\ub300\\uc5d0\\uac8c\\uc11c \\uc0c8\\ub07c \\uc591\\uc744 \\ube7c\\uc557\\uc544\\uac00 \\ubc84\\ub838\\uc5b4\\uc694.\\r\\n\\r\\n\\r\\n\\uc548\\uc804\\ud55c \\uac70\\ub9ac\\uae4c\\uc9c0 \\ub2ec\\uc544\\ub09c \\ub291\\ub300\\uac00 \\uc678\\ucce4\\uc5b4\\uc694.\\r\\n\\u201c\\uc57c \\uc774 \\uae61\\ud328\\uc57c, \\uc65c \\ub0a8\\uc758 \\uac83\\uc744 \\ube7c\\uc557\\ub294 \\uac70\\ub2c8!\\u201d\\r\\n\\uc774\\uc5d0 \\uc0ac\\uc790\\uac00 \\uc870\\ub871\\ud558\\ub4ef\\uc774 \\ub291\\ub300\\uc5d0\\uac8c \\ub9d0\\ud588\\uc9c0\\uc694.\\r\\n\\u201c\\uadf8\\ub7f0 \\ub10c \\uc774 \\uc591\\uc744 \\uc815\\ub2f9\\ud558\\uac8c \\uc5bb\\uc5c8\\ub0d0, \\uc5b4? \\uce5c\\uad6c\\uac00 \\uc120\\ubb3c\\ub85c \\uc8fc\\ub4e0?\\u201d\",\n          \"\\ub18d\\ubd80\\uac00 \\ub36b\\uc5d0 \\uac78\\ub9b0 \\ub3c5\\uc218\\ub9ac\\ub97c \\ubc1c\\uacac\\ud588\\uc5b4\\uc694. \\uadf8\\ub807\\uc9c0\\ub9cc \\ud3c9\\uc18c \\ub3c5\\uc218\\ub9ac\\ub97c \\uc22d\\ubc30\\ud574\\uc654\\ub358 \\ub18d\\ubd80\\ub294 \\ub193\\uc544\\uc8fc\\uc5c8\\uc8e0.\\r\\n\\ud480\\ub824\\ub09c \\ub3c5\\uc218\\ub9ac\\ub294 \\uc740\\ud61c\\ub97c \\ubaa8\\ub974\\ub294 \\ubc30\\uc740\\ub9dd\\ub355\\ud55c \\ub3c5\\uc218\\ub9ac\\uac00 \\uc544\\ub2c8\\uc5c8\\ub2f5\\ub2c8\\ub2e4.\\r\\n\\uc65c\\ub0d0\\uba74 \\ub18d\\ubd80\\uac00 \\uc4f0\\ub7ec\\uc9c0\\ub824\\ub294 \\ubcbd \\uc544\\ub798\\uc5d0 \\uc549\\uc544 \\uc788\\uc744 \\ub54c, \\uadf8 \\ub3c5\\uc218\\ub9ac\\uac00 \\ub0a0\\uc544\\uc640\\uc120 \\uc0c1\\uacf5\\uc744 \\ub9f4\\ub3cc\\ub2e4\\uac00 \\ub18d\\ubd80\\uc758 \\uba38\\ub9ac\\uc5d0\\uc11c \\ubaa8\\uc790\\ub97c \\uc790\\uc2e0\\uc758 \\ubc1c\\ud1b1\\uc73c\\ub85c \\ub09a\\uc544\\ucc44\\uac14\\uae30 \\ub54c\\ubb38\\uc774\\uc9c0\\uc694.\\r\\n\\ub18d\\ubd80\\uac00 \\ucad3\\uc73c\\ub824\\uace0 \\uc77c\\uc5b4\\ub098\\uc790 \\ub3c5\\uc218\\ub9ac\\uac00 \\ub2e4\\uc2dc \\ubaa8\\uc790\\ub97c \\ub5a8\\uc5b4\\ub728\\ub824\\uc8fc\\uc5c8\\uc5b4\\uc694.\\r\\n\\ubaa8\\uc790\\ub97c \\uc9d1\\uc5b4\\ub4e0 \\ub18d\\ubd80\\uac00 \\uc544\\uae4c \\uadf8 \\uc7a5\\uc18c\\ub85c \\ub3cc\\uc544\\uc640 \\ubcf4\\ub2c8 \\uc544 \\uae00\\uc384 \\uc790\\uc2e0\\uc774 \\uc549\\uc544 \\uc788\\ub358 \\uadf8 \\ubcbd\\uc774 \\ubb34\\ub108\\uc838\\ub0b4\\ub824 \\uc788\\uc9c0 \\uc54a\\uaca0\\uc5b4\\uc694.\\r\\n\\uadf8\\uc81c\\uc57c \\ub18d\\ubd80\\ub294 \\ub3c5\\uc218\\ub9ac\\uac00 \\uc790\\uc2e0\\uc744 \\uad6c\\ud574\\uc900 \\uac83\\uc744 \\uc54c\\uace0 \\uc2e0\\uae30\\ud574\\ud588\\ub2f5\\ub2c8\\ub2e4.\",\n          \"\\ub538 \\ud558\\ub098\\ub97c \\ub454 \\uc655\\uc774 \\uc788\\uc5c8\\uc5b4\\uc694.\\r\\n\\uadf8\\ub798\\uc11c \\uc655\\uc740 \\uc720\\ub9ac\\uc0b0\\uc744 \\ub9cc\\ub4e4\\uac8c \\ud574 \\ub204\\uad6c\\ub4e0 \\uc774 \\uc0b0\\uc5d0\\uc11c \\ub5a8\\uc5b4\\uc9c0\\uc9c0 \\uc54a\\uace0 \\ubc18\\ub300\\ud3b8\\uae4c\\uc9c0 \\uac00\\ub294 \\uc0ac\\ub78c\\uc5d0\\uac8c \\uc790\\uc2e0\\uc758 \\ub538\\uc744 \\uc544\\ub0b4\\ub85c \\uc8fc\\uaca0\\ub2e4\\uace0 \\ub9d0\\ud588\\uc5b4\\uc694.\\r\\n\\uadf8\\ub54c \\uacf5\\uc8fc\\ub2d8\\uc744 \\uc0ac\\ub791\\ud558\\ub358 \\uc790\\uac00 \\uc788\\uc5c8\\ub294\\ub370, \\uadf8\\uac00 \\ub098\\uc11c\\uba70 \\uc790\\uc2e0\\uc774 \\ud55c \\ubc88 \\ud574\\ubd10\\ub3c4 \\ub418\\uaca0\\ub290\\ub0d0\\uace0 \\ubb3c\\uc5c8\\uc5b4\\uc694.\\r\\n\\u201c\\uadf8\\ub798,\\u201d\\ub77c\\uba70 \\uc655\\uc774 \\ub9d0\\ud588\\uc5b4\\uc694. \\u201c\\ub5a8\\uc5b4\\uc9c0\\uc9c0 \\uc54a\\uace0 \\uc0b0\\ub9cc \\ub118\\ub294\\ub2e4\\uba74 \\uadf8 \\uc560\\ub97c \\uc8fc\\ub9c8.\\u201d\\r\\n\\uadf8\\ub7ec\\uc790 \\uacf5\\uc8fc\\ub2d8\\ub3c4 \\uadf8\\uc640 \\ud568\\uaed8 \\uac00\\uaca0\\ub2e4\\uace0 \\ub9d0\\ud588\\uc5b4\\uc694. \\uadf8\\uac00 \\ubbf8\\ub044\\ub7ec\\uc9c0\\uc9c0 \\uc54a\\ub3c4\\ub85d \\uaf2d \\uc7a1\\uc544\\uc8fc\\uaca0\\ub2e4\\uba74\\uc11c\\uc694.\\r\\n\\r\\n\\r\\n\\uadf8\\ub9ac\\ud558\\uc5ec \\uadf8\\ub4e4\\uc774 \\uc0b0\\uc744 \\ub118\\uc73c\\ub824 \\ud568\\uaed8 \\ucd9c\\ubc1c\\ud588\\uc8e0.\\r\\n\\ubc18\\ucbe4 \\ub118\\uc5c8\\uc744 \\ub54c \\uacf5\\uc8fc\\ub2d8\\uc774 \\uadf8\\ub9cc \\ubbf8\\ub044\\ub7ec\\uc838 \\ub5a8\\uc5b4\\uc9c0\\uace0 \\ub9d0\\uc558\\ub294\\ub370 \\uc21c\\uac04 \\uc720\\ub9ac\\uc0b0\\uc774 \\uc5f4\\ub9ac\\uba70 \\uadf8\\ub140\\ub97c \\ub365\\uc11d \\uc0bc\\ud0a4\\uace4 \\ub2eb\\ud600\\ubc84\\ub838\\uc5b4\\uc694. \\r\\n\\uadf8\\ub798\\uc11c \\uadf8\\ub140\\uc758 \\uc57d\\ud63c\\uc790\\ub294 \\uadf8\\ub140\\uac00 \\uc5b4\\ub514\\ub85c \\uc0ac\\ub77c\\uc84c\\ub294\\uc9c0 \\uc54c \\uae38\\uc774 \\uc5c6\\uc5c8\\uc9c0\\uc694. \\uc65c\\ub0d0\\uba74 \\uc0b0\\uc774 \\ub108\\ubb34\\ub3c4 \\uc21c\\uc2dd\\uac04\\uc5d0 \\ub2eb\\ud600\\ubc84\\ub838\\uac70\\ub4e0\\uc694.\\r\\n\\uadf8\\ub294 \\uc6b8\\uba70 \\ub108\\ubb34\\ub3c4 \\uc0c1\\uc2ec\\ud588\\uc5b4\\uc694.\\r\\n\\uc655\\ub3c4 \\ube44\\ucc38\\ud558\\uae34 \\ub9c8\\ucc2c\\uac00\\uc9c0\\uc600\\uc5b4\\uc694. \\uadf8\\ub798\\uc11c \\uc0b0\\uc744 \\ubd80\\uc218\\uace0 \\uadf8\\ub140\\uac00 \\uc5b4\\ub514\\ub85c \\uac14\\ub294\\uc9c0 \\ucc3e\\uac8c \\ud588\\uc5b4\\uc694. \\uadf8\\ub7ec\\uba74 \\uadf8\\ub140\\ub97c \\ub2e4\\uc2dc \\ucc3e\\uc744 \\uc218 \\uc788\\uc744 \\uac83\\ub9cc \\uac19\\uc558\\uac70\\ub4e0\\uc694. \\ud558\\uc9c0\\ub9cc \\uc544\\ubb34\\ub3c4 \\uadf8\\ub140\\uac00 \\ub5a8\\uc5b4\\uc9c4 \\uacf3\\uc744 \\ucc3e\\uc744 \\uc218 \\uc5c6\\uc5c8\\uc5b4\\uc694.\\r\\n\\r\\n\\r\\n\\ud55c\\ud3b8 \\uacf5\\uc8fc\\ub2d8\\uc740 \\ub545\\uc18d\\uc5d0 \\uc788\\ub358 \\uae4a\\uace0 \\uae4a\\uc740 \\ub3d9\\uad74 \\uc18d\\uc73c\\ub85c \\uae4a\\uc219\\uc774 \\ub5a8\\uc5b4\\uc9c0\\uace0 \\ub9d0\\uc558\\uc5b4\\uc694.\\r\\n\\uc544\\uc8fc \\uae30\\ub2e4\\ub780 \\ud68c\\uc0c9 \\uc218\\uc5fc\\uc744 \\ud55c \\ub299\\uc740\\uc774\\uac00 \\ub098\\uc640 \\uadf8\\ub140\\ub97c \\ub9c8\\uc911\\ud558\\uba70 \\uc774\\uc81c\\ubd80\\ud130 \\uadf8\\ub140\\ub294 \\uc790\\uc2e0\\uc758 \\ud558\\ub140\\uac00 \\ub418\\uc5b4 \\uc2dc\\ud0a4\\ub294 \\ub300\\ub85c \\ud574\\uc57c \\ud55c\\ub2e4\\uace0 \\ub9d0\\ud588\\uc5b4\\uc694. \\uadf8\\ub7fc \\uc0b4\\ub824\\uc8fc\\uaca0\\uc9c0\\ub9cc, \\uadf8\\ub7ec\\uc9c0 \\uc54a\\uc74c \\uc8fd\\uc774\\uaca0\\ub2e4\\uace0 \\uadf8\\uac00 \\ub9d0\\ud588\\uc5b4\\uc694.\\r\\n\\uadf8\\ub798\\uc11c \\uadf8\\ub140\\ub294 \\uadf8\\uac00 \\uc2dc\\ud0a4\\ub294 \\ubaa8\\ub4e0 \\uac78 \\ud588\\uc5b4\\uc694.\\r\\n\\uc544\\uce68\\uc774\\uba74 \\uadf8\\ub294 \\uc790\\uc2e0\\uc758 \\ud638\\uc8fc\\uba38\\ub2c8 \\uc18d\\uc5d0\\uc11c \\uc0ac\\ub2e4\\ub9ac\\ub97c \\uaebc\\ub0b4 \\uc0b0\\uc744 \\ud5a5\\ud574 \\ub193\\uace4 \\uaf2d\\ub300\\uae30\\uae4c\\uc9c0 \\uc62c\\ub77c\\uac14\\uc9c0\\uc694. \\uadf8\\ub7f0 \\ub2e4\\uc74c\\uc774\\uba74 \\uc5b4\\uae40\\uc5c6\\uc774 \\uc0ac\\ub2e4\\ub9ac\\ub97c \\ub4e4\\uc5b4 \\uc62c\\ub824 \\ubc84\\ub838\\uc5b4\\uc694.\\r\\n\\uacf5\\uc8fc\\ub294 \\uadf8\\uc758 \\uc2dd\\uc0ac\\ub97c \\uc900\\ube44\\ud574\\uc57c\\ud588\\uace0\\uc694, \\uce68\\ub300\\ub97c \\uc815\\ub3c8\\ud574\\uc57c\\ud588\\uace0\\uc694, \\uadf8\\uc758 \\uc77c\\uc744 \\ub2e4 \\ud588\\uc5b4\\uc694. \\r\\n\\uadf8\\ub9ac\\uace0 \\ub3cc\\uc544\\uc62c \\ub54c\\uba74 \\uadf8\\ub294 \\ud56d\\uc0c1 \\uae08\\ud654\\uc640 \\uc740\\ud654\\ub97c \\uc218\\ubd81\\uc774 \\uac00\\uc9c0\\uace0 \\uc654\\uc5b4\\uc694.\\r\\n\\uc218\\ub144\\uc744 \\uadf8\\uc640 \\ud568\\uaed8 \\uc0b4\\ub2e4\\ubcf4\\ub2c8 \\uadf8\\ub140\\ub3c4 \\ub098\\uc774\\ub97c \\uc544\\uc8fc \\ub4e4\\uac8c \\ub418\\uc5c8\\ub2f5\\ub2c8\\ub2e4. \\r\\n\\r\\n\\r\\n\\uadf8\\ub7ec\\uc790 \\uadf8\\uac00 \\uadf8\\ub140\\ub97c \\u2018\\ub9cc\\uc2a4\\ub85c\\ud2b8 \\uc544\\uc90c\\ub9c8\\u2019\\ub77c\\uace0 \\ubd88\\ub800\\uc5b4\\uc694. \\uadf8\\ub9ac\\uace0 \\uadf8\\ub140\\ub3c4 \\uadf8\\ub97c \\u2018\\ub299\\uc740\\u2019 \\u2018\\ub9c1\\ud06c\\ub791\\ud06c\\u2019\\ub77c\\uace0 \\ubd88\\ub800\\uc9c0\\uc694.\\r\\n\\ud55c\\ubc88\\uc740 \\uadf8\\uac00 \\uc678\\ucd9c\\ud588\\uc744 \\ub54c, \\uadf8\\ub140\\ub294 \\uadf8\\uc758 \\uce68\\ub300\\ub97c \\uc815\\ub3c8\\ud558\\uace0 \\uc124\\uac70\\uc9c0\\ub97c \\ud558\\uace4 \\ubb38\\uacfc \\ucc3d\\ubb38\\uc744 \\ubaa8\\ub450 \\ub2e8\\ub2e8\\ud788 \\ub2eb\\uace0\\ub294, \\ube5b\\uc774 \\ub4e4\\uc5b4\\uc624\\ub294 \\uc791\\uc740 \\ucc3d\\ubb38 \\ud558\\ub098\\ub9cc \\uc5f4\\uc5b4\\ub193\\uc558\\uc5b4\\uc694.\\r\\n\\ub299\\uc740 \\ub9c1\\ud06c\\ub791\\ud06c\\uac00 \\uc9d1\\uc5d0 \\uc640 \\ubb38\\uc744 \\ub178\\ud06c\\ud558\\uba70 \\uc18c\\ub9ac\\ucce4\\uc5b4\\uc694.\\r\\n\\u201c\\ub9cc\\uc2a4\\ub85c\\ud2b8 \\uc544\\uc90c\\ub9c8, \\ubb38 \\uc5f4\\uc5b4.\\u201d\\r\\n\\u201c\\uc544\\ub2c8\\uc694,\\u201d\\ub77c\\uba70 \\uadf8\\ub140\\uac00 \\ub9d0\\ud588\\uc5b4\\uc694. \\u201c\\ub299\\uc740 \\ub9c1\\ud06c\\ub791\\ud06c, \\uc804 \\ub2f9\\uc2e0\\uc5d0\\uac8c \\ubb38\\uc744 \\uc5f4\\uc5b4\\uc8fc\\uc9c0 \\uc54a\\uc744 \\uac70\\uc608\\uc694.\\u201d\\r\\n\\uadf8\\ub7ec\\uc790 \\uadf8\\uac00 \\ub9d0\\ud588\\uc5b4\\uc694.\\r\\n\\u201c\\ubd88\\uc30d\\ud55c \\ub9c1\\ud06c\\ub791\\ud06c, \\ub098 \\uc5ec\\uae30 \\uc11c \\uc788\\ub124, \\uc5f4\\uc77c\\uacf1 \\uae38\\uc774\\uc758 \\ub2e4\\ub9ac\\ub85c, \\uc9c0\\uce58\\uace0 \\ud53c\\uace4\\ud55c \\ubc1c\\ub85c, \\ub0b4 \\uc811\\uc2dc\\ub4e4\\uc744 \\ub2e6\\uc544\\uc57c\\uc9c0, \\ub9cc\\uc2a4\\ub85c\\ud2b8 \\uc544\\uc90c\\ub9c8.\\u201d\\r\\n\\u201c\\ub2f9\\uc2e0 \\uc811\\uc2dc\\ub4e4\\uc740 \\uc774\\ubbf8 \\ub2e4 \\ub2e6\\uc558\\uc5b4\\uc694.\\u201d\\ub77c\\uba70 \\uadf8\\ub140\\uac00 \\ub9d0\\ud588\\uc5b4\\uc694.\\r\\n\\uadf8\\ub7ec\\uc790 \\uadf8\\uac00 \\ub2e4\\uc2dc \\ub9d0\\ud588\\uc5b4\\uc694.\\r\\n\\u201c\\ubd88\\uc30d\\ud55c \\ub9c1\\ud06c\\ub791\\ud06c, \\ub098 \\uc5ec\\uae30 \\uc11c \\uc788\\ub124, \\uc5f4\\uc77c\\uacf1 \\uae38\\uc774\\uc758 \\ub2e4\\ub9ac\\ub85c, \\uc9c0\\uce58\\uace0 \\ud53c\\uace4\\ud55c \\ubc1c\\ub85c, \\ub0b4 \\uce68\\ub300\\ub97c \\uc815\\ub3c8\\ud574\\uc57c\\uc9c0, \\ub9cc\\uc2a4\\ub85c\\ud2b8 \\uc544\\uc90c\\ub9c8.\\u201d\\r\\n\\u201c\\ub2f9\\uc2e0 \\uce68\\ub300 \\ubc8c\\uc368 \\ub2e4 \\uc815\\ub3c8\\ud588\\uc5b4\\uc694.\\u201d\\ub77c\\uba70 \\uadf8\\ub140\\uac00 \\ub9d0\\ud588\\uc5b4\\uc694.\\r\\n\\uadf8\\ub7ec\\uc790 \\uadf8\\uac00 \\ub2e4\\uc2dc \\ub9d0\\ud588\\uc5b4\\uc694.\\r\\n\\u201c\\ubd88\\uc30d\\ud55c \\ub9c1\\ud06c\\ub791\\ud06c, \\ub098 \\uc5ec\\uae30 \\uc11c \\uc788\\ub124, \\uc5f4\\uc77c\\uacf1 \\uae38\\uc774\\uc758 \\ub2e4\\ub9ac\\ub85c, \\uc9c0\\uce58\\uace0 \\ud53c\\uace4\\ud55c \\ubc1c\\ub85c, \\ubb38 \\uc5f4\\uc5b4, \\ub9cc\\uc2a4\\ub85c\\ud2b8 \\uc544\\uc90c\\ub9c8.\\u201d\\r\\n\\uadf8\\ub7f0 \\ub2e4\\uc74c \\uadf8\\uac00 \\uc790\\uae30 \\uc9d1\\uc744 \\uc0ac\\ubc29\\uc73c\\ub85c \\uc0b4\\ud3c8\\ub294\\ub370 \\ub9c8\\uce68 \\uc791\\uc740 \\ucc3d\\ubb38 \\ud558\\ub098\\uac00 \\uc5f4\\ub7ec \\uc788\\ub294 \\uac8c \\ub208\\uc5d0 \\ub4e4\\uc5b4\\uc654\\uc5b4\\uc694.\\r\\n\\uadf8\\uac00 \\uc0dd\\uac01\\ud588\\uc5b4\\uc694.\\r\\n\\u2018\\uadf8\\ub140\\uac00 \\ubb34\\uc5bc \\ud558\\uae30\\uc5d0 \\uc774\\ub807\\uac8c \\ubb38\\uc744 \\uc548 \\uc5f4\\uc5b4\\uc8fc\\ub824\\ub294 \\uac74\\uc9c0 \\ub0b4\\uac00 \\uc880 \\ub4e4\\uc5ec\\ub2e4\\ubd10\\uc57c\\uaca0\\ub2e4.\\u201c\\r\\n\\r\\n\\r\\n\\uadf8\\uac00 \\uc548\\uc744 \\uc5ff\\ubcf4\\ub824\\uace0 \\ud558\\ub294\\ub370 \\uace0\\uac1c\\ub97c \\ucc3d\\uc5d0 \\uc9d1\\uc5b4\\ub123\\uc744 \\uc218\\uac00 \\uc5c6\\uc5c8\\uc5b4\\uc694. \\uc218\\uc5fc\\uc774 \\ub108\\ubb34 \\uae38\\uc5c8\\uae30 \\ub54c\\ubb38\\uc774\\uc8e0.\\r\\n\\uadf8\\ub798\\uc11c \\uadf8\\uac00 \\ud131\\uc218\\uc5fc\\uc744 \\uba3c\\uc800 \\uc5f4\\ub9b0 \\ucc3d\\ubb38\\uc744 \\ud1b5\\ud574 \\uc9d1\\uc5b4\\ub123\\uc5c8\\ub294\\ub370, \\uadf8\\uac00 \\uc218\\uc5fc\\uc744 \\ub2e4 \\uc9d1\\uc5b4\\ub123\\uc790\\ub9c8\\uc790, \\ub9cc\\uc2a4\\ub85c\\ud2b8 \\uc544\\uc90c\\ub9c8\\uac00 \\ub0c9\\ud07c \\uc624\\ub354\\ub2c8 \\ucc3d\\ubb38 \\uc904\\uc744 \\uc544\\ub798\\ub85c \\ub2f9\\uaca8\\ubc84\\ub838\\uc5b4\\uc694. \\uadf8\\ub140\\uac00 \\ubbf8\\ub9ac \\ubb36\\uc5b4\\ub193\\uc558\\ub358 \\uc904\\uc774\\uc5c8\\uc9c0\\uc694. \\uadf8\\ub798\\uc11c \\uadf8\\uc758 \\ud131\\uc218\\uc5fc\\uc774 \\ucc3d\\ubb38 \\ud2c8\\uc5d0 \\ub2e8\\ub2e8\\ud788 \\ub07c\\uc774\\uace0 \\ub9d0\\uc558\\uc5b4\\uc694.\\r\\n\\uadf8\\ub7ec\\uc790 \\uadf8\\uac00 \\ubab9\\uc2dc\\ub3c4 \\uc2ac\\ud504\\uac8c \\uc6b8\\uae30 \\uc2dc\\uc791\\ud588\\uc5b4\\uc694. \\uc65c\\ub0d0\\uba74 \\ub108\\ubb34\\ub3c4 \\uc544\\ud320\\ub358 \\uac70\\uc9c0\\uc694, \\uadf8\\ub798\\uc11c \\uadf8\\uac00 \\uadf8\\ub140\\ubcf4\\uace0 \\uc81c\\ubc1c \\uc880 \\ud480\\uc5b4\\ub2ec\\ub77c\\uba70 \\uac04\\uccad\\ud588\\uc5b4\\uc694.\\r\\n\\ud558\\uc9c0\\ub9cc \\uadf8\\ub140\\ub294, \\uadf8\\uac00 \\uc0b0\\uc5d0 \\uc624\\ub97c \\ub54c \\uc0ac\\uc6a9\\ud558\\ub294 \\uadf8 \\uc0ac\\ub2e4\\ub9ac\\ub97c \\ub0b4\\uc5b4\\uc904 \\ub54c\\uae4c\\uc9c0\\ub294 \\ubabb \\ub193\\uc544\\uc8fc\\uaca0\\ub2e4\\uace0 \\ub9d0\\ud588\\uc5b4\\uc694.\\r\\n\\uadf8\\ub798\\uc11c \\uadf8\\ub294 \\uc0ac\\ub2e4\\ub9ac\\uac00 \\uc788\\ub294 \\uc704\\uce58\\ub97c \\uadf8\\ub140\\uc5d0\\uac8c \\ub9d0\\ud574\\uc8fc\\uc5b4\\uc57c \\ud588\\uc9c0\\uc694.\\r\\n\\uadf8\\ub9ac\\uace0 \\uadf8\\ub140\\ub294 \\uadf8 \\ucc3d\\ubb38\\uc5d0 \\uc544\\uc8fc \\uae34 \\ub9ac\\ubcf8\\uc744 \\ub9e4\\ub2e8 \\ub2e4\\uc74c \\uc0ac\\ub2e4\\ub9ac\\ub97c \\ubcbd\\uc5d0\\ub2e4 \\ub300\\uace0 \\uc0b0\\uc73c\\ub85c \\uc62c\\ub77c\\uac14\\uc5b4\\uc694. \\uc0b0\\uaf2d\\ub300\\uae30\\uc5d0 \\ub2ff\\uc558\\uc744 \\ub54c \\uadf8\\ub140\\uac00 \\ucc3d\\ubb38\\uc744 \\uc5f4\\uc5b4\\uc8fc\\uc5c8\\uc5b4\\uc694.\\r\\n\\r\\n\\r\\n\\uadf8\\ub140\\ub294 \\uc544\\ube60\\uc5d0\\uac8c\\ub85c \\uac00 \\uadf8\\ub3d9\\uc548 \\uc788\\uc5c8\\ub358 \\ubaa8\\ub4e0 \\uac78 \\ub9d0\\uc500\\ub4dc\\ub838\\uc9c0\\uc694.\\r\\n\\uc655\\uc774 \\ud06c\\uac8c \\uae30\\ubed0\\ud588\\uc5b4\\uc694, \\uadf8\\ub9ac\\uace0 \\uadf8\\ub140\\uc758 \\uc57d\\ud63c\\uc790\\ub3c4 \\uc544\\uc9c1 \\uadf8\\uacf3\\uc5d0 \\uc788\\uc5c8\\uace0\\uc694.\\r\\n\\uc0ac\\ub78c\\ub4e4\\uc774 \\uc640 \\uadf8 \\uc0b0\\uc744 \\ud30c \\ub4a4\\uc9d1\\uc5b4 \\uc548\\uc5d0 \\uc788\\ub358 \\ub299\\uc740 \\ub9c1\\ud06c\\ub791\\ud06c\\uc640 \\uadf8\\uc758 \\ubaa8\\ub4e0 \\uae08\\ud654\\uc640 \\uc740\\ud654\\ub4e4\\uc744 \\ucc3e\\uc544\\ub0c8\\uc5b4\\uc694.\\r\\n\\uadf8\\ub7f0 \\ub2e4\\uc74c \\uc655\\uc740 \\ub299\\uc740 \\ub9c1\\ud06c\\ub791\\ud06c\\ub97c \\ucc98\\ud615\\uc2dc\\ud0a4\\uace0 \\uadf8\\uc758 \\ubaa8\\ub4e0 \\uae08\\ud654\\uc640 \\uc740\\ud654\\ub97c \\ubab0\\uc218\\ud588\\uc5b4\\uc694.\\r\\n\\uacf5\\uc8fc\\ub2d8\\uc740 \\uc790\\uc2e0\\uc758 \\uc57d\\ud63c\\uc790\\uc640 \\uacb0\\ud63c\\ud574, \\uc704\\uc5c4 \\uc788\\uace0 \\uae30\\uc058\\ub3c4\\ub85d \\ud589\\ubcf5\\ud558\\uac8c\\ub3c4 \\uc798 \\uc0b4\\uc558\\ub2e4\\ub124\\uc694.\"\n        ],\n        \"semantic_type\": \"\",\n        \"description\": \"\"\n      }\n    },\n    {\n      \"column\": \"\\uce74\\ud14c\\uace0\\ub9ac\",\n      \"properties\": {\n        \"dtype\": \"category\",\n        \"num_unique_values\": 4,\n        \"samples\": [\n          \"\\uc0e4\\ub97c\\ud398\\ub85c\\ub3d9\\ud654\",\n          \"\\uc804\\ub798\\ub3d9\\ud654\",\n          \"\\uadf8\\ub9bc\\ud615\\uc81c\\ub3d9\\ud654\"\n        ],\n        \"semantic_type\": \"\",\n        \"description\": \"\"\n      }\n    },\n    {\n      \"column\": \"\\ud0a4\\uc6cc\\ub4dc\",\n      \"properties\": {\n        \"dtype\": \"string\",\n        \"num_unique_values\": 442,\n        \"samples\": [\n          \"['\\ub291\\ub300', '\\uc0ac\\uc790', '\\uc591', '\\uac15\\uc790', '\\uba39\\uc774\\uc0ac\\uc2ac']\",\n          \"['\\ub3c5\\uc218\\ub9ac', '\\ub18d\\ubd80', '\\ubaa8\\uc790', '\\uc740\\ud61c']\",\n          \"['\\uacf5\\uc8fc', '\\uc655', '\\ub9cc\\uc2a4\\ud2b8\\ub85c', '\\ub9c1\\ud06c\\ub791\\ud06c', '\\uc720\\ub9ac\\uc0b0', '\\ub3d9\\uad74', '\\uc601\\ub9ac\\ud568']\"\n        ],\n        \"semantic_type\": \"\",\n        \"description\": \"\"\n      }\n    },\n    {\n      \"column\": \"\\ud14c\\ub9c8\",\n      \"properties\": {\n        \"dtype\": \"category\",\n        \"num_unique_values\": 44,\n        \"samples\": [\n          \"\\uc5ec\\uc778\\uc219\",\n          \"\\uac15\",\n          \"\\uc678\\uc591\\uac04\"\n        ],\n        \"semantic_type\": \"\",\n        \"description\": \"\"\n      }\n    }\n  ]\n}"
            }
          },
          "metadata": {},
          "execution_count": 3
        }
      ],
      "source": [
        "df.head()"
      ]
    },
    {
      "cell_type": "code",
      "execution_count": 4,
      "metadata": {
        "colab": {
          "base_uri": "https://localhost:8080/"
        },
        "id": "AOssle3nZXKv",
        "outputId": "f83b1054-e3c6-4ae8-9b53-6139ccfaa16c"
      },
      "outputs": [
        {
          "output_type": "stream",
          "name": "stdout",
          "text": [
            "<class 'pandas.core.frame.DataFrame'>\n",
            "RangeIndex: 442 entries, 0 to 441\n",
            "Data columns (total 5 columns):\n",
            " #   Column  Non-Null Count  Dtype \n",
            "---  ------  --------------  ----- \n",
            " 0   제목      442 non-null    object\n",
            " 1   내용      442 non-null    object\n",
            " 2   카테고리    442 non-null    object\n",
            " 3   키워드     442 non-null    object\n",
            " 4   테마      442 non-null    object\n",
            "dtypes: object(5)\n",
            "memory usage: 17.4+ KB\n"
          ]
        }
      ],
      "source": [
        "df.info()"
      ]
    },
    {
      "cell_type": "markdown",
      "metadata": {
        "id": "lnmJiEcbQdHj"
      },
      "source": [
        "#### 불용어 제거 및 형태소 분석"
      ]
    },
    {
      "cell_type": "code",
      "execution_count": 5,
      "metadata": {
        "colab": {
          "base_uri": "https://localhost:8080/"
        },
        "id": "ZU-UAgJyZdBP",
        "outputId": "4074ef14-2119-4ed3-bef9-021e516b949a"
      },
      "outputs": [
        {
          "output_type": "stream",
          "name": "stdout",
          "text": [
            "Collecting squarify\n",
            "  Downloading squarify-0.4.3-py3-none-any.whl (4.3 kB)\n",
            "Installing collected packages: squarify\n",
            "Successfully installed squarify-0.4.3\n"
          ]
        }
      ],
      "source": [
        "!pip install squarify"
      ]
    },
    {
      "cell_type": "code",
      "execution_count": 6,
      "metadata": {
        "id": "X0jKPfscQfNE"
      },
      "outputs": [],
      "source": [
        "import re\n",
        "import squarify\n",
        "import matplotlib.pyplot as plt\n",
        "import seaborn as sns\n",
        "import spacy\n",
        "from spacy.tokenizer import Tokenizer"
      ]
    },
    {
      "cell_type": "markdown",
      "metadata": {
        "id": "OwJcd5Vw4zL2"
      },
      "source": [
        "#### 불용어 파일 읽어오기"
      ]
    },
    {
      "cell_type": "code",
      "execution_count": 7,
      "metadata": {
        "id": "_XcDhomQ4zL2"
      },
      "outputs": [],
      "source": [
        "dft = pd.read_table('불용어.txt')\n",
        "df_dict = dft.to_dict()\n",
        "st_words = list(df_dict[dft.columns[0]].values())"
      ]
    },
    {
      "cell_type": "markdown",
      "metadata": {
        "id": "varx-KZ54zL2"
      },
      "source": [
        "#### tokenize_test 함수로 내용을 토큰화하여 저장하기"
      ]
    },
    {
      "cell_type": "code",
      "source": [
        "!pip install konlpy"
      ],
      "metadata": {
        "colab": {
          "base_uri": "https://localhost:8080/"
        },
        "id": "6-ej0Ab-5I7b",
        "outputId": "1316c16b-3dc9-4b8d-dc98-23be75e47048"
      },
      "execution_count": 9,
      "outputs": [
        {
          "output_type": "stream",
          "name": "stdout",
          "text": [
            "Collecting konlpy\n",
            "  Downloading konlpy-0.6.0-py2.py3-none-any.whl (19.4 MB)\n",
            "\u001b[2K     \u001b[90m━━━━━━━━━━━━━━━━━━━━━━━━━━━━━━━━━━━━━━━━\u001b[0m \u001b[32m19.4/19.4 MB\u001b[0m \u001b[31m39.7 MB/s\u001b[0m eta \u001b[36m0:00:00\u001b[0m\n",
            "\u001b[?25hCollecting JPype1>=0.7.0 (from konlpy)\n",
            "  Downloading JPype1-1.5.0-cp310-cp310-manylinux_2_17_x86_64.manylinux2014_x86_64.whl (488 kB)\n",
            "\u001b[2K     \u001b[90m━━━━━━━━━━━━━━━━━━━━━━━━━━━━━━━━━━━━━━━━\u001b[0m \u001b[32m488.6/488.6 kB\u001b[0m \u001b[31m33.0 MB/s\u001b[0m eta \u001b[36m0:00:00\u001b[0m\n",
            "\u001b[?25hRequirement already satisfied: lxml>=4.1.0 in /usr/local/lib/python3.10/dist-packages (from konlpy) (4.9.4)\n",
            "Requirement already satisfied: numpy>=1.6 in /usr/local/lib/python3.10/dist-packages (from konlpy) (1.25.2)\n",
            "Requirement already satisfied: packaging in /usr/local/lib/python3.10/dist-packages (from JPype1>=0.7.0->konlpy) (24.1)\n",
            "Installing collected packages: JPype1, konlpy\n",
            "Successfully installed JPype1-1.5.0 konlpy-0.6.0\n"
          ]
        }
      ]
    },
    {
      "cell_type": "code",
      "execution_count": 10,
      "metadata": {
        "colab": {
          "base_uri": "https://localhost:8080/"
        },
        "id": "F2Aqnz7W4zL2",
        "outputId": "73a547d9-656c-4d6a-ede6-ee92257432ed"
      },
      "outputs": [
        {
          "output_type": "stream",
          "name": "stdout",
          "text": [
            "['자연어', '처리', '공부', '이', '예제', '형태소', '분석', '토큰', '예제']\n"
          ]
        }
      ],
      "source": [
        "from konlpy.tag import Okt\n",
        "import re\n",
        "\n",
        "# Okt 객체 생성\n",
        "okt = Okt()\n",
        "\n",
        "# 불용어 리스트\n",
        "st_words = list(set(st_words))\n",
        "\n",
        "def tokenize_test(text):\n",
        "    # 줄바꿈 제거\n",
        "    text = text.replace(\"\\n\", \" \")\n",
        "\n",
        "    # 한글, 숫자, 공백을 제외한 모든 문자 제거\n",
        "    replace = \"\"\n",
        "    pattern = \"[^가-힣0-9 ]\"\n",
        "    doc = re.sub(pattern, replace, text)\n",
        "\n",
        "    tokens = []\n",
        "\n",
        "    # 내용 중에서 명사만 tokens 변수에 저장하기\n",
        "    for word in okt.nouns(doc):\n",
        "        tokens.append(word)\n",
        "    return tokens\n",
        "\n",
        "# 테스트\n",
        "text = \"안녕하세요. 자연어 처리를 공부하고 있습니다. 이 예제는 형태소 분석과 토큰화 예제입니다.\"\n",
        "print(tokenize_test(text))"
      ]
    },
    {
      "cell_type": "code",
      "execution_count": 11,
      "metadata": {
        "colab": {
          "base_uri": "https://localhost:8080/"
        },
        "id": "q8kCW-2T4zL3",
        "outputId": "8bf140f9-1c5a-438b-a6aa-b01ce911cb9c"
      },
      "outputs": [
        {
          "output_type": "execute_result",
          "data": {
            "text/plain": [
              "0      [쥐, 친구, 고양이, 살, 고양이, 자신, 쥐, 대해, 사랑, 우정, 말, 쥐, ...\n",
              "1      [하루, 수탉, 암탉, 말, 나무, 열매, 계절, 슬슬, 언덕, 배, 잔뜩, 다람쥐...\n",
              "2      [옛날, 옛적, 실, 잣, 소녀, 명, 엄마, 소녀, 꿈쩍, 안, 엄마, 화가, 나...\n",
              "3      [옛날, 마을, 노파, 명, 살, 그녀, 접시, 콩, 요리, 해, 불, 활활, 다음...\n",
              "4      [옛날, 날, 생쥐, 새, 소시지, 동무, 집, 살, 서로, 의지, 재산, 새, 일...\n",
              "                             ...                        \n",
              "437    [옛날, 옛적, 장가, 못, 나무꾼, 하루, 나무, 산, 사냥꾼, 노루, 발견, 노...\n",
              "438    [옛날, 마을, 나무꾼, 나무꾼, 성품, 나무꾼, 나무꾼, 매일, 나무, 일, 날,...\n",
              "439    [옛날, 마을, 심, 봉사, 장님, 심청, 딸, 심청, 장님, 아버지, 위해, 돈,...\n",
              "440    [옛날, 선비, 과거, 를, 가기, 위해, 산, 오르다, 구렁이, 새끼, 까치, 발...\n",
              "441    [흥부전, 작자, 연대, 미상, 소설, 조선, 후기, 소설, 흥, 보전, 박흥, 보...\n",
              "Name: Tokens, Length: 442, dtype: object"
            ]
          },
          "metadata": {},
          "execution_count": 11
        }
      ],
      "source": [
        "df['Tokens']=df['내용'].apply(tokenize_test)\n",
        "df['Tokens']"
      ]
    },
    {
      "cell_type": "markdown",
      "metadata": {
        "id": "5mvZh1GpRAIT"
      },
      "source": [
        "#### 단어 빈도 정보를 df로 만들기"
      ]
    },
    {
      "cell_type": "code",
      "execution_count": 12,
      "metadata": {
        "id": "VeToevWmRCpk"
      },
      "outputs": [],
      "source": [
        "def word_count(docs):\n",
        "\n",
        "    # 전체 코퍼스에서 단어 빈도 카운트\n",
        "    word_counts = Counter()\n",
        "\n",
        "    # 단어가 존재하는 문서의 빈도 카운트, 단어가 한 번 이상 존재하면 +1\n",
        "    word_in_docs = Counter()\n",
        "\n",
        "    # 전체 문서의 갯수\n",
        "    total_docs = len(docs)\n",
        "\n",
        "    # 기존에 누적으로 업데이트하기\n",
        "    for doc in docs:\n",
        "        word_counts.update(doc)\n",
        "        word_in_docs.update(set(doc))\n",
        "\n",
        "    # 합치기\n",
        "    temp = zip(word_counts.keys(), word_counts.values())\n",
        "\n",
        "    wc = pd.DataFrame(temp, columns = ['word', 'count'])\n",
        "\n",
        "    # 단어의 순위\n",
        "    # method='first': 같은 값의 경우 먼저나온 요소를 우선\n",
        "    wc['rank'] = wc['count'].rank(method='first', ascending=False)\n",
        "    total = wc['count'].sum()\n",
        "\n",
        "    # 코퍼스 내 단어의 비율\n",
        "    wc['percent'] = wc['count'].apply(lambda x: x / total)\n",
        "\n",
        "    wc = wc.sort_values(by='rank')\n",
        "\n",
        "    # 누적 비율\n",
        "    # cumsum() : cumulative sum\n",
        "    wc['cul_percent'] = wc['percent'].cumsum()\n",
        "\n",
        "    temp2 = zip(word_in_docs.keys(), word_in_docs.values())\n",
        "    ac = pd.DataFrame(temp2, columns=['word', 'word_in_docs'])\n",
        "    wc = ac.merge(wc, on='word')\n",
        "\n",
        "    # 전체 문서 중 존재하는 비율\n",
        "    wc['word_in_docs_percent'] = wc['word_in_docs'].apply(lambda x: x / total_docs)\n",
        "\n",
        "    return wc.sort_values(by='rank')"
      ]
    },
    {
      "cell_type": "markdown",
      "metadata": {
        "id": "Bm-QV9C44zL3"
      },
      "source": [
        "#### 각 단어별로 수 세기"
      ]
    },
    {
      "cell_type": "code",
      "execution_count": 13,
      "metadata": {
        "colab": {
          "base_uri": "https://localhost:8080/"
        },
        "id": "IflUi3YTQ-1j",
        "outputId": "645a9690-22b0-4709-9dc1-5583d4fe5413",
        "scrolled": true
      },
      "outputs": [
        {
          "output_type": "execute_result",
          "data": {
            "text/plain": [
              "[('그', 1832),\n",
              " ('말', 1480),\n",
              " ('것', 618),\n",
              " ('이', 569),\n",
              " ('수', 525),\n",
              " ('사람', 470),\n",
              " ('자신', 468),\n",
              " ('내', 425),\n",
              " ('집', 388),\n",
              " ('거', 329)]"
            ]
          },
          "metadata": {},
          "execution_count": 13
        }
      ],
      "source": [
        "from collections import Counter\n",
        "word_counts = Counter()\n",
        "df['Tokens'].apply(lambda x: word_counts.update(x))\n",
        "word_counts.most_common(10)"
      ]
    },
    {
      "cell_type": "code",
      "execution_count": 14,
      "metadata": {
        "colab": {
          "base_uri": "https://localhost:8080/",
          "height": 363
        },
        "id": "GK0GLE8nREaB",
        "outputId": "f5f7a8d0-6c0b-43cf-c863-95d2a1ee4c8c",
        "scrolled": true
      },
      "outputs": [
        {
          "output_type": "execute_result",
          "data": {
            "text/plain": [
              "    word  word_in_docs  count  rank   percent  cul_percent  \\\n",
              "165    그           351   1832   1.0  0.032035     0.032035   \n",
              "177    말           368   1480   2.0  0.025880     0.057914   \n",
              "119    것           204    618   3.0  0.010806     0.068721   \n",
              "163    이           235    569   4.0  0.009950     0.078670   \n",
              "83     수           239    525   5.0  0.009180     0.087851   \n",
              "549   사람           180    470   6.0  0.008219     0.096069   \n",
              "170   자신           238    468   7.0  0.008184     0.104253   \n",
              "171    내           187    425   8.0  0.007432     0.111684   \n",
              "164    집           140    388   9.0  0.006785     0.118469   \n",
              "172    거           176    329  10.0  0.005753     0.124222   \n",
              "\n",
              "     word_in_docs_percent  \n",
              "165              0.794118  \n",
              "177              0.832579  \n",
              "119              0.461538  \n",
              "163              0.531674  \n",
              "83               0.540724  \n",
              "549              0.407240  \n",
              "170              0.538462  \n",
              "171              0.423077  \n",
              "164              0.316742  \n",
              "172              0.398190  "
            ],
            "text/html": [
              "\n",
              "  <div id=\"df-a26310c0-eb17-44ea-a49d-e45b701dda38\" class=\"colab-df-container\">\n",
              "    <div>\n",
              "<style scoped>\n",
              "    .dataframe tbody tr th:only-of-type {\n",
              "        vertical-align: middle;\n",
              "    }\n",
              "\n",
              "    .dataframe tbody tr th {\n",
              "        vertical-align: top;\n",
              "    }\n",
              "\n",
              "    .dataframe thead th {\n",
              "        text-align: right;\n",
              "    }\n",
              "</style>\n",
              "<table border=\"1\" class=\"dataframe\">\n",
              "  <thead>\n",
              "    <tr style=\"text-align: right;\">\n",
              "      <th></th>\n",
              "      <th>word</th>\n",
              "      <th>word_in_docs</th>\n",
              "      <th>count</th>\n",
              "      <th>rank</th>\n",
              "      <th>percent</th>\n",
              "      <th>cul_percent</th>\n",
              "      <th>word_in_docs_percent</th>\n",
              "    </tr>\n",
              "  </thead>\n",
              "  <tbody>\n",
              "    <tr>\n",
              "      <th>165</th>\n",
              "      <td>그</td>\n",
              "      <td>351</td>\n",
              "      <td>1832</td>\n",
              "      <td>1.0</td>\n",
              "      <td>0.032035</td>\n",
              "      <td>0.032035</td>\n",
              "      <td>0.794118</td>\n",
              "    </tr>\n",
              "    <tr>\n",
              "      <th>177</th>\n",
              "      <td>말</td>\n",
              "      <td>368</td>\n",
              "      <td>1480</td>\n",
              "      <td>2.0</td>\n",
              "      <td>0.025880</td>\n",
              "      <td>0.057914</td>\n",
              "      <td>0.832579</td>\n",
              "    </tr>\n",
              "    <tr>\n",
              "      <th>119</th>\n",
              "      <td>것</td>\n",
              "      <td>204</td>\n",
              "      <td>618</td>\n",
              "      <td>3.0</td>\n",
              "      <td>0.010806</td>\n",
              "      <td>0.068721</td>\n",
              "      <td>0.461538</td>\n",
              "    </tr>\n",
              "    <tr>\n",
              "      <th>163</th>\n",
              "      <td>이</td>\n",
              "      <td>235</td>\n",
              "      <td>569</td>\n",
              "      <td>4.0</td>\n",
              "      <td>0.009950</td>\n",
              "      <td>0.078670</td>\n",
              "      <td>0.531674</td>\n",
              "    </tr>\n",
              "    <tr>\n",
              "      <th>83</th>\n",
              "      <td>수</td>\n",
              "      <td>239</td>\n",
              "      <td>525</td>\n",
              "      <td>5.0</td>\n",
              "      <td>0.009180</td>\n",
              "      <td>0.087851</td>\n",
              "      <td>0.540724</td>\n",
              "    </tr>\n",
              "    <tr>\n",
              "      <th>549</th>\n",
              "      <td>사람</td>\n",
              "      <td>180</td>\n",
              "      <td>470</td>\n",
              "      <td>6.0</td>\n",
              "      <td>0.008219</td>\n",
              "      <td>0.096069</td>\n",
              "      <td>0.407240</td>\n",
              "    </tr>\n",
              "    <tr>\n",
              "      <th>170</th>\n",
              "      <td>자신</td>\n",
              "      <td>238</td>\n",
              "      <td>468</td>\n",
              "      <td>7.0</td>\n",
              "      <td>0.008184</td>\n",
              "      <td>0.104253</td>\n",
              "      <td>0.538462</td>\n",
              "    </tr>\n",
              "    <tr>\n",
              "      <th>171</th>\n",
              "      <td>내</td>\n",
              "      <td>187</td>\n",
              "      <td>425</td>\n",
              "      <td>8.0</td>\n",
              "      <td>0.007432</td>\n",
              "      <td>0.111684</td>\n",
              "      <td>0.423077</td>\n",
              "    </tr>\n",
              "    <tr>\n",
              "      <th>164</th>\n",
              "      <td>집</td>\n",
              "      <td>140</td>\n",
              "      <td>388</td>\n",
              "      <td>9.0</td>\n",
              "      <td>0.006785</td>\n",
              "      <td>0.118469</td>\n",
              "      <td>0.316742</td>\n",
              "    </tr>\n",
              "    <tr>\n",
              "      <th>172</th>\n",
              "      <td>거</td>\n",
              "      <td>176</td>\n",
              "      <td>329</td>\n",
              "      <td>10.0</td>\n",
              "      <td>0.005753</td>\n",
              "      <td>0.124222</td>\n",
              "      <td>0.398190</td>\n",
              "    </tr>\n",
              "  </tbody>\n",
              "</table>\n",
              "</div>\n",
              "    <div class=\"colab-df-buttons\">\n",
              "\n",
              "  <div class=\"colab-df-container\">\n",
              "    <button class=\"colab-df-convert\" onclick=\"convertToInteractive('df-a26310c0-eb17-44ea-a49d-e45b701dda38')\"\n",
              "            title=\"Convert this dataframe to an interactive table.\"\n",
              "            style=\"display:none;\">\n",
              "\n",
              "  <svg xmlns=\"http://www.w3.org/2000/svg\" height=\"24px\" viewBox=\"0 -960 960 960\">\n",
              "    <path d=\"M120-120v-720h720v720H120Zm60-500h600v-160H180v160Zm220 220h160v-160H400v160Zm0 220h160v-160H400v160ZM180-400h160v-160H180v160Zm440 0h160v-160H620v160ZM180-180h160v-160H180v160Zm440 0h160v-160H620v160Z\"/>\n",
              "  </svg>\n",
              "    </button>\n",
              "\n",
              "  <style>\n",
              "    .colab-df-container {\n",
              "      display:flex;\n",
              "      gap: 12px;\n",
              "    }\n",
              "\n",
              "    .colab-df-convert {\n",
              "      background-color: #E8F0FE;\n",
              "      border: none;\n",
              "      border-radius: 50%;\n",
              "      cursor: pointer;\n",
              "      display: none;\n",
              "      fill: #1967D2;\n",
              "      height: 32px;\n",
              "      padding: 0 0 0 0;\n",
              "      width: 32px;\n",
              "    }\n",
              "\n",
              "    .colab-df-convert:hover {\n",
              "      background-color: #E2EBFA;\n",
              "      box-shadow: 0px 1px 2px rgba(60, 64, 67, 0.3), 0px 1px 3px 1px rgba(60, 64, 67, 0.15);\n",
              "      fill: #174EA6;\n",
              "    }\n",
              "\n",
              "    .colab-df-buttons div {\n",
              "      margin-bottom: 4px;\n",
              "    }\n",
              "\n",
              "    [theme=dark] .colab-df-convert {\n",
              "      background-color: #3B4455;\n",
              "      fill: #D2E3FC;\n",
              "    }\n",
              "\n",
              "    [theme=dark] .colab-df-convert:hover {\n",
              "      background-color: #434B5C;\n",
              "      box-shadow: 0px 1px 3px 1px rgba(0, 0, 0, 0.15);\n",
              "      filter: drop-shadow(0px 1px 2px rgba(0, 0, 0, 0.3));\n",
              "      fill: #FFFFFF;\n",
              "    }\n",
              "  </style>\n",
              "\n",
              "    <script>\n",
              "      const buttonEl =\n",
              "        document.querySelector('#df-a26310c0-eb17-44ea-a49d-e45b701dda38 button.colab-df-convert');\n",
              "      buttonEl.style.display =\n",
              "        google.colab.kernel.accessAllowed ? 'block' : 'none';\n",
              "\n",
              "      async function convertToInteractive(key) {\n",
              "        const element = document.querySelector('#df-a26310c0-eb17-44ea-a49d-e45b701dda38');\n",
              "        const dataTable =\n",
              "          await google.colab.kernel.invokeFunction('convertToInteractive',\n",
              "                                                    [key], {});\n",
              "        if (!dataTable) return;\n",
              "\n",
              "        const docLinkHtml = 'Like what you see? Visit the ' +\n",
              "          '<a target=\"_blank\" href=https://colab.research.google.com/notebooks/data_table.ipynb>data table notebook</a>'\n",
              "          + ' to learn more about interactive tables.';\n",
              "        element.innerHTML = '';\n",
              "        dataTable['output_type'] = 'display_data';\n",
              "        await google.colab.output.renderOutput(dataTable, element);\n",
              "        const docLink = document.createElement('div');\n",
              "        docLink.innerHTML = docLinkHtml;\n",
              "        element.appendChild(docLink);\n",
              "      }\n",
              "    </script>\n",
              "  </div>\n",
              "\n",
              "\n",
              "<div id=\"df-d4cd9e89-8f1f-4181-b8db-87422c2d5e04\">\n",
              "  <button class=\"colab-df-quickchart\" onclick=\"quickchart('df-d4cd9e89-8f1f-4181-b8db-87422c2d5e04')\"\n",
              "            title=\"Suggest charts\"\n",
              "            style=\"display:none;\">\n",
              "\n",
              "<svg xmlns=\"http://www.w3.org/2000/svg\" height=\"24px\"viewBox=\"0 0 24 24\"\n",
              "     width=\"24px\">\n",
              "    <g>\n",
              "        <path d=\"M19 3H5c-1.1 0-2 .9-2 2v14c0 1.1.9 2 2 2h14c1.1 0 2-.9 2-2V5c0-1.1-.9-2-2-2zM9 17H7v-7h2v7zm4 0h-2V7h2v10zm4 0h-2v-4h2v4z\"/>\n",
              "    </g>\n",
              "</svg>\n",
              "  </button>\n",
              "\n",
              "<style>\n",
              "  .colab-df-quickchart {\n",
              "      --bg-color: #E8F0FE;\n",
              "      --fill-color: #1967D2;\n",
              "      --hover-bg-color: #E2EBFA;\n",
              "      --hover-fill-color: #174EA6;\n",
              "      --disabled-fill-color: #AAA;\n",
              "      --disabled-bg-color: #DDD;\n",
              "  }\n",
              "\n",
              "  [theme=dark] .colab-df-quickchart {\n",
              "      --bg-color: #3B4455;\n",
              "      --fill-color: #D2E3FC;\n",
              "      --hover-bg-color: #434B5C;\n",
              "      --hover-fill-color: #FFFFFF;\n",
              "      --disabled-bg-color: #3B4455;\n",
              "      --disabled-fill-color: #666;\n",
              "  }\n",
              "\n",
              "  .colab-df-quickchart {\n",
              "    background-color: var(--bg-color);\n",
              "    border: none;\n",
              "    border-radius: 50%;\n",
              "    cursor: pointer;\n",
              "    display: none;\n",
              "    fill: var(--fill-color);\n",
              "    height: 32px;\n",
              "    padding: 0;\n",
              "    width: 32px;\n",
              "  }\n",
              "\n",
              "  .colab-df-quickchart:hover {\n",
              "    background-color: var(--hover-bg-color);\n",
              "    box-shadow: 0 1px 2px rgba(60, 64, 67, 0.3), 0 1px 3px 1px rgba(60, 64, 67, 0.15);\n",
              "    fill: var(--button-hover-fill-color);\n",
              "  }\n",
              "\n",
              "  .colab-df-quickchart-complete:disabled,\n",
              "  .colab-df-quickchart-complete:disabled:hover {\n",
              "    background-color: var(--disabled-bg-color);\n",
              "    fill: var(--disabled-fill-color);\n",
              "    box-shadow: none;\n",
              "  }\n",
              "\n",
              "  .colab-df-spinner {\n",
              "    border: 2px solid var(--fill-color);\n",
              "    border-color: transparent;\n",
              "    border-bottom-color: var(--fill-color);\n",
              "    animation:\n",
              "      spin 1s steps(1) infinite;\n",
              "  }\n",
              "\n",
              "  @keyframes spin {\n",
              "    0% {\n",
              "      border-color: transparent;\n",
              "      border-bottom-color: var(--fill-color);\n",
              "      border-left-color: var(--fill-color);\n",
              "    }\n",
              "    20% {\n",
              "      border-color: transparent;\n",
              "      border-left-color: var(--fill-color);\n",
              "      border-top-color: var(--fill-color);\n",
              "    }\n",
              "    30% {\n",
              "      border-color: transparent;\n",
              "      border-left-color: var(--fill-color);\n",
              "      border-top-color: var(--fill-color);\n",
              "      border-right-color: var(--fill-color);\n",
              "    }\n",
              "    40% {\n",
              "      border-color: transparent;\n",
              "      border-right-color: var(--fill-color);\n",
              "      border-top-color: var(--fill-color);\n",
              "    }\n",
              "    60% {\n",
              "      border-color: transparent;\n",
              "      border-right-color: var(--fill-color);\n",
              "    }\n",
              "    80% {\n",
              "      border-color: transparent;\n",
              "      border-right-color: var(--fill-color);\n",
              "      border-bottom-color: var(--fill-color);\n",
              "    }\n",
              "    90% {\n",
              "      border-color: transparent;\n",
              "      border-bottom-color: var(--fill-color);\n",
              "    }\n",
              "  }\n",
              "</style>\n",
              "\n",
              "  <script>\n",
              "    async function quickchart(key) {\n",
              "      const quickchartButtonEl =\n",
              "        document.querySelector('#' + key + ' button');\n",
              "      quickchartButtonEl.disabled = true;  // To prevent multiple clicks.\n",
              "      quickchartButtonEl.classList.add('colab-df-spinner');\n",
              "      try {\n",
              "        const charts = await google.colab.kernel.invokeFunction(\n",
              "            'suggestCharts', [key], {});\n",
              "      } catch (error) {\n",
              "        console.error('Error during call to suggestCharts:', error);\n",
              "      }\n",
              "      quickchartButtonEl.classList.remove('colab-df-spinner');\n",
              "      quickchartButtonEl.classList.add('colab-df-quickchart-complete');\n",
              "    }\n",
              "    (() => {\n",
              "      let quickchartButtonEl =\n",
              "        document.querySelector('#df-d4cd9e89-8f1f-4181-b8db-87422c2d5e04 button');\n",
              "      quickchartButtonEl.style.display =\n",
              "        google.colab.kernel.accessAllowed ? 'block' : 'none';\n",
              "    })();\n",
              "  </script>\n",
              "</div>\n",
              "\n",
              "    </div>\n",
              "  </div>\n"
            ],
            "application/vnd.google.colaboratory.intrinsic+json": {
              "type": "dataframe",
              "variable_name": "wc",
              "summary": "{\n  \"name\": \"wc\",\n  \"rows\": 5469,\n  \"fields\": [\n    {\n      \"column\": \"word\",\n      \"properties\": {\n        \"dtype\": \"string\",\n        \"num_unique_values\": 5469,\n        \"samples\": [\n          \"\\uce58\\uba85\\uc0c1\",\n          \"\\ubc29\\ud669\",\n          \"\\uc80a\\uc74c\"\n        ],\n        \"semantic_type\": \"\",\n        \"description\": \"\"\n      }\n    },\n    {\n      \"column\": \"word_in_docs\",\n      \"properties\": {\n        \"dtype\": \"number\",\n        \"std\": 16,\n        \"min\": 1,\n        \"max\": 368,\n        \"num_unique_values\": 114,\n        \"samples\": [\n          37,\n          239,\n          87\n        ],\n        \"semantic_type\": \"\",\n        \"description\": \"\"\n      }\n    },\n    {\n      \"column\": \"count\",\n      \"properties\": {\n        \"dtype\": \"number\",\n        \"std\": 43,\n        \"min\": 1,\n        \"max\": 1832,\n        \"num_unique_values\": 166,\n        \"samples\": [\n          67,\n          30,\n          95\n        ],\n        \"semantic_type\": \"\",\n        \"description\": \"\"\n      }\n    },\n    {\n      \"column\": \"rank\",\n      \"properties\": {\n        \"dtype\": \"number\",\n        \"std\": 1578.908642068945,\n        \"min\": 1.0,\n        \"max\": 5469.0,\n        \"num_unique_values\": 5469,\n        \"samples\": [\n          4435.0,\n          3810.0,\n          4038.0\n        ],\n        \"semantic_type\": \"\",\n        \"description\": \"\"\n      }\n    },\n    {\n      \"column\": \"percent\",\n      \"properties\": {\n        \"dtype\": \"number\",\n        \"std\": 0.0007582166230277428,\n        \"min\": 1.748618591312863e-05,\n        \"max\": 0.032034692592851646,\n        \"num_unique_values\": 166,\n        \"samples\": [\n          0.001171574456179618,\n          0.0005245855773938589,\n          0.0016611876617472197\n        ],\n        \"semantic_type\": \"\",\n        \"description\": \"\"\n      }\n    },\n    {\n      \"column\": \"cul_percent\",\n      \"properties\": {\n        \"dtype\": \"number\",\n        \"std\": 0.1507043084100164,\n        \"min\": 0.032034692592851646,\n        \"max\": 1.000000000000016,\n        \"num_unique_values\": 5469,\n        \"samples\": [\n          0.9819192837658404,\n          0.9709904175701346,\n          0.9749772679583281\n        ],\n        \"semantic_type\": \"\",\n        \"description\": \"\"\n      }\n    },\n    {\n      \"column\": \"word_in_docs_percent\",\n      \"properties\": {\n        \"dtype\": \"number\",\n        \"std\": 0.0370607049483239,\n        \"min\": 0.0022624434389140274,\n        \"max\": 0.832579185520362,\n        \"num_unique_values\": 114,\n        \"samples\": [\n          0.083710407239819,\n          0.5407239819004525,\n          0.19683257918552036\n        ],\n        \"semantic_type\": \"\",\n        \"description\": \"\"\n      }\n    }\n  ]\n}"
            }
          },
          "metadata": {},
          "execution_count": 14
        }
      ],
      "source": [
        "wc = word_count(df['Tokens'])\n",
        "wc.head(10)"
      ]
    },
    {
      "cell_type": "code",
      "execution_count": 15,
      "metadata": {
        "colab": {
          "base_uri": "https://localhost:8080/",
          "height": 1000
        },
        "id": "hr4WIVLiRKZx",
        "outputId": "bcf94e94-d62c-42d9-bb82-fff3a2c3fcfa",
        "scrolled": true
      },
      "outputs": [
        {
          "output_type": "stream",
          "name": "stderr",
          "text": [
            "WARNING:matplotlib.font_manager:findfont: Font family 'Malgun Gothic' not found.\n",
            "WARNING:matplotlib.font_manager:findfont: Font family 'Malgun Gothic' not found.\n",
            "WARNING:matplotlib.font_manager:findfont: Font family 'Malgun Gothic' not found.\n",
            "WARNING:matplotlib.font_manager:findfont: Font family 'Malgun Gothic' not found.\n",
            "WARNING:matplotlib.font_manager:findfont: Font family 'Malgun Gothic' not found.\n",
            "WARNING:matplotlib.font_manager:findfont: Font family 'Malgun Gothic' not found.\n",
            "WARNING:matplotlib.font_manager:findfont: Font family 'Malgun Gothic' not found.\n",
            "WARNING:matplotlib.font_manager:findfont: Font family 'Malgun Gothic' not found.\n",
            "WARNING:matplotlib.font_manager:findfont: Font family 'Malgun Gothic' not found.\n",
            "WARNING:matplotlib.font_manager:findfont: Font family 'Malgun Gothic' not found.\n",
            "/usr/local/lib/python3.10/dist-packages/IPython/core/pylabtools.py:151: UserWarning: Glyph 44536 (\\N{HANGUL SYLLABLE GEU}) missing from current font.\n",
            "  fig.canvas.print_figure(bytes_io, **kw)\n",
            "WARNING:matplotlib.font_manager:findfont: Font family 'Malgun Gothic' not found.\n",
            "/usr/local/lib/python3.10/dist-packages/IPython/core/pylabtools.py:151: UserWarning: Glyph 47568 (\\N{HANGUL SYLLABLE MAL}) missing from current font.\n",
            "  fig.canvas.print_figure(bytes_io, **kw)\n",
            "WARNING:matplotlib.font_manager:findfont: Font family 'Malgun Gothic' not found.\n",
            "/usr/local/lib/python3.10/dist-packages/IPython/core/pylabtools.py:151: UserWarning: Glyph 44163 (\\N{HANGUL SYLLABLE GEOS}) missing from current font.\n",
            "  fig.canvas.print_figure(bytes_io, **kw)\n",
            "WARNING:matplotlib.font_manager:findfont: Font family 'Malgun Gothic' not found.\n",
            "/usr/local/lib/python3.10/dist-packages/IPython/core/pylabtools.py:151: UserWarning: Glyph 51060 (\\N{HANGUL SYLLABLE I}) missing from current font.\n",
            "  fig.canvas.print_figure(bytes_io, **kw)\n",
            "WARNING:matplotlib.font_manager:findfont: Font family 'Malgun Gothic' not found.\n",
            "/usr/local/lib/python3.10/dist-packages/IPython/core/pylabtools.py:151: UserWarning: Glyph 49688 (\\N{HANGUL SYLLABLE SU}) missing from current font.\n",
            "  fig.canvas.print_figure(bytes_io, **kw)\n",
            "WARNING:matplotlib.font_manager:findfont: Font family 'Malgun Gothic' not found.\n",
            "/usr/local/lib/python3.10/dist-packages/IPython/core/pylabtools.py:151: UserWarning: Glyph 49324 (\\N{HANGUL SYLLABLE SA}) missing from current font.\n",
            "  fig.canvas.print_figure(bytes_io, **kw)\n",
            "/usr/local/lib/python3.10/dist-packages/IPython/core/pylabtools.py:151: UserWarning: Glyph 46988 (\\N{HANGUL SYLLABLE RAM}) missing from current font.\n",
            "  fig.canvas.print_figure(bytes_io, **kw)\n",
            "WARNING:matplotlib.font_manager:findfont: Font family 'Malgun Gothic' not found.\n",
            "/usr/local/lib/python3.10/dist-packages/IPython/core/pylabtools.py:151: UserWarning: Glyph 51088 (\\N{HANGUL SYLLABLE JA}) missing from current font.\n",
            "  fig.canvas.print_figure(bytes_io, **kw)\n",
            "/usr/local/lib/python3.10/dist-packages/IPython/core/pylabtools.py:151: UserWarning: Glyph 49888 (\\N{HANGUL SYLLABLE SIN}) missing from current font.\n",
            "  fig.canvas.print_figure(bytes_io, **kw)\n",
            "WARNING:matplotlib.font_manager:findfont: Font family 'Malgun Gothic' not found.\n",
            "/usr/local/lib/python3.10/dist-packages/IPython/core/pylabtools.py:151: UserWarning: Glyph 45236 (\\N{HANGUL SYLLABLE NAE}) missing from current font.\n",
            "  fig.canvas.print_figure(bytes_io, **kw)\n",
            "WARNING:matplotlib.font_manager:findfont: Font family 'Malgun Gothic' not found.\n",
            "/usr/local/lib/python3.10/dist-packages/IPython/core/pylabtools.py:151: UserWarning: Glyph 51665 (\\N{HANGUL SYLLABLE JIB}) missing from current font.\n",
            "  fig.canvas.print_figure(bytes_io, **kw)\n",
            "WARNING:matplotlib.font_manager:findfont: Font family 'Malgun Gothic' not found.\n",
            "/usr/local/lib/python3.10/dist-packages/IPython/core/pylabtools.py:151: UserWarning: Glyph 44144 (\\N{HANGUL SYLLABLE GEO}) missing from current font.\n",
            "  fig.canvas.print_figure(bytes_io, **kw)\n",
            "WARNING:matplotlib.font_manager:findfont: Font family 'Malgun Gothic' not found.\n",
            "WARNING:matplotlib.font_manager:findfont: Font family 'Malgun Gothic' not found.\n",
            "WARNING:matplotlib.font_manager:findfont: Font family 'Malgun Gothic' not found.\n",
            "WARNING:matplotlib.font_manager:findfont: Font family 'Malgun Gothic' not found.\n",
            "WARNING:matplotlib.font_manager:findfont: Font family 'Malgun Gothic' not found.\n",
            "WARNING:matplotlib.font_manager:findfont: Font family 'Malgun Gothic' not found.\n",
            "WARNING:matplotlib.font_manager:findfont: Font family 'Malgun Gothic' not found.\n",
            "WARNING:matplotlib.font_manager:findfont: Font family 'Malgun Gothic' not found.\n",
            "WARNING:matplotlib.font_manager:findfont: Font family 'Malgun Gothic' not found.\n",
            "WARNING:matplotlib.font_manager:findfont: Font family 'Malgun Gothic' not found.\n",
            "WARNING:matplotlib.font_manager:findfont: Font family 'Malgun Gothic' not found.\n",
            "WARNING:matplotlib.font_manager:findfont: Font family 'Malgun Gothic' not found.\n",
            "WARNING:matplotlib.font_manager:findfont: Font family 'Malgun Gothic' not found.\n",
            "WARNING:matplotlib.font_manager:findfont: Font family 'Malgun Gothic' not found.\n",
            "WARNING:matplotlib.font_manager:findfont: Font family 'Malgun Gothic' not found.\n",
            "WARNING:matplotlib.font_manager:findfont: Font family 'Malgun Gothic' not found.\n",
            "WARNING:matplotlib.font_manager:findfont: Font family 'Malgun Gothic' not found.\n",
            "WARNING:matplotlib.font_manager:findfont: Font family 'Malgun Gothic' not found.\n",
            "WARNING:matplotlib.font_manager:findfont: Font family 'Malgun Gothic' not found.\n",
            "WARNING:matplotlib.font_manager:findfont: Font family 'Malgun Gothic' not found.\n",
            "WARNING:matplotlib.font_manager:findfont: Font family 'Malgun Gothic' not found.\n",
            "WARNING:matplotlib.font_manager:findfont: Font family 'Malgun Gothic' not found.\n",
            "WARNING:matplotlib.font_manager:findfont: Font family 'Malgun Gothic' not found.\n",
            "WARNING:matplotlib.font_manager:findfont: Font family 'Malgun Gothic' not found.\n",
            "WARNING:matplotlib.font_manager:findfont: Font family 'Malgun Gothic' not found.\n",
            "WARNING:matplotlib.font_manager:findfont: Font family 'Malgun Gothic' not found.\n",
            "WARNING:matplotlib.font_manager:findfont: Font family 'Malgun Gothic' not found.\n",
            "WARNING:matplotlib.font_manager:findfont: Font family 'Malgun Gothic' not found.\n",
            "WARNING:matplotlib.font_manager:findfont: Font family 'Malgun Gothic' not found.\n",
            "WARNING:matplotlib.font_manager:findfont: Font family 'Malgun Gothic' not found.\n"
          ]
        },
        {
          "output_type": "display_data",
          "data": {
            "text/plain": [
              "<Figure size 640x480 with 1 Axes>"
            ],
            "image/png": "[encoded data removed]"
          },
          "metadata": {}
        }
      ],
      "source": [
        "import squarify\n",
        "import matplotlib.pyplot as plt\n",
        "\n",
        "colors=['springgreen','violet','dodgerblue','gold','wheat','lightcoral',\n",
        "        'mediumslateblue','greenyellow','aquamarine','deeppink']\n",
        "\n",
        "wc_top5 = wc[wc['rank'] <= 10]\n",
        "squarify.plot(sizes=wc_top5['percent'], label=wc_top5['word'], alpha=0.6, color=colors)\n",
        "plt.axis('off')\n",
        "plt.title('Token Top 10')\n",
        "plt.show()"
      ]
    },
    {
      "cell_type": "code",
      "execution_count": 16,
      "metadata": {
        "colab": {
          "base_uri": "https://localhost:8080/"
        },
        "id": "3_YKVvrb4zL4",
        "outputId": "a9e5a8be-cce3-4cd5-82b2-7edc5a27e177"
      },
      "outputs": [
        {
          "output_type": "execute_result",
          "data": {
            "text/plain": [
              "165     그\n",
              "177     말\n",
              "119     것\n",
              "163     이\n",
              "83      수\n",
              "549    사람\n",
              "170    자신\n",
              "171     내\n",
              "164     집\n",
              "172     거\n",
              "Name: word, dtype: object"
            ]
          },
          "metadata": {},
          "execution_count": 16
        }
      ],
      "source": [
        "wc_top5['word']"
      ]
    },
    {
      "cell_type": "code",
      "execution_count": 17,
      "metadata": {
        "id": "k_gn6pRf4zL4"
      },
      "outputs": [],
      "source": [
        "# pip install wordcloud"
      ]
    },
    {
      "cell_type": "code",
      "execution_count": 18,
      "metadata": {
        "id": "QgeZ5fxF4zL4"
      },
      "outputs": [],
      "source": [
        "from wordcloud import WordCloud\n",
        "# 추가할 불용어를 리스트 형태로 추가함."
      ]
    },
    {
      "cell_type": "code",
      "execution_count": 19,
      "metadata": {
        "colab": {
          "base_uri": "https://localhost:8080/"
        },
        "id": "6lnSmo7Q4zL4",
        "outputId": "51f4bff5-1d93-46bf-d84b-0d7778ab8ee1"
      },
      "outputs": [
        {
          "output_type": "execute_result",
          "data": {
            "text/plain": [
              "0      [쥐, 친구, 고양이, 살, 고양이, 자신, 쥐, 대해, 사랑, 우정, 말, 쥐, ...\n",
              "1      [하루, 수탉, 암탉, 말, 나무, 열매, 계절, 슬슬, 언덕, 배, 잔뜩, 다람쥐...\n",
              "2      [옛날, 옛적, 실, 잣, 소녀, 명, 엄마, 소녀, 꿈쩍, 안, 엄마, 화가, 나...\n",
              "3      [옛날, 마을, 노파, 명, 살, 그녀, 접시, 콩, 요리, 해, 불, 활활, 다음...\n",
              "4      [옛날, 날, 생쥐, 새, 소시지, 동무, 집, 살, 서로, 의지, 재산, 새, 일...\n",
              "                             ...                        \n",
              "437    [옛날, 옛적, 장가, 못, 나무꾼, 하루, 나무, 산, 사냥꾼, 노루, 발견, 노...\n",
              "438    [옛날, 마을, 나무꾼, 나무꾼, 성품, 나무꾼, 나무꾼, 매일, 나무, 일, 날,...\n",
              "439    [옛날, 마을, 심, 봉사, 장님, 심청, 딸, 심청, 장님, 아버지, 위해, 돈,...\n",
              "440    [옛날, 선비, 과거, 를, 가기, 위해, 산, 오르다, 구렁이, 새끼, 까치, 발...\n",
              "441    [흥부전, 작자, 연대, 미상, 소설, 조선, 후기, 소설, 흥, 보전, 박흥, 보...\n",
              "Name: Tokens, Length: 442, dtype: object"
            ]
          },
          "metadata": {},
          "execution_count": 19
        }
      ],
      "source": [
        "df['Tokens']"
      ]
    },
    {
      "cell_type": "code",
      "execution_count": 20,
      "metadata": {
        "colab": {
          "base_uri": "https://localhost:8080/",
          "height": 346
        },
        "id": "nk3SMb2c4zL4",
        "outputId": "f1ca7731-7d89-4a43-c913-1336bafe628c"
      },
      "outputs": [
        {
          "output_type": "display_data",
          "data": {
            "text/plain": [
              "<Figure size 800x800 with 1 Axes>"
            ],
            "image/png": "[encoded data removed]"
          },
          "metadata": {}
        }
      ],
      "source": [
        "# 워드 클라우드 세팅\n",
        "# 한글폰트 경로 설정\n",
        "wc = WordCloud (max_words=50,\n",
        "           random_state= 810,\n",
        "           background_color='white',\n",
        "           font_path= 'NanumGothic.ttf'#\n",
        "           )\n",
        "\n",
        "\n",
        "text = df['Tokens'][0]\n",
        "text = ' '.join(text)\n",
        "\n",
        "wc.generate_from_text(text)\n",
        "plt.figure(figsize=(8,8))\n",
        "plt.imshow(wc)\n",
        "plt.axis('off')\n",
        "plt.show()"
      ]
    },
    {
      "cell_type": "markdown",
      "metadata": {
        "id": "rlz1p6DTm1ul"
      },
      "source": [
        "## KNN + TfidVectorizer"
      ]
    },
    {
      "cell_type": "code",
      "execution_count": 22,
      "metadata": {
        "id": "zr1cqXZY4zL5"
      },
      "outputs": [],
      "source": [
        "# print(sorted(st_words))"
      ]
    },
    {
      "cell_type": "code",
      "execution_count": 23,
      "metadata": {
        "colab": {
          "base_uri": "https://localhost:8080/"
        },
        "id": "hVJUNp-knIQK",
        "outputId": "f51000f4-aaeb-4e92-d9fe-4ab7b57a80fc"
      },
      "outputs": [
        {
          "output_type": "stream",
          "name": "stderr",
          "text": [
            "/usr/local/lib/python3.10/dist-packages/sklearn/feature_extraction/text.py:409: UserWarning: Your stop_words may be inconsistent with your preprocessing. Tokenizing the stop words generated tokens ['각하', '간', '개', '거나', '거리', '걸', '겁', '것과', '견지', '결과', '결론', '고려', '곤', '곳', '공동', '관', '관계', '관련', '구체', '구토', '근거', '기대', '기점', '기준', '김', '까닭', '나머지', '남', '낫다', '낼', '년도', '논', '누가', '다시', '답', '대로', '대하', '대해', '더', '더욱이', '도달', '도착', '동시', '됏', '두번째', '뒤', '듯', '따름', '때문', '라면', '리하', '마자', '막론', '만', '만이', '만하', '말', '망정', '메', '몰랏다', '무릎', '바', '반대', '방면', '보아', '본대', '부류', '불구', '불문', '비', '비걱거리', '비교', '뿐', '사람', '상대', '생각', '서술', '수', '시오', '시작', '시초', '아래', '아무', '안', '알', '알다', '앞', '어기', '어쨋', '어찌됏', '여보', '연관', '옆', '외', '요', '우', '위', '위해', '윗', '의거', '의지', '의치', '이로', '이서', '이외', '이용', '이유', '인', '일반', '일지', '임', '입', '입장', '적', '점', '정도', '제외', '젠', '종합', '주저', '줄', '중', '즈음', '지경', '진짜', '집', '쪽', '차', '첫', '토', '통', '편이', '하든', '하자', '한적', '함', '항목', '해', '해도', '향', '형식', '후', '힘'] not in stop_words.\n",
            "  warnings.warn(\n"
          ]
        }
      ],
      "source": [
        "from sklearn.feature_extraction.text import TfidfVectorizer\n",
        "\n",
        "tfidf = TfidfVectorizer(stop_words=st_words\n",
        "                        ,tokenizer=tokenize_test\n",
        "                        ,ngram_range = (1,2)\n",
        "                        ,max_features = 5000,\n",
        "                        token_pattern=None\n",
        "                        )\n",
        "\n",
        "dtm = tfidf.fit_transform(df['내용'])\n",
        "dtm = pd.DataFrame(dtm.todense(), columns=tfidf.get_feature_names_out())"
      ]
    },
    {
      "cell_type": "code",
      "execution_count": 24,
      "metadata": {
        "colab": {
          "base_uri": "https://localhost:8080/",
          "height": 235
        },
        "id": "-xI6L090qoci",
        "outputId": "8f4c92ae-d00c-4723-e6b2-e588cb00bbbb"
      },
      "outputs": [
        {
          "output_type": "execute_result",
          "data": {
            "text/plain": [
              "    가게   가격        가기  가까이   가끔   가나   가난  가다가        가도        가득  ...   흥부  \\\n",
              "0  0.0  0.0  0.000000  0.0  0.0  0.0  0.0  0.0  0.021001  0.027785  ...  0.0   \n",
              "1  0.0  0.0  0.052309  0.0  0.0  0.0  0.0  0.0  0.000000  0.000000  ...  0.0   \n",
              "2  0.0  0.0  0.000000  0.0  0.0  0.0  0.0  0.0  0.000000  0.033081  ...  0.0   \n",
              "3  0.0  0.0  0.000000  0.0  0.0  0.0  0.0  0.0  0.000000  0.000000  ...  0.0   \n",
              "4  0.0  0.0  0.000000  0.0  0.0  0.0  0.0  0.0  0.000000  0.000000  ...  0.0   \n",
              "\n",
              "    희망   흰색   히죽    힐    힘  힘 감  힘 다해  힘 세고   힘껏  \n",
              "0  0.0  0.0  0.0  0.0  0.0  0.0   0.0   0.0  0.0  \n",
              "1  0.0  0.0  0.0  0.0  0.0  0.0   0.0   0.0  0.0  \n",
              "2  0.0  0.0  0.0  0.0  0.0  0.0   0.0   0.0  0.0  \n",
              "3  0.0  0.0  0.0  0.0  0.0  0.0   0.0   0.0  0.0  \n",
              "4  0.0  0.0  0.0  0.0  0.0  0.0   0.0   0.0  0.0  \n",
              "\n",
              "[5 rows x 5000 columns]"
            ],
            "text/html": [
              "\n",
              "  <div id=\"df-79f3673e-915c-44fe-a702-cb40bb863456\" class=\"colab-df-container\">\n",
              "    <div>\n",
              "<style scoped>\n",
              "    .dataframe tbody tr th:only-of-type {\n",
              "        vertical-align: middle;\n",
              "    }\n",
              "\n",
              "    .dataframe tbody tr th {\n",
              "        vertical-align: top;\n",
              "    }\n",
              "\n",
              "    .dataframe thead th {\n",
              "        text-align: right;\n",
              "    }\n",
              "</style>\n",
              "<table border=\"1\" class=\"dataframe\">\n",
              "  <thead>\n",
              "    <tr style=\"text-align: right;\">\n",
              "      <th></th>\n",
              "      <th>가게</th>\n",
              "      <th>가격</th>\n",
              "      <th>가기</th>\n",
              "      <th>가까이</th>\n",
              "      <th>가끔</th>\n",
              "      <th>가나</th>\n",
              "      <th>가난</th>\n",
              "      <th>가다가</th>\n",
              "      <th>가도</th>\n",
              "      <th>가득</th>\n",
              "      <th>...</th>\n",
              "      <th>흥부</th>\n",
              "      <th>희망</th>\n",
              "      <th>흰색</th>\n",
              "      <th>히죽</th>\n",
              "      <th>힐</th>\n",
              "      <th>힘</th>\n",
              "      <th>힘 감</th>\n",
              "      <th>힘 다해</th>\n",
              "      <th>힘 세고</th>\n",
              "      <th>힘껏</th>\n",
              "    </tr>\n",
              "  </thead>\n",
              "  <tbody>\n",
              "    <tr>\n",
              "      <th>0</th>\n",
              "      <td>0.0</td>\n",
              "      <td>0.0</td>\n",
              "      <td>0.000000</td>\n",
              "      <td>0.0</td>\n",
              "      <td>0.0</td>\n",
              "      <td>0.0</td>\n",
              "      <td>0.0</td>\n",
              "      <td>0.0</td>\n",
              "      <td>0.021001</td>\n",
              "      <td>0.027785</td>\n",
              "      <td>...</td>\n",
              "      <td>0.0</td>\n",
              "      <td>0.0</td>\n",
              "      <td>0.0</td>\n",
              "      <td>0.0</td>\n",
              "      <td>0.0</td>\n",
              "      <td>0.0</td>\n",
              "      <td>0.0</td>\n",
              "      <td>0.0</td>\n",
              "      <td>0.0</td>\n",
              "      <td>0.0</td>\n",
              "    </tr>\n",
              "    <tr>\n",
              "      <th>1</th>\n",
              "      <td>0.0</td>\n",
              "      <td>0.0</td>\n",
              "      <td>0.052309</td>\n",
              "      <td>0.0</td>\n",
              "      <td>0.0</td>\n",
              "      <td>0.0</td>\n",
              "      <td>0.0</td>\n",
              "      <td>0.0</td>\n",
              "      <td>0.000000</td>\n",
              "      <td>0.000000</td>\n",
              "      <td>...</td>\n",
              "      <td>0.0</td>\n",
              "      <td>0.0</td>\n",
              "      <td>0.0</td>\n",
              "      <td>0.0</td>\n",
              "      <td>0.0</td>\n",
              "      <td>0.0</td>\n",
              "      <td>0.0</td>\n",
              "      <td>0.0</td>\n",
              "      <td>0.0</td>\n",
              "      <td>0.0</td>\n",
              "    </tr>\n",
              "    <tr>\n",
              "      <th>2</th>\n",
              "      <td>0.0</td>\n",
              "      <td>0.0</td>\n",
              "      <td>0.000000</td>\n",
              "      <td>0.0</td>\n",
              "      <td>0.0</td>\n",
              "      <td>0.0</td>\n",
              "      <td>0.0</td>\n",
              "      <td>0.0</td>\n",
              "      <td>0.000000</td>\n",
              "      <td>0.033081</td>\n",
              "      <td>...</td>\n",
              "      <td>0.0</td>\n",
              "      <td>0.0</td>\n",
              "      <td>0.0</td>\n",
              "      <td>0.0</td>\n",
              "      <td>0.0</td>\n",
              "      <td>0.0</td>\n",
              "      <td>0.0</td>\n",
              "      <td>0.0</td>\n",
              "      <td>0.0</td>\n",
              "      <td>0.0</td>\n",
              "    </tr>\n",
              "    <tr>\n",
              "      <th>3</th>\n",
              "      <td>0.0</td>\n",
              "      <td>0.0</td>\n",
              "      <td>0.000000</td>\n",
              "      <td>0.0</td>\n",
              "      <td>0.0</td>\n",
              "      <td>0.0</td>\n",
              "      <td>0.0</td>\n",
              "      <td>0.0</td>\n",
              "      <td>0.000000</td>\n",
              "      <td>0.000000</td>\n",
              "      <td>...</td>\n",
              "      <td>0.0</td>\n",
              "      <td>0.0</td>\n",
              "      <td>0.0</td>\n",
              "      <td>0.0</td>\n",
              "      <td>0.0</td>\n",
              "      <td>0.0</td>\n",
              "      <td>0.0</td>\n",
              "      <td>0.0</td>\n",
              "      <td>0.0</td>\n",
              "      <td>0.0</td>\n",
              "    </tr>\n",
              "    <tr>\n",
              "      <th>4</th>\n",
              "      <td>0.0</td>\n",
              "      <td>0.0</td>\n",
              "      <td>0.000000</td>\n",
              "      <td>0.0</td>\n",
              "      <td>0.0</td>\n",
              "      <td>0.0</td>\n",
              "      <td>0.0</td>\n",
              "      <td>0.0</td>\n",
              "      <td>0.000000</td>\n",
              "      <td>0.000000</td>\n",
              "      <td>...</td>\n",
              "      <td>0.0</td>\n",
              "      <td>0.0</td>\n",
              "      <td>0.0</td>\n",
              "      <td>0.0</td>\n",
              "      <td>0.0</td>\n",
              "      <td>0.0</td>\n",
              "      <td>0.0</td>\n",
              "      <td>0.0</td>\n",
              "      <td>0.0</td>\n",
              "      <td>0.0</td>\n",
              "    </tr>\n",
              "  </tbody>\n",
              "</table>\n",
              "<p>5 rows × 5000 columns</p>\n",
              "</div>\n",
              "    <div class=\"colab-df-buttons\">\n",
              "\n",
              "  <div class=\"colab-df-container\">\n",
              "    <button class=\"colab-df-convert\" onclick=\"convertToInteractive('df-79f3673e-915c-44fe-a702-cb40bb863456')\"\n",
              "            title=\"Convert this dataframe to an interactive table.\"\n",
              "            style=\"display:none;\">\n",
              "\n",
              "  <svg xmlns=\"http://www.w3.org/2000/svg\" height=\"24px\" viewBox=\"0 -960 960 960\">\n",
              "    <path d=\"M120-120v-720h720v720H120Zm60-500h600v-160H180v160Zm220 220h160v-160H400v160Zm0 220h160v-160H400v160ZM180-400h160v-160H180v160Zm440 0h160v-160H620v160ZM180-180h160v-160H180v160Zm440 0h160v-160H620v160Z\"/>\n",
              "  </svg>\n",
              "    </button>\n",
              "\n",
              "  <style>\n",
              "    .colab-df-container {\n",
              "      display:flex;\n",
              "      gap: 12px;\n",
              "    }\n",
              "\n",
              "    .colab-df-convert {\n",
              "      background-color: #E8F0FE;\n",
              "      border: none;\n",
              "      border-radius: 50%;\n",
              "      cursor: pointer;\n",
              "      display: none;\n",
              "      fill: #1967D2;\n",
              "      height: 32px;\n",
              "      padding: 0 0 0 0;\n",
              "      width: 32px;\n",
              "    }\n",
              "\n",
              "    .colab-df-convert:hover {\n",
              "      background-color: #E2EBFA;\n",
              "      box-shadow: 0px 1px 2px rgba(60, 64, 67, 0.3), 0px 1px 3px 1px rgba(60, 64, 67, 0.15);\n",
              "      fill: #174EA6;\n",
              "    }\n",
              "\n",
              "    .colab-df-buttons div {\n",
              "      margin-bottom: 4px;\n",
              "    }\n",
              "\n",
              "    [theme=dark] .colab-df-convert {\n",
              "      background-color: #3B4455;\n",
              "      fill: #D2E3FC;\n",
              "    }\n",
              "\n",
              "    [theme=dark] .colab-df-convert:hover {\n",
              "      background-color: #434B5C;\n",
              "      box-shadow: 0px 1px 3px 1px rgba(0, 0, 0, 0.15);\n",
              "      filter: drop-shadow(0px 1px 2px rgba(0, 0, 0, 0.3));\n",
              "      fill: #FFFFFF;\n",
              "    }\n",
              "  </style>\n",
              "\n",
              "    <script>\n",
              "      const buttonEl =\n",
              "        document.querySelector('#df-79f3673e-915c-44fe-a702-cb40bb863456 button.colab-df-convert');\n",
              "      buttonEl.style.display =\n",
              "        google.colab.kernel.accessAllowed ? 'block' : 'none';\n",
              "\n",
              "      async function convertToInteractive(key) {\n",
              "        const element = document.querySelector('#df-79f3673e-915c-44fe-a702-cb40bb863456');\n",
              "        const dataTable =\n",
              "          await google.colab.kernel.invokeFunction('convertToInteractive',\n",
              "                                                    [key], {});\n",
              "        if (!dataTable) return;\n",
              "\n",
              "        const docLinkHtml = 'Like what you see? Visit the ' +\n",
              "          '<a target=\"_blank\" href=https://colab.research.google.com/notebooks/data_table.ipynb>data table notebook</a>'\n",
              "          + ' to learn more about interactive tables.';\n",
              "        element.innerHTML = '';\n",
              "        dataTable['output_type'] = 'display_data';\n",
              "        await google.colab.output.renderOutput(dataTable, element);\n",
              "        const docLink = document.createElement('div');\n",
              "        docLink.innerHTML = docLinkHtml;\n",
              "        element.appendChild(docLink);\n",
              "      }\n",
              "    </script>\n",
              "  </div>\n",
              "\n",
              "\n",
              "<div id=\"df-99928eaf-02ed-4746-9edf-b219a33260e2\">\n",
              "  <button class=\"colab-df-quickchart\" onclick=\"quickchart('df-99928eaf-02ed-4746-9edf-b219a33260e2')\"\n",
              "            title=\"Suggest charts\"\n",
              "            style=\"display:none;\">\n",
              "\n",
              "<svg xmlns=\"http://www.w3.org/2000/svg\" height=\"24px\"viewBox=\"0 0 24 24\"\n",
              "     width=\"24px\">\n",
              "    <g>\n",
              "        <path d=\"M19 3H5c-1.1 0-2 .9-2 2v14c0 1.1.9 2 2 2h14c1.1 0 2-.9 2-2V5c0-1.1-.9-2-2-2zM9 17H7v-7h2v7zm4 0h-2V7h2v10zm4 0h-2v-4h2v4z\"/>\n",
              "    </g>\n",
              "</svg>\n",
              "  </button>\n",
              "\n",
              "<style>\n",
              "  .colab-df-quickchart {\n",
              "      --bg-color: #E8F0FE;\n",
              "      --fill-color: #1967D2;\n",
              "      --hover-bg-color: #E2EBFA;\n",
              "      --hover-fill-color: #174EA6;\n",
              "      --disabled-fill-color: #AAA;\n",
              "      --disabled-bg-color: #DDD;\n",
              "  }\n",
              "\n",
              "  [theme=dark] .colab-df-quickchart {\n",
              "      --bg-color: #3B4455;\n",
              "      --fill-color: #D2E3FC;\n",
              "      --hover-bg-color: #434B5C;\n",
              "      --hover-fill-color: #FFFFFF;\n",
              "      --disabled-bg-color: #3B4455;\n",
              "      --disabled-fill-color: #666;\n",
              "  }\n",
              "\n",
              "  .colab-df-quickchart {\n",
              "    background-color: var(--bg-color);\n",
              "    border: none;\n",
              "    border-radius: 50%;\n",
              "    cursor: pointer;\n",
              "    display: none;\n",
              "    fill: var(--fill-color);\n",
              "    height: 32px;\n",
              "    padding: 0;\n",
              "    width: 32px;\n",
              "  }\n",
              "\n",
              "  .colab-df-quickchart:hover {\n",
              "    background-color: var(--hover-bg-color);\n",
              "    box-shadow: 0 1px 2px rgba(60, 64, 67, 0.3), 0 1px 3px 1px rgba(60, 64, 67, 0.15);\n",
              "    fill: var(--button-hover-fill-color);\n",
              "  }\n",
              "\n",
              "  .colab-df-quickchart-complete:disabled,\n",
              "  .colab-df-quickchart-complete:disabled:hover {\n",
              "    background-color: var(--disabled-bg-color);\n",
              "    fill: var(--disabled-fill-color);\n",
              "    box-shadow: none;\n",
              "  }\n",
              "\n",
              "  .colab-df-spinner {\n",
              "    border: 2px solid var(--fill-color);\n",
              "    border-color: transparent;\n",
              "    border-bottom-color: var(--fill-color);\n",
              "    animation:\n",
              "      spin 1s steps(1) infinite;\n",
              "  }\n",
              "\n",
              "  @keyframes spin {\n",
              "    0% {\n",
              "      border-color: transparent;\n",
              "      border-bottom-color: var(--fill-color);\n",
              "      border-left-color: var(--fill-color);\n",
              "    }\n",
              "    20% {\n",
              "      border-color: transparent;\n",
              "      border-left-color: var(--fill-color);\n",
              "      border-top-color: var(--fill-color);\n",
              "    }\n",
              "    30% {\n",
              "      border-color: transparent;\n",
              "      border-left-color: var(--fill-color);\n",
              "      border-top-color: var(--fill-color);\n",
              "      border-right-color: var(--fill-color);\n",
              "    }\n",
              "    40% {\n",
              "      border-color: transparent;\n",
              "      border-right-color: var(--fill-color);\n",
              "      border-top-color: var(--fill-color);\n",
              "    }\n",
              "    60% {\n",
              "      border-color: transparent;\n",
              "      border-right-color: var(--fill-color);\n",
              "    }\n",
              "    80% {\n",
              "      border-color: transparent;\n",
              "      border-right-color: var(--fill-color);\n",
              "      border-bottom-color: var(--fill-color);\n",
              "    }\n",
              "    90% {\n",
              "      border-color: transparent;\n",
              "      border-bottom-color: var(--fill-color);\n",
              "    }\n",
              "  }\n",
              "</style>\n",
              "\n",
              "  <script>\n",
              "    async function quickchart(key) {\n",
              "      const quickchartButtonEl =\n",
              "        document.querySelector('#' + key + ' button');\n",
              "      quickchartButtonEl.disabled = true;  // To prevent multiple clicks.\n",
              "      quickchartButtonEl.classList.add('colab-df-spinner');\n",
              "      try {\n",
              "        const charts = await google.colab.kernel.invokeFunction(\n",
              "            'suggestCharts', [key], {});\n",
              "      } catch (error) {\n",
              "        console.error('Error during call to suggestCharts:', error);\n",
              "      }\n",
              "      quickchartButtonEl.classList.remove('colab-df-spinner');\n",
              "      quickchartButtonEl.classList.add('colab-df-quickchart-complete');\n",
              "    }\n",
              "    (() => {\n",
              "      let quickchartButtonEl =\n",
              "        document.querySelector('#df-99928eaf-02ed-4746-9edf-b219a33260e2 button');\n",
              "      quickchartButtonEl.style.display =\n",
              "        google.colab.kernel.accessAllowed ? 'block' : 'none';\n",
              "    })();\n",
              "  </script>\n",
              "</div>\n",
              "\n",
              "    </div>\n",
              "  </div>\n"
            ],
            "application/vnd.google.colaboratory.intrinsic+json": {
              "type": "dataframe",
              "variable_name": "dtm"
            }
          },
          "metadata": {},
          "execution_count": 24
        }
      ],
      "source": [
        "dtm.head()"
      ]
    },
    {
      "cell_type": "code",
      "execution_count": 25,
      "metadata": {
        "colab": {
          "base_uri": "https://localhost:8080/",
          "height": 74
        },
        "id": "Rei9OJWdnEgl",
        "outputId": "3f6edd33-77e2-4f4b-f0da-e30f438d3998"
      },
      "outputs": [
        {
          "output_type": "execute_result",
          "data": {
            "text/plain": [
              "NearestNeighbors(algorithm='kd_tree')"
            ],
            "text/html": [
              "<style>#sk-container-id-1 {color: black;background-color: white;}#sk-container-id-1 pre{padding: 0;}#sk-container-id-1 div.sk-toggleable {background-color: white;}#sk-container-id-1 label.sk-toggleable__label {cursor: pointer;display: block;width: 100%;margin-bottom: 0;padding: 0.3em;box-sizing: border-box;text-align: center;}#sk-container-id-1 label.sk-toggleable__label-arrow:before {content: \"▸\";float: left;margin-right: 0.25em;color: #696969;}#sk-container-id-1 label.sk-toggleable__label-arrow:hover:before {color: black;}#sk-container-id-1 div.sk-estimator:hover label.sk-toggleable__label-arrow:before {color: black;}#sk-container-id-1 div.sk-toggleable__content {max-height: 0;max-width: 0;overflow: hidden;text-align: left;background-color: #f0f8ff;}#sk-container-id-1 div.sk-toggleable__content pre {margin: 0.2em;color: black;border-radius: 0.25em;background-color: #f0f8ff;}#sk-container-id-1 input.sk-toggleable__control:checked~div.sk-toggleable__content {max-height: 200px;max-width: 100%;overflow: auto;}#sk-container-id-1 input.sk-toggleable__control:checked~label.sk-toggleable__label-arrow:before {content: \"▾\";}#sk-container-id-1 div.sk-estimator input.sk-toggleable__control:checked~label.sk-toggleable__label {background-color: #d4ebff;}#sk-container-id-1 div.sk-label input.sk-toggleable__control:checked~label.sk-toggleable__label {background-color: #d4ebff;}#sk-container-id-1 input.sk-hidden--visually {border: 0;clip: rect(1px 1px 1px 1px);clip: rect(1px, 1px, 1px, 1px);height: 1px;margin: -1px;overflow: hidden;padding: 0;position: absolute;width: 1px;}#sk-container-id-1 div.sk-estimator {font-family: monospace;background-color: #f0f8ff;border: 1px dotted black;border-radius: 0.25em;box-sizing: border-box;margin-bottom: 0.5em;}#sk-container-id-1 div.sk-estimator:hover {background-color: #d4ebff;}#sk-container-id-1 div.sk-parallel-item::after {content: \"\";width: 100%;border-bottom: 1px solid gray;flex-grow: 1;}#sk-container-id-1 div.sk-label:hover label.sk-toggleable__label {background-color: #d4ebff;}#sk-container-id-1 div.sk-serial::before {content: \"\";position: absolute;border-left: 1px solid gray;box-sizing: border-box;top: 0;bottom: 0;left: 50%;z-index: 0;}#sk-container-id-1 div.sk-serial {display: flex;flex-direction: column;align-items: center;background-color: white;padding-right: 0.2em;padding-left: 0.2em;position: relative;}#sk-container-id-1 div.sk-item {position: relative;z-index: 1;}#sk-container-id-1 div.sk-parallel {display: flex;align-items: stretch;justify-content: center;background-color: white;position: relative;}#sk-container-id-1 div.sk-item::before, #sk-container-id-1 div.sk-parallel-item::before {content: \"\";position: absolute;border-left: 1px solid gray;box-sizing: border-box;top: 0;bottom: 0;left: 50%;z-index: -1;}#sk-container-id-1 div.sk-parallel-item {display: flex;flex-direction: column;z-index: 1;position: relative;background-color: white;}#sk-container-id-1 div.sk-parallel-item:first-child::after {align-self: flex-end;width: 50%;}#sk-container-id-1 div.sk-parallel-item:last-child::after {align-self: flex-start;width: 50%;}#sk-container-id-1 div.sk-parallel-item:only-child::after {width: 0;}#sk-container-id-1 div.sk-dashed-wrapped {border: 1px dashed gray;margin: 0 0.4em 0.5em 0.4em;box-sizing: border-box;padding-bottom: 0.4em;background-color: white;}#sk-container-id-1 div.sk-label label {font-family: monospace;font-weight: bold;display: inline-block;line-height: 1.2em;}#sk-container-id-1 div.sk-label-container {text-align: center;}#sk-container-id-1 div.sk-container {/* jupyter's `normalize.less` sets `[hidden] { display: none; }` but bootstrap.min.css set `[hidden] { display: none !important; }` so we also need the `!important` here to be able to override the default hidden behavior on the sphinx rendered scikit-learn.org. See: https://github.com/scikit-learn/scikit-learn/issues/21755 */display: inline-block !important;position: relative;}#sk-container-id-1 div.sk-text-repr-fallback {display: none;}</style><div id=\"sk-container-id-1\" class=\"sk-top-container\"><div class=\"sk-text-repr-fallback\"><pre>NearestNeighbors(algorithm=&#x27;kd_tree&#x27;)</pre><b>In a Jupyter environment, please rerun this cell to show the HTML representation or trust the notebook. <br />On GitHub, the HTML representation is unable to render, please try loading this page with nbviewer.org.</b></div><div class=\"sk-container\" hidden><div class=\"sk-item\"><div class=\"sk-estimator sk-toggleable\"><input class=\"sk-toggleable__control sk-hidden--visually\" id=\"sk-estimator-id-1\" type=\"checkbox\" checked><label for=\"sk-estimator-id-1\" class=\"sk-toggleable__label sk-toggleable__label-arrow\">NearestNeighbors</label><div class=\"sk-toggleable__content\"><pre>NearestNeighbors(algorithm=&#x27;kd_tree&#x27;)</pre></div></div></div></div></div>"
            ]
          },
          "metadata": {},
          "execution_count": 25
        }
      ],
      "source": [
        "from sklearn.neighbors import NearestNeighbors\n",
        "nn = NearestNeighbors(n_neighbors=5, algorithm='kd_tree') #최근접 5이웃\n",
        "nn.fit(dtm)"
      ]
    },
    {
      "cell_type": "code",
      "execution_count": 26,
      "metadata": {
        "colab": {
          "base_uri": "https://localhost:8080/"
        },
        "id": "iTYYrqpjniSE",
        "outputId": "ccc7a114-ff61-4007-fdc1-8ee67ca536d2"
      },
      "outputs": [
        {
          "output_type": "stream",
          "name": "stderr",
          "text": [
            "/usr/local/lib/python3.10/dist-packages/sklearn/base.py:439: UserWarning: X does not have valid feature names, but NearestNeighbors was fitted with feature names\n",
            "  warnings.warn(\n"
          ]
        },
        {
          "output_type": "execute_result",
          "data": {
            "text/plain": [
              "(array([[0.        , 1.2539936 , 1.27442984, 1.28604703, 1.29309653]]),\n",
              " array([[  1,  10, 264, 378, 140]]))"
            ]
          },
          "metadata": {},
          "execution_count": 26
        }
      ],
      "source": [
        "result = nn.kneighbors([dtm.iloc[1]]) # 특정 행과 가장 유사한 문서 5개를 찾는다.\n",
        "result"
      ]
    },
    {
      "cell_type": "code",
      "execution_count": 27,
      "metadata": {
        "colab": {
          "base_uri": "https://localhost:8080/",
          "height": 310
        },
        "id": "zfwugSbHnx-Y",
        "outputId": "c9d7c955-d0fb-4198-920d-2ec25dc8ac3a",
        "scrolled": true
      },
      "outputs": [
        {
          "output_type": "execute_result",
          "data": {
            "text/plain": [
              "            제목                                                 내용    카테고리  \\\n",
              "1      건달들의 무리  하루는 수탉이 암탉에게 말했다. \\r\\n“나무열매들이 익어 가는 계절이 왔는데 슬슬...  그림형제동화   \n",
              "10      코르베스 씨  옛날 옛적에 함께 드라이브를 나가고 싶어한 수탉과 암탉이 있었어요.\\r\\n그래서 수...  그림형제동화   \n",
              "264  개와 수탉과 여우  개와 수탉이 친구가 되어 함께 여행을 떠났답니다.\\r\\n밤이 되자 그들은 울창한 나...    이솝우화   \n",
              "378     좁쌀 한 톨  옛날 어느 산골 마을에 가난하지만 심지가 아주 굳은 총각이 살고 있었어요. 총각은 ...    전래동화   \n",
              "140  싸움닭들과 독수리  싸움닭 두 마리가 안마당의 주도권을 놓고 피 터지게 싸우고 있었어요.\\r\\n그러다 ...    이솝우화   \n",
              "\n",
              "                                                   키워드  테마  \\\n",
              "1             ['수탉', '암탉', '오리', '나그네', '주막 주인', '마차']  숲속   \n",
              "10   ['닭', '고양이', '코르베스', '맷돌', '달걀', '오리', '핀', '바늘']  숲속   \n",
              "264                      ['개', '수탉', '여우', '친구', '나무']  숲속   \n",
              "378                    ['총각', '행운', '좁쌀', '황소', '고양이']  마을   \n",
              "140                         ['수탉', '독수리', '주도권', '교만']  마당   \n",
              "\n",
              "                                                Tokens  \n",
              "1    [하루, 수탉, 암탉, 말, 나무, 열매, 계절, 슬슬, 언덕, 배, 잔뜩, 다람쥐...  \n",
              "10   [옛날, 옛적, 드라이브, 수탉, 암탉, 수탉, 마차, 수레바퀴, 네, 개, 마차,...  \n",
              "264  [개, 수탉, 친구, 여행, 밤, 그, 울창, 나무, 속, 곳, 마련, 수탉, 나무...  \n",
              "378  [옛날, 산골, 마을, 심지, 아주, 총각, 살, 총각, 글공부, 날, 과거, 한양...  \n",
              "140  [싸움닭, 두, 마리, 안마당, 주도, 피, 마리, 다른, 마리, 힐, 수, 진, ...  "
            ],
            "text/html": [
              "\n",
              "  <div id=\"df-ebc79516-8e15-48fb-934a-db02ede6c250\" class=\"colab-df-container\">\n",
              "    <div>\n",
              "<style scoped>\n",
              "    .dataframe tbody tr th:only-of-type {\n",
              "        vertical-align: middle;\n",
              "    }\n",
              "\n",
              "    .dataframe tbody tr th {\n",
              "        vertical-align: top;\n",
              "    }\n",
              "\n",
              "    .dataframe thead th {\n",
              "        text-align: right;\n",
              "    }\n",
              "</style>\n",
              "<table border=\"1\" class=\"dataframe\">\n",
              "  <thead>\n",
              "    <tr style=\"text-align: right;\">\n",
              "      <th></th>\n",
              "      <th>제목</th>\n",
              "      <th>내용</th>\n",
              "      <th>카테고리</th>\n",
              "      <th>키워드</th>\n",
              "      <th>테마</th>\n",
              "      <th>Tokens</th>\n",
              "    </tr>\n",
              "  </thead>\n",
              "  <tbody>\n",
              "    <tr>\n",
              "      <th>1</th>\n",
              "      <td>건달들의 무리</td>\n",
              "      <td>하루는 수탉이 암탉에게 말했다. \\r\\n“나무열매들이 익어 가는 계절이 왔는데 슬슬...</td>\n",
              "      <td>그림형제동화</td>\n",
              "      <td>['수탉', '암탉', '오리', '나그네', '주막 주인', '마차']</td>\n",
              "      <td>숲속</td>\n",
              "      <td>[하루, 수탉, 암탉, 말, 나무, 열매, 계절, 슬슬, 언덕, 배, 잔뜩, 다람쥐...</td>\n",
              "    </tr>\n",
              "    <tr>\n",
              "      <th>10</th>\n",
              "      <td>코르베스 씨</td>\n",
              "      <td>옛날 옛적에 함께 드라이브를 나가고 싶어한 수탉과 암탉이 있었어요.\\r\\n그래서 수...</td>\n",
              "      <td>그림형제동화</td>\n",
              "      <td>['닭', '고양이', '코르베스', '맷돌', '달걀', '오리', '핀', '바늘']</td>\n",
              "      <td>숲속</td>\n",
              "      <td>[옛날, 옛적, 드라이브, 수탉, 암탉, 수탉, 마차, 수레바퀴, 네, 개, 마차,...</td>\n",
              "    </tr>\n",
              "    <tr>\n",
              "      <th>264</th>\n",
              "      <td>개와 수탉과 여우</td>\n",
              "      <td>개와 수탉이 친구가 되어 함께 여행을 떠났답니다.\\r\\n밤이 되자 그들은 울창한 나...</td>\n",
              "      <td>이솝우화</td>\n",
              "      <td>['개', '수탉', '여우', '친구', '나무']</td>\n",
              "      <td>숲속</td>\n",
              "      <td>[개, 수탉, 친구, 여행, 밤, 그, 울창, 나무, 속, 곳, 마련, 수탉, 나무...</td>\n",
              "    </tr>\n",
              "    <tr>\n",
              "      <th>378</th>\n",
              "      <td>좁쌀 한 톨</td>\n",
              "      <td>옛날 어느 산골 마을에 가난하지만 심지가 아주 굳은 총각이 살고 있었어요. 총각은 ...</td>\n",
              "      <td>전래동화</td>\n",
              "      <td>['총각', '행운', '좁쌀', '황소', '고양이']</td>\n",
              "      <td>마을</td>\n",
              "      <td>[옛날, 산골, 마을, 심지, 아주, 총각, 살, 총각, 글공부, 날, 과거, 한양...</td>\n",
              "    </tr>\n",
              "    <tr>\n",
              "      <th>140</th>\n",
              "      <td>싸움닭들과 독수리</td>\n",
              "      <td>싸움닭 두 마리가 안마당의 주도권을 놓고 피 터지게 싸우고 있었어요.\\r\\n그러다 ...</td>\n",
              "      <td>이솝우화</td>\n",
              "      <td>['수탉', '독수리', '주도권', '교만']</td>\n",
              "      <td>마당</td>\n",
              "      <td>[싸움닭, 두, 마리, 안마당, 주도, 피, 마리, 다른, 마리, 힐, 수, 진, ...</td>\n",
              "    </tr>\n",
              "  </tbody>\n",
              "</table>\n",
              "</div>\n",
              "    <div class=\"colab-df-buttons\">\n",
              "\n",
              "  <div class=\"colab-df-container\">\n",
              "    <button class=\"colab-df-convert\" onclick=\"convertToInteractive('df-ebc79516-8e15-48fb-934a-db02ede6c250')\"\n",
              "            title=\"Convert this dataframe to an interactive table.\"\n",
              "            style=\"display:none;\">\n",
              "\n",
              "  <svg xmlns=\"http://www.w3.org/2000/svg\" height=\"24px\" viewBox=\"0 -960 960 960\">\n",
              "    <path d=\"M120-120v-720h720v720H120Zm60-500h600v-160H180v160Zm220 220h160v-160H400v160Zm0 220h160v-160H400v160ZM180-400h160v-160H180v160Zm440 0h160v-160H620v160ZM180-180h160v-160H180v160Zm440 0h160v-160H620v160Z\"/>\n",
              "  </svg>\n",
              "    </button>\n",
              "\n",
              "  <style>\n",
              "    .colab-df-container {\n",
              "      display:flex;\n",
              "      gap: 12px;\n",
              "    }\n",
              "\n",
              "    .colab-df-convert {\n",
              "      background-color: #E8F0FE;\n",
              "      border: none;\n",
              "      border-radius: 50%;\n",
              "      cursor: pointer;\n",
              "      display: none;\n",
              "      fill: #1967D2;\n",
              "      height: 32px;\n",
              "      padding: 0 0 0 0;\n",
              "      width: 32px;\n",
              "    }\n",
              "\n",
              "    .colab-df-convert:hover {\n",
              "      background-color: #E2EBFA;\n",
              "      box-shadow: 0px 1px 2px rgba(60, 64, 67, 0.3), 0px 1px 3px 1px rgba(60, 64, 67, 0.15);\n",
              "      fill: #174EA6;\n",
              "    }\n",
              "\n",
              "    .colab-df-buttons div {\n",
              "      margin-bottom: 4px;\n",
              "    }\n",
              "\n",
              "    [theme=dark] .colab-df-convert {\n",
              "      background-color: #3B4455;\n",
              "      fill: #D2E3FC;\n",
              "    }\n",
              "\n",
              "    [theme=dark] .colab-df-convert:hover {\n",
              "      background-color: #434B5C;\n",
              "      box-shadow: 0px 1px 3px 1px rgba(0, 0, 0, 0.15);\n",
              "      filter: drop-shadow(0px 1px 2px rgba(0, 0, 0, 0.3));\n",
              "      fill: #FFFFFF;\n",
              "    }\n",
              "  </style>\n",
              "\n",
              "    <script>\n",
              "      const buttonEl =\n",
              "        document.querySelector('#df-ebc79516-8e15-48fb-934a-db02ede6c250 button.colab-df-convert');\n",
              "      buttonEl.style.display =\n",
              "        google.colab.kernel.accessAllowed ? 'block' : 'none';\n",
              "\n",
              "      async function convertToInteractive(key) {\n",
              "        const element = document.querySelector('#df-ebc79516-8e15-48fb-934a-db02ede6c250');\n",
              "        const dataTable =\n",
              "          await google.colab.kernel.invokeFunction('convertToInteractive',\n",
              "                                                    [key], {});\n",
              "        if (!dataTable) return;\n",
              "\n",
              "        const docLinkHtml = 'Like what you see? Visit the ' +\n",
              "          '<a target=\"_blank\" href=https://colab.research.google.com/notebooks/data_table.ipynb>data table notebook</a>'\n",
              "          + ' to learn more about interactive tables.';\n",
              "        element.innerHTML = '';\n",
              "        dataTable['output_type'] = 'display_data';\n",
              "        await google.colab.output.renderOutput(dataTable, element);\n",
              "        const docLink = document.createElement('div');\n",
              "        docLink.innerHTML = docLinkHtml;\n",
              "        element.appendChild(docLink);\n",
              "      }\n",
              "    </script>\n",
              "  </div>\n",
              "\n",
              "\n",
              "<div id=\"df-fddb9d85-c270-4f8f-9d1e-aa12780ab652\">\n",
              "  <button class=\"colab-df-quickchart\" onclick=\"quickchart('df-fddb9d85-c270-4f8f-9d1e-aa12780ab652')\"\n",
              "            title=\"Suggest charts\"\n",
              "            style=\"display:none;\">\n",
              "\n",
              "<svg xmlns=\"http://www.w3.org/2000/svg\" height=\"24px\"viewBox=\"0 0 24 24\"\n",
              "     width=\"24px\">\n",
              "    <g>\n",
              "        <path d=\"M19 3H5c-1.1 0-2 .9-2 2v14c0 1.1.9 2 2 2h14c1.1 0 2-.9 2-2V5c0-1.1-.9-2-2-2zM9 17H7v-7h2v7zm4 0h-2V7h2v10zm4 0h-2v-4h2v4z\"/>\n",
              "    </g>\n",
              "</svg>\n",
              "  </button>\n",
              "\n",
              "<style>\n",
              "  .colab-df-quickchart {\n",
              "      --bg-color: #E8F0FE;\n",
              "      --fill-color: #1967D2;\n",
              "      --hover-bg-color: #E2EBFA;\n",
              "      --hover-fill-color: #174EA6;\n",
              "      --disabled-fill-color: #AAA;\n",
              "      --disabled-bg-color: #DDD;\n",
              "  }\n",
              "\n",
              "  [theme=dark] .colab-df-quickchart {\n",
              "      --bg-color: #3B4455;\n",
              "      --fill-color: #D2E3FC;\n",
              "      --hover-bg-color: #434B5C;\n",
              "      --hover-fill-color: #FFFFFF;\n",
              "      --disabled-bg-color: #3B4455;\n",
              "      --disabled-fill-color: #666;\n",
              "  }\n",
              "\n",
              "  .colab-df-quickchart {\n",
              "    background-color: var(--bg-color);\n",
              "    border: none;\n",
              "    border-radius: 50%;\n",
              "    cursor: pointer;\n",
              "    display: none;\n",
              "    fill: var(--fill-color);\n",
              "    height: 32px;\n",
              "    padding: 0;\n",
              "    width: 32px;\n",
              "  }\n",
              "\n",
              "  .colab-df-quickchart:hover {\n",
              "    background-color: var(--hover-bg-color);\n",
              "    box-shadow: 0 1px 2px rgba(60, 64, 67, 0.3), 0 1px 3px 1px rgba(60, 64, 67, 0.15);\n",
              "    fill: var(--button-hover-fill-color);\n",
              "  }\n",
              "\n",
              "  .colab-df-quickchart-complete:disabled,\n",
              "  .colab-df-quickchart-complete:disabled:hover {\n",
              "    background-color: var(--disabled-bg-color);\n",
              "    fill: var(--disabled-fill-color);\n",
              "    box-shadow: none;\n",
              "  }\n",
              "\n",
              "  .colab-df-spinner {\n",
              "    border: 2px solid var(--fill-color);\n",
              "    border-color: transparent;\n",
              "    border-bottom-color: var(--fill-color);\n",
              "    animation:\n",
              "      spin 1s steps(1) infinite;\n",
              "  }\n",
              "\n",
              "  @keyframes spin {\n",
              "    0% {\n",
              "      border-color: transparent;\n",
              "      border-bottom-color: var(--fill-color);\n",
              "      border-left-color: var(--fill-color);\n",
              "    }\n",
              "    20% {\n",
              "      border-color: transparent;\n",
              "      border-left-color: var(--fill-color);\n",
              "      border-top-color: var(--fill-color);\n",
              "    }\n",
              "    30% {\n",
              "      border-color: transparent;\n",
              "      border-left-color: var(--fill-color);\n",
              "      border-top-color: var(--fill-color);\n",
              "      border-right-color: var(--fill-color);\n",
              "    }\n",
              "    40% {\n",
              "      border-color: transparent;\n",
              "      border-right-color: var(--fill-color);\n",
              "      border-top-color: var(--fill-color);\n",
              "    }\n",
              "    60% {\n",
              "      border-color: transparent;\n",
              "      border-right-color: var(--fill-color);\n",
              "    }\n",
              "    80% {\n",
              "      border-color: transparent;\n",
              "      border-right-color: var(--fill-color);\n",
              "      border-bottom-color: var(--fill-color);\n",
              "    }\n",
              "    90% {\n",
              "      border-color: transparent;\n",
              "      border-bottom-color: var(--fill-color);\n",
              "    }\n",
              "  }\n",
              "</style>\n",
              "\n",
              "  <script>\n",
              "    async function quickchart(key) {\n",
              "      const quickchartButtonEl =\n",
              "        document.querySelector('#' + key + ' button');\n",
              "      quickchartButtonEl.disabled = true;  // To prevent multiple clicks.\n",
              "      quickchartButtonEl.classList.add('colab-df-spinner');\n",
              "      try {\n",
              "        const charts = await google.colab.kernel.invokeFunction(\n",
              "            'suggestCharts', [key], {});\n",
              "      } catch (error) {\n",
              "        console.error('Error during call to suggestCharts:', error);\n",
              "      }\n",
              "      quickchartButtonEl.classList.remove('colab-df-spinner');\n",
              "      quickchartButtonEl.classList.add('colab-df-quickchart-complete');\n",
              "    }\n",
              "    (() => {\n",
              "      let quickchartButtonEl =\n",
              "        document.querySelector('#df-fddb9d85-c270-4f8f-9d1e-aa12780ab652 button');\n",
              "      quickchartButtonEl.style.display =\n",
              "        google.colab.kernel.accessAllowed ? 'block' : 'none';\n",
              "    })();\n",
              "  </script>\n",
              "</div>\n",
              "\n",
              "    </div>\n",
              "  </div>\n"
            ],
            "application/vnd.google.colaboratory.intrinsic+json": {
              "type": "dataframe",
              "summary": "{\n  \"name\": \"df\",\n  \"rows\": 5,\n  \"fields\": [\n    {\n      \"column\": \"\\uc81c\\ubaa9\",\n      \"properties\": {\n        \"dtype\": \"string\",\n        \"num_unique_values\": 5,\n        \"samples\": [\n          \"\\ucf54\\ub974\\ubca0\\uc2a4 \\uc528\",\n          \"\\uc2f8\\uc6c0\\ub2ed\\ub4e4\\uacfc \\ub3c5\\uc218\\ub9ac\",\n          \"\\uac1c\\uc640 \\uc218\\ud0c9\\uacfc \\uc5ec\\uc6b0\"\n        ],\n        \"semantic_type\": \"\",\n        \"description\": \"\"\n      }\n    },\n    {\n      \"column\": \"\\ub0b4\\uc6a9\",\n      \"properties\": {\n        \"dtype\": \"string\",\n        \"num_unique_values\": 5,\n        \"samples\": [\n          \"\\uc61b\\ub0a0 \\uc61b\\uc801\\uc5d0 \\ud568\\uaed8 \\ub4dc\\ub77c\\uc774\\ube0c\\ub97c \\ub098\\uac00\\uace0 \\uc2f6\\uc5b4\\ud55c \\uc218\\ud0c9\\uacfc \\uc554\\ud0c9\\uc774 \\uc788\\uc5c8\\uc5b4\\uc694.\\r\\n\\uadf8\\ub798\\uc11c \\uc218\\ud0c9\\uc740 \\uc608\\uc058\\uc7a5\\ud558\\uac8c \\ub9c8\\ucc28\\ub97c \\ub9cc\\ub4e4\\uc5c8\\uc5b4\\uc694. \\ube68\\uac04 \\uc218\\ub808\\ubc14\\ud034\\uac00 \\ub124 \\uac1c \\ub2ec\\ub9b0 \\ub9c8\\ucc28\\ub85c \\ub124 \\ub9c8\\ub9ac \\uc0dd\\uc950\\ub4e4\\uc774 \\ub044\\ub294 \\ub9c8\\ucc28\\uc600\\ub2f5\\ub2c8\\ub2e4.\\r\\n\\uadf8 \\ub9c8\\ucc28\\uc5d0 \\uc554\\ud0c9\\uc774 \\uc218\\ud0c9\\uacfc \\ud568\\uaed8 \\uc549\\uc544 \\ub4dc\\ub77c\\uc774\\ube0c\\ub97c \\ub098\\uac14\\uc5b4\\uc694.\\r\\n\\uc624\\ub798\\uac00\\uc9c0 \\uc54a\\uc544 \\uadf8\\ub4e4\\uc740 \\uace0\\uc591\\uc774\\ub97c \\ub9cc\\ub0ac\\uc5b4\\uc694.\\r\\n\\uace0\\uc591\\uc774\\uac00 \\ub9d0\\ud588\\uc5b4\\uc694.\\r\\n\\u201c\\ub108\\ud76c\\ub4e4 \\uc5b4\\ub514 \\uac00\\ub2c8?\\u201d\\r\\n\\uc218\\ud0c9\\uc774 \\ub300\\uafb8\\ud588\\uc5b4\\uc694.\\r\\n\\u201c\\ucf54\\ub974\\ubca0\\uc2a4 \\uc528 \\ub301\\uc5d0 \\ub4dc\\ub77c\\uc774\\ube0c \\uac00\\ub824\\ub358 \\ucc38\\uc774\\uc57c.\\u201d\\r\\n\\u201c\\uadf8\\ub7fc \\ub098\\ub3c4 \\ub370\\ub824\\uac00.\\u201d\\ub77c\\uba70 \\uace0\\uc591\\uc774\\uac00 \\ub9d0\\ud588\\uc5b4\\uc694.\\r\\n\\uc218\\ud0c9\\uc774 \\ub300\\ub2f5\\ud588\\uc5b4\\uc694. \\u201c\\uc54c\\uaca0\\uc5b4, \\ub4a4\\uc5d0 \\ud0c0, \\uc55e\\uc5d0 \\ud0c0\\uba74 \\ub5a8\\uc5b4\\uc9c0\\ub2c8\\uae4c. \\uc6b0\\ub9ac \\uadc0\\uc5ec\\uc6b4 \\ube68\\uac04 \\uc218\\ub808\\ubc14\\ud034\\ub4e4 \\ubc1f\\uc9c0 \\uc54a\\uac8c \\uc870\\uc2ec\\ud558\\uace0. \\uc790 \\uadf8\\ub7fc \\uadc0\\uc5ec\\uc6b4 \\uc218\\ub808\\ubc14\\ud034\\ub4e4\\uc544 \\ud68c\\uc804, \\ub108\\ud76c \\uadc0\\uc5ec\\uc6b4 \\uc0dd\\uc950\\ub4e4 \\ucd9c\\ubc1c, \\uc774\\ub300\\ub85c \\ucf54\\ub974\\ubca0\\uc2a4 \\uc528 \\ub301\\uae4c\\uc9c0 \\uac00\\uc790.\\u201d\\r\\n\\uadf8\\ub7f0 \\ub2e4\\uc74c \\ub9f7\\ub3cc\\uc774  \\uc62c\\ub77c\\ud0d4\\uace0\\uc694, \\ub2e4\\uc74c\\uc73c\\ub860 \\ub2ec\\uac40\\uc774 \\uc62c\\ub77c\\ud0d4\\uace0\\uc694, \\ub2e4\\uc74c\\uc73c\\ub85c \\uc624\\ub9ac\\uac00 \\ud0c0\\uace0, \\ub2e4\\uc74c\\uc73c\\ub85c \\ud540\\uc774 \\ud0c0\\uace0, \\ub9c8\\uc9c0\\ub9c9\\uc73c\\ub85c \\ubc14\\ub298\\uc774 \\ud0d4\\uc5b4\\uc694.\\r\\n\\uadf8\\ub4e4 \\ubaa8\\ub450 \\ub9c8\\ucc28\\uc5d0 \\ucc29\\uc11d\\ud574 \\ud568\\uaed8 \\ub4dc\\ub77c\\uc774\\ubc84\\ub97c \\ud558\\uc600\\ub2f5\\ub2c8\\ub2e4.\\r\\n\\r\\n\\r\\n\\uadf8\\ub7f0\\ub370 \\uc774\\ub4e4\\uc774 \\ucf54\\ub974\\ubca0\\uc2a4 \\uc528 \\ub301\\uc5d0 \\ub3c4\\ucc29\\ud574\\ubcf4\\ub2c8 \\uc815\\uc791 \\ucf54\\ub974\\ubca0\\uc2a4 \\uc528\\uac00 \\uc548 \\uacc4\\uc2e0 \\uac70\\uc608\\uc694.\\r\\n\\uadf8\\ub798\\uc11c \\uc77c\\ub2e8 \\uc0dd\\uc950\\ub4e4\\uc774 \\ub9c8\\ucc28\\ub294 \\ud5db\\uac04\\uc5d0 \\ub123\\uc5b4\\ub450\\uc5c8\\uc5b4\\uc694.\\r\\n\\uc554\\ud0c9\\uc740 \\uc218\\ud0c9\\uacfc \\ud568\\uaed8 \\ud478\\ub4dc\\ub355 \\ub0a0\\uc544\\uc62c\\ub77c \\ud683\\ub300 \\uc704\\uc5d0 \\uc790\\ub9ac\\ub97c \\uc7a1\\uace0 \\uc549\\uc558\\uc5b4\\uc694.\\r\\n\\uace0\\uc591\\uc774\\ub294 \\ub09c\\ub85c \\uc606\\uc5d0 \\uc790\\ub9ac\\ub97c \\uc7a1\\uace0 \\uc549\\uc558\\uace0\\uc694, \\uc624\\ub9ac\\ub294 \\uc6b0\\ubb3c\\uac00 \\uae30\\ub465\\uc5d0 \\uac00 \\uc549\\uc558\\uc5b4\\uc694.\\r\\n\\ub2ec\\uac40\\uc740 \\ub370\\uad74\\ub370\\uad74 \\uad74\\ub7ec\\uac00\\ub354\\ub2c8 \\uc218\\uac74\\uc73c\\ub85c \\uc790\\uc2e0\\uc744 \\uc3d9 \\uac10\\uc2f8\\uc549\\uc558\\uace0\\uc694, \\ud540\\uc740 \\uc758\\uc790 \\ucfe0\\uc158 \\uc18d\\uc5d0 \\uc790\\uc2e0\\uc744 \\ucf55 \\uc9d1\\uc5b4\\ub123\\uc5c8\\uace0\\uc694, \\ubc14\\ub298\\uc740 \\ud3f4\\uc9dd \\uc810\\ud504\\ub97c \\ud574 \\ubc30\\uac8c \\ud55c \\uac00\\uc6b4\\ub370\\ub97c \\uc790\\uc2e0\\uc758 \\uce68\\ub300 \\uc0bc\\uc544 \\ub4dc\\ub7ec\\ub204\\uc6e0\\uace0\\uc694, \\ub9f7\\ub3cc\\uc740 \\ud604\\uad00 \\ubb38 \\uc704\\uc5d0 \\uc790\\ub9ac\\ub97c \\uc7a1\\uace0 \\uc549\\uc558\\uc5b4\\uc694.\\r\\n\\r\\n\\r\\n\\ub54c\\ub9c8\\uce68 \\ucf54\\ub974\\ubca0\\uc2a4 \\uc528\\uac00 \\uc9d1\\uc5d0 \\ub3c4\\ucc29\\ud574 \\ub09c\\ub85c \\uac00\\ub85c \\uac00 \\ub9c9 \\u2018\\ubd88\\u2019\\uc744 \\ud53c\\uc6b0\\ub824\\ub294\\ub370 \\uac70\\uae30 \\uc788\\ub358 \\uace0\\uc591\\uc774\\uac00 \\ub290\\ub2f7\\uc5c6\\uc774 \\uadf8\\uc758 \\uc5bc\\uad74\\uc5d0 \\uc7ac\\ub97c \\ud55c \\ubb34\\ub354\\uae30 \\ubfcc\\ub9ac\\ub294 \\uac70\\uc608\\uc694.\\r\\n\\uadf8\\uac00 \\ud669\\uae09\\ud788 \\uc138\\uc218\\ub97c \\ud558\\ub7ec \\ubd80\\uc5cc\\uc73c\\ub85c \\ub6f0\\uc5b4 \\ub4e4\\uc5b4\\uac00\\ub294\\ub370 \\uac70\\uae30 \\uc790\\ub9ac \\uc7a1\\uace0 \\uc788\\ub358 \\uc624\\ub9ac\\uac00 \\ub09c\\ub370\\uc5c6\\uc774 \\ubb3c\\uc744 \\uadf8\\uc758 \\uc5bc\\uad74\\uc5d0 \\ud55c \\ubc14\\uac00\\uc9c0 \\ucca8\\ubc99 \\ucca8\\ubc99 \\ud280\\uae30\\ub294 \\uac70\\uc608\\uc694.\\r\\n\\uadf8\\uac00 \\uc218\\uac74\\uc73c\\ub85c \\ubb3c\\uc744 \\ub2e6\\uc544\\ub0b4\\ub824\\uace0 \\ud558\\ub294\\ub370, \\uac11\\uc790\\uae30 \\ub2ec\\uac40\\uc774 \\ub370\\uad74\\ub370\\uad74 \\uad74\\ub7ec\\uc624\\ub354\\ub2c8 \\uadf8\\uc640 \\ub531 \\ud558\\uace0 \\ubd80\\ub52a\\uccd0 \\uae68\\uc9c0\\uba70 \\uadf8\\uc758 \\ub450 \\ub208\\uc5d0 \\uc648\\uce75 \\ub2ec\\ub77c\\ubd99\\uc5c8\\uc5b4\\uc694.\\r\\n\\uc774\\uac8c \\ub300\\uccb4 \\ubb54 \\uc77c\\uc778\\uac00 \\uc2f6\\uc740 \\uadf8\\uac00 \\ub9c8\\uc74c\\uc744 \\uc548\\uc815\\uc2dc\\ud0a4\\uace0 \\uc2f6\\uc5b4 \\uc758\\uc790\\uc5d0 \\uc549\\ub294\\ub370 \\ud540\\uc774 \\uadf8\\ub9cc \\ucf55 \\ud558\\uace0 \\uadf8\\ub97c \\ucc0c\\ub974\\uace0 \\ub9d0\\uc558\\uc5b4\\uc694.\\r\\n\\u201c\\uc73c~\\uc545!\\u201d\\ub77c\\uba70 \\uc544\\ud514\\uc5d0 \\uaca8\\uc6cc \\uadf8\\uac00 \\uc4f0\\ub7ec\\uc9c0\\ub294\\ub370, \\ub9c8\\uce68 \\uadf8\\uac00 \\uce68\\ub300 \\uc704\\ub85c \\ubab8\\uc744 \\ub358\\uc84c\\uc9c0 \\ubb50\\uc608\\uc694, \\uadf8\\uc758 \\uace0\\uac1c\\uac00 \\ubca0\\uac8c\\uc5d0 \\uac00 \\ub2ff\\uc790\\ub9c8\\uc790, \\uc774\\ubc88\\uc5d4 \\ubc14\\ub298\\uc774 \\ud479 \\ud558\\uace0 \\uadf8\\uc5d0\\uac8c \\uaf42\\ud614\\uace0, \\uadf8\\ub294 \\uc815\\ub9d0\\uc774\\uc9c0 \\ubaa9\\uccad\\uaecf \\ube44\\uba85\\uc744 \\u201c\\uc544\\uc545!\\u201d\\ud558\\uace0 \\uc9c0\\ub974\\uba70 \\ub3d9\\uc2dc\\uc5d0 \\uc131\\uc744 \\ubc84\\ub7ed \\ub0b4\\uba70 \\ub113\\uc740 \\ubc14\\uae65\\uc73c\\ub85c \\ub6f0\\uc5b4\\ub098\\uc624\\ub2e4, \\uadf8\\ub9cc \\uadf8 \\ud604\\uad00\\ubb38\\uc744 \\u201c\\ubc8c\\ucee5!\\u201d\\ud558\\uace0 \\uc5f4\\uc5b4\\uc816\\ud788\\ub2e4 \\uadf8 \\uc704\\uc5d0 \\uc788\\ub358 \\ub9f7\\ub3cc\\uc774 \\u201c\\ucff5!\\u201d\\ud558\\uace0 \\ub6f0\\uc5b4\\ub0b4\\ub9ac\\ub294 \\ubc14\\ub78c\\uc5d0 \\uadf8\\ub294 \\ub9f7\\ub3cc\\uc5d0 \\ubd80\\ub52a\\ud600 \\uc4f0\\ub7ec\\uc84c\\uc5b4\\uc694.\\r\\n\\uc544\\ub2c8 \\ub300\\uccb4 \\ucf54\\ub974\\ubca0\\uc2a4 \\uc528\\uac00 \\ubb34\\uc2a8 \\uc8c4\\ub780 \\ub9d0\\uc778\\uac00\\uc694!\",\n          \"\\uc2f8\\uc6c0\\ub2ed \\ub450 \\ub9c8\\ub9ac\\uac00 \\uc548\\ub9c8\\ub2f9\\uc758 \\uc8fc\\ub3c4\\uad8c\\uc744 \\ub193\\uace0 \\ud53c \\ud130\\uc9c0\\uac8c \\uc2f8\\uc6b0\\uace0 \\uc788\\uc5c8\\uc5b4\\uc694.\\r\\n\\uadf8\\ub7ec\\ub2e4 \\uacb0\\uad6d \\ud55c \\ub9c8\\ub9ac\\uac00 \\ub2e4\\ub978 \\ud55c \\ub9c8\\ub9ac\\ub97c \\ub54c\\ub824\\ub215\\ud790 \\uc218 \\uc788\\uc5c8\\uc8e0.\\r\\n\\uc9c4 \\uc218\\ud0c9\\uc740 \\uc2ac\\uadf8\\uba38\\ub2c8 \\uc790\\ub9ac\\ub97c \\ub5a0 \\ub9c8\\ub2f9 \\uad6c\\uc11d\\ud0f1\\uc774\\ub85c \\ubab8\\uc744 \\uc228\\uacbc\\uc5b4\\uc694. \\r\\n\\ubc18\\uba74 \\uc2f8\\uc6c0\\uc5d0 \\uc774\\uae34 \\uc218\\ud0c9\\uc740 \\ud478\\ub4dc\\ub355 \\ub192\\uc740 \\ub2f4\\ubcbc\\ub77d \\uc704\\ub85c \\ub0a0\\uc544\\uc62c\\ub77c \\ub450 \\ub0a0\\uac1c\\ub97c \\ud478\\ub2e4\\ub2e5\\uac70\\ub9ac\\uba70 \\uc628 \\ub545\\uc774 \\uc9c4\\ub3d9\\ud560 \\ub4ef \\u201c\\uaf2c\\uaf2c\\ub301\\u201d \\ub178\\ub798\\ub97c \\ubd88\\ub800\\uc5b4\\uc694.\\r\\n\\r\\n\\r\\n\\ubc14\\ub85c \\uadf8\\ub54c \\ud558\\ub298\\uc744 \\ube59\\uae00\\ube59\\uae00 \\ub3cc\\uace0 \\uc788\\ub358 \\ub3c5\\uc218\\ub9ac\\uac00 \\uc218\\ud0c9\\uc758 \\uad34\\uc131\\uc744 \\ub4e3\\uace4 \\ub2f9\\uc7a5\\uc5d0 \\ub0b4\\ub824\\uc640 \\uc790\\uc2e0\\uc758 \\ub0a0\\uce74\\ub85c\\uc6b4 \\ubc1c\\ud1b1\\uc73c\\ub85c \\ucc44\\uac00 \\ubc84\\ub838\\uc5b4\\uc694.\\r\\n\\uadf8 \\uc989\\uc2dc \\uc2f8\\uc6c0\\uc5d0 \\ud328\\ud55c \\uc218\\ud0c9\\uc774 \\uad6c\\uc11d\\uc5d0\\uc11c \\ub098\\uc640 \\uc758\\uc2ec\\ud560 \\ubc14 \\uc5c6\\ub294 \\uc548\\ub9c8\\ub2f9\\uc758 \\uc9c4\\uc815\\ud55c \\uc9c0\\ubc30\\uc790\\uac00 \\ub418\\uc5c8\\uc8e0.\\r\\n\\uad50\\ub9cc\\ud55c \\uc790\\ub294 \\uc624\\ub798\\uac00\\uc9c0 \\ubabb\\ud558\\ub294 \\ubc95\\uc774\\uc5d0\\uc694.\",\n          \"\\uac1c\\uc640 \\uc218\\ud0c9\\uc774 \\uce5c\\uad6c\\uac00 \\ub418\\uc5b4 \\ud568\\uaed8 \\uc5ec\\ud589\\uc744 \\ub5a0\\ub0ac\\ub2f5\\ub2c8\\ub2e4.\\r\\n\\ubc24\\uc774 \\ub418\\uc790 \\uadf8\\ub4e4\\uc740 \\uc6b8\\ucc3d\\ud55c \\ub098\\ubb34\\uc18d\\uc5d0 \\uc7a0\\uc798 \\uacf3\\uc744 \\ub9c8\\ub828\\ud588\\uc5b4\\uc694.\\r\\n\\uc218\\ud0c9\\uc740 \\ub0a0\\uc544\\uc62c\\ub77c \\ub098\\ubb34\\uaf2d\\ub300\\uae30\\uc5d0 \\uc788\\ub358 \\ub098\\ubb47\\uac00\\uc9c0\\ub4e4 \\uc704\\uc5d0 \\uac78\\ud130\\uc549\\uc558\\uace0\\uc694, \\uac1c\\ub294 \\ub098\\ubb34 \\uc544\\ub798\\uc758 \\uc18d\\uc774 \\ube48 \\ub098\\ubb34\\uc904\\uae30 \\uc18d\\uc5d0 \\uc7a0\\uc790\\ub9ac\\ub97c \\ub9c8\\ub828\\ud588\\uc5b4\\uc694.\\r\\n\\r\\n\\r\\n\\uc0c8\\ubcbd\\uc774 \\ubc1d\\uc544\\uc624\\uc790, \\uc218\\ud0c9\\uc740 \\ud3c9\\uc18c\\uc640 \\uac19\\uc774 \\uc218\\ucc28\\ub840 \\ud070 \\uc18c\\ub9ac\\ub85c \\u201c\\uaf2c\\ub07c\\uc624\\u201d\\ub77c\\uace0 \\uc6b8\\uc5b4\\ub314\\uc5b4\\uc694.\\r\\n\\uadf8 \\uc18c\\ub9ac\\ub97c \\ub4e4\\uc740 \\uc5ec\\uc6b0\\uac00 \\uc218\\ud0c9\\uc744 \\uc544\\uce68\\uc2dd\\uc0ac\\ub85c \\uc7a1\\uc544\\uba39\\uc73c\\ub7ec \\ub098\\ubb47\\uac00\\uc9c0 \\uc544\\ub798\\ub85c \\uc640 \\ub9d0\\ud588\\uc5b4\\uc694.\\r\\n\\u201c\\uadf8\\ub7f0 \\uc720\\ucc3d\\ud55c \\ubaa9\\uc18c\\ub9ac\\ub97c \\uac00\\uc9c4 \\ub108\\uc640 \\uce5c\\uad6c\\uac00 \\ub418\\uace0 \\uc2f6\\uc5b4.\\u201d\\r\\n\\uadf8\\ub7f4 \\ub9ac \\uc5c6\\ub2e4\\ub294 \\uac78 \\uc798 \\uc544\\ub294 \\uc218\\ud0c9\\uc774 \\ub9d0\\ud588\\uc5b4\\uc694.\\r\\n\\u201c\\uadf8\\ub7fc \\uc81c \\ubc11\\uc5d0 \\uc788\\ub294 \\uc18d\\uc774 \\ube48 \\ub098\\ubb34\\uc904\\uae30\\uc5d0 \\uc788\\ub294 \\ubb38\\uc744 \\uc5f4\\uc5b4 \\uc81c \\ubb38\\uc9c0\\uae30\\ub97c \\uae68\\uc5b4\\ubcf4\\uc138\\uc694, \\uadf8\\uac00 \\ub2f9\\uc2e0\\uaed8 \\uc5ec\\uae30\\ub85c \\ub4e4\\uc5b4\\uc624\\ub294 \\ubb38\\uc744 \\uc5f4\\uc5b4\\uc904 \\uac70\\uc608\\uc694.\\u201d\\r\\n\\r\\n\\r\\n\\uc5ec\\uc6b0\\uac00 \\ub098\\ubb34\\ub85c \\ub2e4\\uac00\\uac00\\ub2c8 \\uac1c\\uac00 \\ub365\\uc11d \\ud280\\uc5b4\\ub098\\uc624\\ub354\\ub2c8 \\uc5ec\\uc6b0\\ub97c \\ud55c \\uc785\\uc5d0 \\ubb3c\\uc5b4\\ub72f\\uc5b4\\ubc84\\ub838\\uc5b4\\uc694.\"\n        ],\n        \"semantic_type\": \"\",\n        \"description\": \"\"\n      }\n    },\n    {\n      \"column\": \"\\uce74\\ud14c\\uace0\\ub9ac\",\n      \"properties\": {\n        \"dtype\": \"string\",\n        \"num_unique_values\": 3,\n        \"samples\": [\n          \"\\uadf8\\ub9bc\\ud615\\uc81c\\ub3d9\\ud654\",\n          \"\\uc774\\uc19d\\uc6b0\\ud654\",\n          \"\\uc804\\ub798\\ub3d9\\ud654\"\n        ],\n        \"semantic_type\": \"\",\n        \"description\": \"\"\n      }\n    },\n    {\n      \"column\": \"\\ud0a4\\uc6cc\\ub4dc\",\n      \"properties\": {\n        \"dtype\": \"string\",\n        \"num_unique_values\": 5,\n        \"samples\": [\n          \"['\\ub2ed', '\\uace0\\uc591\\uc774', '\\ucf54\\ub974\\ubca0\\uc2a4', '\\ub9f7\\ub3cc', '\\ub2ec\\uac40', '\\uc624\\ub9ac', '\\ud540', '\\ubc14\\ub298']\",\n          \"['\\uc218\\ud0c9', '\\ub3c5\\uc218\\ub9ac', '\\uc8fc\\ub3c4\\uad8c', '\\uad50\\ub9cc']\",\n          \"['\\uac1c', '\\uc218\\ud0c9', '\\uc5ec\\uc6b0', '\\uce5c\\uad6c', '\\ub098\\ubb34']\"\n        ],\n        \"semantic_type\": \"\",\n        \"description\": \"\"\n      }\n    },\n    {\n      \"column\": \"\\ud14c\\ub9c8\",\n      \"properties\": {\n        \"dtype\": \"string\",\n        \"num_unique_values\": 3,\n        \"samples\": [\n          \"\\uc232\\uc18d\",\n          \"\\ub9c8\\uc744\",\n          \"\\ub9c8\\ub2f9\"\n        ],\n        \"semantic_type\": \"\",\n        \"description\": \"\"\n      }\n    },\n    {\n      \"column\": \"Tokens\",\n      \"properties\": {\n        \"dtype\": \"object\",\n        \"semantic_type\": \"\",\n        \"description\": \"\"\n      }\n    }\n  ]\n}"
            }
          },
          "metadata": {},
          "execution_count": 27
        }
      ],
      "source": [
        "df.iloc[result[1][0]]"
      ]
    },
    {
      "cell_type": "code",
      "execution_count": 28,
      "metadata": {
        "colab": {
          "base_uri": "https://localhost:8080/"
        },
        "id": "IeB9nDmelLVr",
        "outputId": "edd1ab13-a4b0-483c-88e8-2803950fed04"
      },
      "outputs": [
        {
          "output_type": "stream",
          "name": "stdout",
          "text": [
            "1      하루는 수탉이 암탉에게 말했다. \\r\\n“나무열매들이 익어 가는 계절이 왔는데 슬슬...\n",
            "10     옛날 옛적에 함께 드라이브를 나가고 싶어한 수탉과 암탉이 있었어요.\\r\\n그래서 수...\n",
            "264    개와 수탉이 친구가 되어 함께 여행을 떠났답니다.\\r\\n밤이 되자 그들은 울창한 나...\n",
            "378    옛날 어느 산골 마을에 가난하지만 심지가 아주 굳은 총각이 살고 있었어요. 총각은 ...\n",
            "140    싸움닭 두 마리가 안마당의 주도권을 놓고 피 터지게 싸우고 있었어요.\\r\\n그러다 ...\n",
            "Name: 내용, dtype: object\n"
          ]
        }
      ],
      "source": [
        "# pd.set_option('display.max_rows', None)\n",
        "# pd.set_option('display.max_columns', None)\n",
        "# pd.set_option('display.width', None)\n",
        "# pd.set_option('display.max_colwidth', -1)\n",
        "print(df['내용'].iloc[result[1][0]])"
      ]
    },
    {
      "cell_type": "markdown",
      "metadata": {
        "id": "NJuunYnOpoOS"
      },
      "source": [
        "- 특정 동화를 입력하면 유사한 동화를 출력"
      ]
    },
    {
      "cell_type": "markdown",
      "metadata": {
        "id": "bZ0d7vj5kOC-"
      },
      "source": [
        "#### 특정 주제에 관한 동화들을 분류하는 모델 만들기 - 은혜에 대한 동화"
      ]
    },
    {
      "cell_type": "markdown",
      "metadata": {
        "id": "lzaX5Pu69A-h"
      },
      "source": [
        "**타겟 라벨 만들기**"
      ]
    },
    {
      "cell_type": "code",
      "execution_count": 29,
      "metadata": {
        "id": "czc-DGAaE8NI"
      },
      "outputs": [],
      "source": [
        "for row in df['내용']:\n",
        "  df['내용'] = df['내용'].str.lower()"
      ]
    },
    {
      "cell_type": "code",
      "execution_count": 30,
      "metadata": {
        "id": "RLyxSaLP6aiW"
      },
      "outputs": [],
      "source": [
        "target_label = df['내용'].str.contains('복수')\n",
        "df['label'] = target_label"
      ]
    },
    {
      "cell_type": "code",
      "execution_count": 31,
      "metadata": {
        "id": "UiTmfbdQ8nMW"
      },
      "outputs": [],
      "source": [
        "df['label'] = df['label'].astype(int)"
      ]
    },
    {
      "cell_type": "code",
      "execution_count": 32,
      "metadata": {
        "colab": {
          "base_uri": "https://localhost:8080/"
        },
        "id": "JPwELOts8Hrv",
        "outputId": "e4294a2d-8a3b-4a60-b333-d926b51f3fcc"
      },
      "outputs": [
        {
          "output_type": "stream",
          "name": "stdout",
          "text": [
            "<class 'pandas.core.frame.DataFrame'>\n",
            "RangeIndex: 442 entries, 0 to 441\n",
            "Data columns (total 7 columns):\n",
            " #   Column  Non-Null Count  Dtype \n",
            "---  ------  --------------  ----- \n",
            " 0   제목      442 non-null    object\n",
            " 1   내용      442 non-null    object\n",
            " 2   카테고리    442 non-null    object\n",
            " 3   키워드     442 non-null    object\n",
            " 4   테마      442 non-null    object\n",
            " 5   Tokens  442 non-null    object\n",
            " 6   label   442 non-null    int64 \n",
            "dtypes: int64(1), object(6)\n",
            "memory usage: 24.3+ KB\n"
          ]
        }
      ],
      "source": [
        "df.info()"
      ]
    },
    {
      "cell_type": "code",
      "execution_count": 33,
      "metadata": {
        "colab": {
          "base_uri": "https://localhost:8080/"
        },
        "id": "44BIZED750Nj",
        "outputId": "94220047-fc62-4343-f63b-d76c6e762606"
      },
      "outputs": [
        {
          "output_type": "execute_result",
          "data": {
            "text/plain": [
              "label\n",
              "0    428\n",
              "1     14\n",
              "Name: count, dtype: int64"
            ]
          },
          "metadata": {},
          "execution_count": 33
        }
      ],
      "source": [
        "df['label'].value_counts()"
      ]
    },
    {
      "cell_type": "markdown",
      "metadata": {
        "id": "Qg27AFQf9tft"
      },
      "source": [
        "**훈련, 테스트셋 분리**"
      ]
    },
    {
      "cell_type": "code",
      "execution_count": 34,
      "metadata": {
        "colab": {
          "base_uri": "https://localhost:8080/"
        },
        "id": "5AVYTeV09MyG",
        "outputId": "f8e0efc1-31ec-4676-a0df-991c0d0c0ae5"
      },
      "outputs": [
        {
          "output_type": "execute_result",
          "data": {
            "text/plain": [
              "((309,), (133,), (309,), (133,))"
            ]
          },
          "metadata": {},
          "execution_count": 34
        }
      ],
      "source": [
        "from sklearn.model_selection import train_test_split\n",
        "\n",
        "train = df['내용']\n",
        "target = df['label']\n",
        "\n",
        "x_train, x_test, y_train, y_test = train_test_split(train, target, test_size = 0.3, random_state = 11)\n",
        "\n",
        "x_train.shape, x_test.shape, y_train.shape, y_test.shape"
      ]
    },
    {
      "cell_type": "markdown",
      "metadata": {
        "id": "MWY5EsLBRkJv"
      },
      "source": [
        "**Baseline**"
      ]
    },
    {
      "cell_type": "code",
      "execution_count": 35,
      "metadata": {
        "id": "D_oWRQeqQ0KH"
      },
      "outputs": [],
      "source": [
        "#Baseline - logistic regression\n",
        "import numpy as np\n",
        "import scipy.stats as stats\n",
        "from sklearn.model_selection import RandomizedSearchCV\n",
        "from sklearn.model_selection import GridSearchCV\n",
        "from sklearn.ensemble import RandomForestClassifier\n",
        "from sklearn.pipeline import Pipeline\n",
        "from sklearn.feature_extraction.text import TfidfVectorizer\n",
        "from sklearn.decomposition import TruncatedSVD\n",
        "from sklearn.linear_model import LogisticRegression\n",
        "\n",
        "vect = TfidfVectorizer(stop_words=st_words\n",
        "                       , ngram_range=(1,2)\n",
        "                       , min_df=2\n",
        "                       , max_df=0.7\n",
        "                        ,tokenizer=tokenize_test\n",
        "                       , max_features=10000\n",
        "                      )\n",
        "\n",
        "svd = TruncatedSVD(algorithm='randomized'\n",
        "                   , n_iter=5\n",
        "                   , random_state=11)\n",
        "\n",
        "\n",
        "lgs = LogisticRegression()\n",
        "\n",
        "pipe_baseline = Pipeline([\n",
        "  ('vect', vect)\n",
        "  , ('svd', svd)\n",
        "  , ('lgs', lgs)\n",
        "])"
      ]
    },
    {
      "cell_type": "code",
      "execution_count": 36,
      "metadata": {
        "colab": {
          "base_uri": "https://localhost:8080/",
          "height": 252
        },
        "id": "-bIsvwE4SHek",
        "outputId": "e7b7ecb2-e7cb-418a-cc86-8e516479ed22"
      },
      "outputs": [
        {
          "output_type": "stream",
          "name": "stderr",
          "text": [
            "/usr/local/lib/python3.10/dist-packages/sklearn/feature_extraction/text.py:528: UserWarning: The parameter 'token_pattern' will not be used since 'tokenizer' is not None'\n",
            "  warnings.warn(\n",
            "/usr/local/lib/python3.10/dist-packages/sklearn/feature_extraction/text.py:409: UserWarning: Your stop_words may be inconsistent with your preprocessing. Tokenizing the stop words generated tokens ['각하', '간', '개', '거나', '거리', '걸', '겁', '것과', '견지', '결과', '결론', '고려', '곤', '곳', '공동', '관', '관계', '관련', '구체', '구토', '근거', '기대', '기점', '기준', '김', '까닭', '나머지', '남', '낫다', '낼', '년도', '논', '누가', '다시', '답', '대로', '대하', '대해', '더', '더욱이', '도달', '도착', '동시', '됏', '두번째', '뒤', '듯', '따름', '때문', '라면', '리하', '마자', '막론', '만', '만이', '만하', '말', '망정', '메', '몰랏다', '무릎', '바', '반대', '방면', '보아', '본대', '부류', '불구', '불문', '비', '비걱거리', '비교', '뿐', '사람', '상대', '생각', '서술', '수', '시오', '시작', '시초', '아래', '아무', '안', '알', '알다', '앞', '어기', '어쨋', '어찌됏', '여보', '연관', '옆', '외', '요', '우', '위', '위해', '윗', '의거', '의지', '의치', '이로', '이서', '이외', '이용', '이유', '인', '일반', '일지', '임', '입', '입장', '적', '점', '정도', '제외', '젠', '종합', '주저', '줄', '중', '즈음', '지경', '진짜', '집', '쪽', '차', '첫', '토', '통', '편이', '하든', '하자', '한적', '함', '항목', '해', '해도', '향', '형식', '후', '힘'] not in stop_words.\n",
            "  warnings.warn(\n"
          ]
        },
        {
          "output_type": "execute_result",
          "data": {
            "text/plain": [
              "Pipeline(steps=[('vect',\n",
              "                 TfidfVectorizer(max_df=0.7, max_features=10000, min_df=2,\n",
              "                                 ngram_range=(1, 2),\n",
              "                                 stop_words=['이봐', '남들', '가령', '하지마', '해봐요',\n",
              "                                             '반대로 말하자면', '그렇게 함으로써', '매번',\n",
              "                                             '얼마나', '다섯', '으로서', '대해 말하자면',\n",
              "                                             '예를 들면', '운운', '참', '월', '다수',\n",
              "                                             '설사', '하도다', '향하다', '단지', '무엇때문에',\n",
              "                                             '대하면', '관한', '비걱거리다', '우리', '그렇지만',\n",
              "                                             '이곳', '힘입어', '하는것만 못하다', ...],\n",
              "                                 tokenizer=<function tokenize_test at 0x7bbe80d86dd0>)),\n",
              "                ('svd', TruncatedSVD(random_state=11)),\n",
              "                ('lgs', LogisticRegression())])"
            ],
            "text/html": [
              "<style>#sk-container-id-2 {color: black;background-color: white;}#sk-container-id-2 pre{padding: 0;}#sk-container-id-2 div.sk-toggleable {background-color: white;}#sk-container-id-2 label.sk-toggleable__label {cursor: pointer;display: block;width: 100%;margin-bottom: 0;padding: 0.3em;box-sizing: border-box;text-align: center;}#sk-container-id-2 label.sk-toggleable__label-arrow:before {content: \"▸\";float: left;margin-right: 0.25em;color: #696969;}#sk-container-id-2 label.sk-toggleable__label-arrow:hover:before {color: black;}#sk-container-id-2 div.sk-estimator:hover label.sk-toggleable__label-arrow:before {color: black;}#sk-container-id-2 div.sk-toggleable__content {max-height: 0;max-width: 0;overflow: hidden;text-align: left;background-color: #f0f8ff;}#sk-container-id-2 div.sk-toggleable__content pre {margin: 0.2em;color: black;border-radius: 0.25em;background-color: #f0f8ff;}#sk-container-id-2 input.sk-toggleable__control:checked~div.sk-toggleable__content {max-height: 200px;max-width: 100%;overflow: auto;}#sk-container-id-2 input.sk-toggleable__control:checked~label.sk-toggleable__label-arrow:before {content: \"▾\";}#sk-container-id-2 div.sk-estimator input.sk-toggleable__control:checked~label.sk-toggleable__label {background-color: #d4ebff;}#sk-container-id-2 div.sk-label input.sk-toggleable__control:checked~label.sk-toggleable__label {background-color: #d4ebff;}#sk-container-id-2 input.sk-hidden--visually {border: 0;clip: rect(1px 1px 1px 1px);clip: rect(1px, 1px, 1px, 1px);height: 1px;margin: -1px;overflow: hidden;padding: 0;position: absolute;width: 1px;}#sk-container-id-2 div.sk-estimator {font-family: monospace;background-color: #f0f8ff;border: 1px dotted black;border-radius: 0.25em;box-sizing: border-box;margin-bottom: 0.5em;}#sk-container-id-2 div.sk-estimator:hover {background-color: #d4ebff;}#sk-container-id-2 div.sk-parallel-item::after {content: \"\";width: 100%;border-bottom: 1px solid gray;flex-grow: 1;}#sk-container-id-2 div.sk-label:hover label.sk-toggleable__label {background-color: #d4ebff;}#sk-container-id-2 div.sk-serial::before {content: \"\";position: absolute;border-left: 1px solid gray;box-sizing: border-box;top: 0;bottom: 0;left: 50%;z-index: 0;}#sk-container-id-2 div.sk-serial {display: flex;flex-direction: column;align-items: center;background-color: white;padding-right: 0.2em;padding-left: 0.2em;position: relative;}#sk-container-id-2 div.sk-item {position: relative;z-index: 1;}#sk-container-id-2 div.sk-parallel {display: flex;align-items: stretch;justify-content: center;background-color: white;position: relative;}#sk-container-id-2 div.sk-item::before, #sk-container-id-2 div.sk-parallel-item::before {content: \"\";position: absolute;border-left: 1px solid gray;box-sizing: border-box;top: 0;bottom: 0;left: 50%;z-index: -1;}#sk-container-id-2 div.sk-parallel-item {display: flex;flex-direction: column;z-index: 1;position: relative;background-color: white;}#sk-container-id-2 div.sk-parallel-item:first-child::after {align-self: flex-end;width: 50%;}#sk-container-id-2 div.sk-parallel-item:last-child::after {align-self: flex-start;width: 50%;}#sk-container-id-2 div.sk-parallel-item:only-child::after {width: 0;}#sk-container-id-2 div.sk-dashed-wrapped {border: 1px dashed gray;margin: 0 0.4em 0.5em 0.4em;box-sizing: border-box;padding-bottom: 0.4em;background-color: white;}#sk-container-id-2 div.sk-label label {font-family: monospace;font-weight: bold;display: inline-block;line-height: 1.2em;}#sk-container-id-2 div.sk-label-container {text-align: center;}#sk-container-id-2 div.sk-container {/* jupyter's `normalize.less` sets `[hidden] { display: none; }` but bootstrap.min.css set `[hidden] { display: none !important; }` so we also need the `!important` here to be able to override the default hidden behavior on the sphinx rendered scikit-learn.org. See: https://github.com/scikit-learn/scikit-learn/issues/21755 */display: inline-block !important;position: relative;}#sk-container-id-2 div.sk-text-repr-fallback {display: none;}</style><div id=\"sk-container-id-2\" class=\"sk-top-container\"><div class=\"sk-text-repr-fallback\"><pre>Pipeline(steps=[(&#x27;vect&#x27;,\n",
              "                 TfidfVectorizer(max_df=0.7, max_features=10000, min_df=2,\n",
              "                                 ngram_range=(1, 2),\n",
              "                                 stop_words=[&#x27;이봐&#x27;, &#x27;남들&#x27;, &#x27;가령&#x27;, &#x27;하지마&#x27;, &#x27;해봐요&#x27;,\n",
              "                                             &#x27;반대로 말하자면&#x27;, &#x27;그렇게 함으로써&#x27;, &#x27;매번&#x27;,\n",
              "                                             &#x27;얼마나&#x27;, &#x27;다섯&#x27;, &#x27;으로서&#x27;, &#x27;대해 말하자면&#x27;,\n",
              "                                             &#x27;예를 들면&#x27;, &#x27;운운&#x27;, &#x27;참&#x27;, &#x27;월&#x27;, &#x27;다수&#x27;,\n",
              "                                             &#x27;설사&#x27;, &#x27;하도다&#x27;, &#x27;향하다&#x27;, &#x27;단지&#x27;, &#x27;무엇때문에&#x27;,\n",
              "                                             &#x27;대하면&#x27;, &#x27;관한&#x27;, &#x27;비걱거리다&#x27;, &#x27;우리&#x27;, &#x27;그렇지만&#x27;,\n",
              "                                             &#x27;이곳&#x27;, &#x27;힘입어&#x27;, &#x27;하는것만 못하다&#x27;, ...],\n",
              "                                 tokenizer=&lt;function tokenize_test at 0x7bbe80d86dd0&gt;)),\n",
              "                (&#x27;svd&#x27;, TruncatedSVD(random_state=11)),\n",
              "                (&#x27;lgs&#x27;, LogisticRegression())])</pre><b>In a Jupyter environment, please rerun this cell to show the HTML representation or trust the notebook. <br />On GitHub, the HTML representation is unable to render, please try loading this page with nbviewer.org.</b></div><div class=\"sk-container\" hidden><div class=\"sk-item sk-dashed-wrapped\"><div class=\"sk-label-container\"><div class=\"sk-label sk-toggleable\"><input class=\"sk-toggleable__control sk-hidden--visually\" id=\"sk-estimator-id-2\" type=\"checkbox\" ><label for=\"sk-estimator-id-2\" class=\"sk-toggleable__label sk-toggleable__label-arrow\">Pipeline</label><div class=\"sk-toggleable__content\"><pre>Pipeline(steps=[(&#x27;vect&#x27;,\n",
              "                 TfidfVectorizer(max_df=0.7, max_features=10000, min_df=2,\n",
              "                                 ngram_range=(1, 2),\n",
              "                                 stop_words=[&#x27;이봐&#x27;, &#x27;남들&#x27;, &#x27;가령&#x27;, &#x27;하지마&#x27;, &#x27;해봐요&#x27;,\n",
              "                                             &#x27;반대로 말하자면&#x27;, &#x27;그렇게 함으로써&#x27;, &#x27;매번&#x27;,\n",
              "                                             &#x27;얼마나&#x27;, &#x27;다섯&#x27;, &#x27;으로서&#x27;, &#x27;대해 말하자면&#x27;,\n",
              "                                             &#x27;예를 들면&#x27;, &#x27;운운&#x27;, &#x27;참&#x27;, &#x27;월&#x27;, &#x27;다수&#x27;,\n",
              "                                             &#x27;설사&#x27;, &#x27;하도다&#x27;, &#x27;향하다&#x27;, &#x27;단지&#x27;, &#x27;무엇때문에&#x27;,\n",
              "                                             &#x27;대하면&#x27;, &#x27;관한&#x27;, &#x27;비걱거리다&#x27;, &#x27;우리&#x27;, &#x27;그렇지만&#x27;,\n",
              "                                             &#x27;이곳&#x27;, &#x27;힘입어&#x27;, &#x27;하는것만 못하다&#x27;, ...],\n",
              "                                 tokenizer=&lt;function tokenize_test at 0x7bbe80d86dd0&gt;)),\n",
              "                (&#x27;svd&#x27;, TruncatedSVD(random_state=11)),\n",
              "                (&#x27;lgs&#x27;, LogisticRegression())])</pre></div></div></div><div class=\"sk-serial\"><div class=\"sk-item\"><div class=\"sk-estimator sk-toggleable\"><input class=\"sk-toggleable__control sk-hidden--visually\" id=\"sk-estimator-id-3\" type=\"checkbox\" ><label for=\"sk-estimator-id-3\" class=\"sk-toggleable__label sk-toggleable__label-arrow\">TfidfVectorizer</label><div class=\"sk-toggleable__content\"><pre>TfidfVectorizer(max_df=0.7, max_features=10000, min_df=2, ngram_range=(1, 2),\n",
              "                stop_words=[&#x27;이봐&#x27;, &#x27;남들&#x27;, &#x27;가령&#x27;, &#x27;하지마&#x27;, &#x27;해봐요&#x27;, &#x27;반대로 말하자면&#x27;,\n",
              "                            &#x27;그렇게 함으로써&#x27;, &#x27;매번&#x27;, &#x27;얼마나&#x27;, &#x27;다섯&#x27;, &#x27;으로서&#x27;, &#x27;대해 말하자면&#x27;,\n",
              "                            &#x27;예를 들면&#x27;, &#x27;운운&#x27;, &#x27;참&#x27;, &#x27;월&#x27;, &#x27;다수&#x27;, &#x27;설사&#x27;, &#x27;하도다&#x27;, &#x27;향하다&#x27;,\n",
              "                            &#x27;단지&#x27;, &#x27;무엇때문에&#x27;, &#x27;대하면&#x27;, &#x27;관한&#x27;, &#x27;비걱거리다&#x27;, &#x27;우리&#x27;, &#x27;그렇지만&#x27;,\n",
              "                            &#x27;이곳&#x27;, &#x27;힘입어&#x27;, &#x27;하는것만 못하다&#x27;, ...],\n",
              "                tokenizer=&lt;function tokenize_test at 0x7bbe80d86dd0&gt;)</pre></div></div></div><div class=\"sk-item\"><div class=\"sk-estimator sk-toggleable\"><input class=\"sk-toggleable__control sk-hidden--visually\" id=\"sk-estimator-id-4\" type=\"checkbox\" ><label for=\"sk-estimator-id-4\" class=\"sk-toggleable__label sk-toggleable__label-arrow\">TruncatedSVD</label><div class=\"sk-toggleable__content\"><pre>TruncatedSVD(random_state=11)</pre></div></div></div><div class=\"sk-item\"><div class=\"sk-estimator sk-toggleable\"><input class=\"sk-toggleable__control sk-hidden--visually\" id=\"sk-estimator-id-5\" type=\"checkbox\" ><label for=\"sk-estimator-id-5\" class=\"sk-toggleable__label sk-toggleable__label-arrow\">LogisticRegression</label><div class=\"sk-toggleable__content\"><pre>LogisticRegression()</pre></div></div></div></div></div></div></div>"
            ]
          },
          "metadata": {},
          "execution_count": 36
        }
      ],
      "source": [
        "pipe_baseline.fit(x_train,y_train)"
      ]
    },
    {
      "cell_type": "code",
      "execution_count": 37,
      "metadata": {
        "colab": {
          "base_uri": "https://localhost:8080/"
        },
        "id": "RPmeI5mMSbkZ",
        "outputId": "ffdb1433-9e7b-4e9d-cfb2-8043403a6676"
      },
      "outputs": [
        {
          "output_type": "execute_result",
          "data": {
            "text/plain": [
              "0.9699248120300752"
            ]
          },
          "metadata": {},
          "execution_count": 37
        }
      ],
      "source": [
        "from sklearn.metrics import accuracy_score\n",
        "from sklearn.metrics import classification_report\n",
        "\n",
        "y_pred_base = pipe_baseline.predict(x_test)\n",
        "accuracy_score(y_test, y_pred_base)"
      ]
    },
    {
      "cell_type": "code",
      "execution_count": 38,
      "metadata": {
        "colab": {
          "base_uri": "https://localhost:8080/"
        },
        "id": "Bdx-PhrhSnP_",
        "outputId": "1efc08fa-bf2c-4830-f7bc-b5e523c6d143"
      },
      "outputs": [
        {
          "output_type": "stream",
          "name": "stdout",
          "text": [
            "              precision    recall  f1-score   support\n",
            "\n",
            "           0       0.97      1.00      0.98       129\n",
            "           1       0.00      0.00      0.00         4\n",
            "\n",
            "    accuracy                           0.97       133\n",
            "   macro avg       0.48      0.50      0.49       133\n",
            "weighted avg       0.94      0.97      0.96       133\n",
            "\n"
          ]
        },
        {
          "output_type": "stream",
          "name": "stderr",
          "text": [
            "/usr/local/lib/python3.10/dist-packages/sklearn/metrics/_classification.py:1344: UndefinedMetricWarning: Precision and F-score are ill-defined and being set to 0.0 in labels with no predicted samples. Use `zero_division` parameter to control this behavior.\n",
            "  _warn_prf(average, modifier, msg_start, len(result))\n",
            "/usr/local/lib/python3.10/dist-packages/sklearn/metrics/_classification.py:1344: UndefinedMetricWarning: Precision and F-score are ill-defined and being set to 0.0 in labels with no predicted samples. Use `zero_division` parameter to control this behavior.\n",
            "  _warn_prf(average, modifier, msg_start, len(result))\n",
            "/usr/local/lib/python3.10/dist-packages/sklearn/metrics/_classification.py:1344: UndefinedMetricWarning: Precision and F-score are ill-defined and being set to 0.0 in labels with no predicted samples. Use `zero_division` parameter to control this behavior.\n",
            "  _warn_prf(average, modifier, msg_start, len(result))\n"
          ]
        }
      ],
      "source": [
        "print(classification_report(y_test, y_pred_base))"
      ]
    },
    {
      "cell_type": "markdown",
      "metadata": {
        "id": "YihN8rMxOcEA"
      },
      "source": [
        "**Pipeline**"
      ]
    },
    {
      "cell_type": "code",
      "execution_count": 39,
      "metadata": {
        "id": "gPti9_xPJK6g"
      },
      "outputs": [],
      "source": [
        "vect = TfidfVectorizer(stop_words=st_words\n",
        "                       , ngram_range=(1,2)\n",
        "                       , min_df=2\n",
        "                       , max_df=0.7\n",
        "                        ,tokenizer=tokenize_test\n",
        "                       , max_features=10000\n",
        "                      )\n",
        "\n",
        "svd = TruncatedSVD(algorithm='randomized'\n",
        "                   , n_iter=5\n",
        "                   , random_state=11)\n",
        "\n",
        "clf = RandomForestClassifier(n_estimators=500\n",
        "                             , random_state=11)\n",
        "\n",
        "pipe = Pipeline([\n",
        "  ('vect', vect)\n",
        "  , ('svd', svd)\n",
        "  , ('clf', clf)\n",
        "])"
      ]
    },
    {
      "cell_type": "code",
      "execution_count": 40,
      "metadata": {
        "colab": {
          "base_uri": "https://localhost:8080/",
          "height": 252
        },
        "id": "kJP7dUOAJ8KE",
        "outputId": "05b42de6-0891-4cea-8939-dea118d3f02f"
      },
      "outputs": [
        {
          "output_type": "stream",
          "name": "stderr",
          "text": [
            "/usr/local/lib/python3.10/dist-packages/sklearn/feature_extraction/text.py:528: UserWarning: The parameter 'token_pattern' will not be used since 'tokenizer' is not None'\n",
            "  warnings.warn(\n",
            "/usr/local/lib/python3.10/dist-packages/sklearn/feature_extraction/text.py:409: UserWarning: Your stop_words may be inconsistent with your preprocessing. Tokenizing the stop words generated tokens ['각하', '간', '개', '거나', '거리', '걸', '겁', '것과', '견지', '결과', '결론', '고려', '곤', '곳', '공동', '관', '관계', '관련', '구체', '구토', '근거', '기대', '기점', '기준', '김', '까닭', '나머지', '남', '낫다', '낼', '년도', '논', '누가', '다시', '답', '대로', '대하', '대해', '더', '더욱이', '도달', '도착', '동시', '됏', '두번째', '뒤', '듯', '따름', '때문', '라면', '리하', '마자', '막론', '만', '만이', '만하', '말', '망정', '메', '몰랏다', '무릎', '바', '반대', '방면', '보아', '본대', '부류', '불구', '불문', '비', '비걱거리', '비교', '뿐', '사람', '상대', '생각', '서술', '수', '시오', '시작', '시초', '아래', '아무', '안', '알', '알다', '앞', '어기', '어쨋', '어찌됏', '여보', '연관', '옆', '외', '요', '우', '위', '위해', '윗', '의거', '의지', '의치', '이로', '이서', '이외', '이용', '이유', '인', '일반', '일지', '임', '입', '입장', '적', '점', '정도', '제외', '젠', '종합', '주저', '줄', '중', '즈음', '지경', '진짜', '집', '쪽', '차', '첫', '토', '통', '편이', '하든', '하자', '한적', '함', '항목', '해', '해도', '향', '형식', '후', '힘'] not in stop_words.\n",
            "  warnings.warn(\n"
          ]
        },
        {
          "output_type": "execute_result",
          "data": {
            "text/plain": [
              "Pipeline(steps=[('vect',\n",
              "                 TfidfVectorizer(max_df=0.7, max_features=10000, min_df=2,\n",
              "                                 ngram_range=(1, 2),\n",
              "                                 stop_words=['이봐', '남들', '가령', '하지마', '해봐요',\n",
              "                                             '반대로 말하자면', '그렇게 함으로써', '매번',\n",
              "                                             '얼마나', '다섯', '으로서', '대해 말하자면',\n",
              "                                             '예를 들면', '운운', '참', '월', '다수',\n",
              "                                             '설사', '하도다', '향하다', '단지', '무엇때문에',\n",
              "                                             '대하면', '관한', '비걱거리다', '우리', '그렇지만',\n",
              "                                             '이곳', '힘입어', '하는것만 못하다', ...],\n",
              "                                 tokenizer=<function tokenize_test at 0x7bbe80d86dd0>)),\n",
              "                ('svd', TruncatedSVD(random_state=11)),\n",
              "                ('clf',\n",
              "                 RandomForestClassifier(n_estimators=500, random_state=11))])"
            ],
            "text/html": [
              "<style>#sk-container-id-3 {color: black;background-color: white;}#sk-container-id-3 pre{padding: 0;}#sk-container-id-3 div.sk-toggleable {background-color: white;}#sk-container-id-3 label.sk-toggleable__label {cursor: pointer;display: block;width: 100%;margin-bottom: 0;padding: 0.3em;box-sizing: border-box;text-align: center;}#sk-container-id-3 label.sk-toggleable__label-arrow:before {content: \"▸\";float: left;margin-right: 0.25em;color: #696969;}#sk-container-id-3 label.sk-toggleable__label-arrow:hover:before {color: black;}#sk-container-id-3 div.sk-estimator:hover label.sk-toggleable__label-arrow:before {color: black;}#sk-container-id-3 div.sk-toggleable__content {max-height: 0;max-width: 0;overflow: hidden;text-align: left;background-color: #f0f8ff;}#sk-container-id-3 div.sk-toggleable__content pre {margin: 0.2em;color: black;border-radius: 0.25em;background-color: #f0f8ff;}#sk-container-id-3 input.sk-toggleable__control:checked~div.sk-toggleable__content {max-height: 200px;max-width: 100%;overflow: auto;}#sk-container-id-3 input.sk-toggleable__control:checked~label.sk-toggleable__label-arrow:before {content: \"▾\";}#sk-container-id-3 div.sk-estimator input.sk-toggleable__control:checked~label.sk-toggleable__label {background-color: #d4ebff;}#sk-container-id-3 div.sk-label input.sk-toggleable__control:checked~label.sk-toggleable__label {background-color: #d4ebff;}#sk-container-id-3 input.sk-hidden--visually {border: 0;clip: rect(1px 1px 1px 1px);clip: rect(1px, 1px, 1px, 1px);height: 1px;margin: -1px;overflow: hidden;padding: 0;position: absolute;width: 1px;}#sk-container-id-3 div.sk-estimator {font-family: monospace;background-color: #f0f8ff;border: 1px dotted black;border-radius: 0.25em;box-sizing: border-box;margin-bottom: 0.5em;}#sk-container-id-3 div.sk-estimator:hover {background-color: #d4ebff;}#sk-container-id-3 div.sk-parallel-item::after {content: \"\";width: 100%;border-bottom: 1px solid gray;flex-grow: 1;}#sk-container-id-3 div.sk-label:hover label.sk-toggleable__label {background-color: #d4ebff;}#sk-container-id-3 div.sk-serial::before {content: \"\";position: absolute;border-left: 1px solid gray;box-sizing: border-box;top: 0;bottom: 0;left: 50%;z-index: 0;}#sk-container-id-3 div.sk-serial {display: flex;flex-direction: column;align-items: center;background-color: white;padding-right: 0.2em;padding-left: 0.2em;position: relative;}#sk-container-id-3 div.sk-item {position: relative;z-index: 1;}#sk-container-id-3 div.sk-parallel {display: flex;align-items: stretch;justify-content: center;background-color: white;position: relative;}#sk-container-id-3 div.sk-item::before, #sk-container-id-3 div.sk-parallel-item::before {content: \"\";position: absolute;border-left: 1px solid gray;box-sizing: border-box;top: 0;bottom: 0;left: 50%;z-index: -1;}#sk-container-id-3 div.sk-parallel-item {display: flex;flex-direction: column;z-index: 1;position: relative;background-color: white;}#sk-container-id-3 div.sk-parallel-item:first-child::after {align-self: flex-end;width: 50%;}#sk-container-id-3 div.sk-parallel-item:last-child::after {align-self: flex-start;width: 50%;}#sk-container-id-3 div.sk-parallel-item:only-child::after {width: 0;}#sk-container-id-3 div.sk-dashed-wrapped {border: 1px dashed gray;margin: 0 0.4em 0.5em 0.4em;box-sizing: border-box;padding-bottom: 0.4em;background-color: white;}#sk-container-id-3 div.sk-label label {font-family: monospace;font-weight: bold;display: inline-block;line-height: 1.2em;}#sk-container-id-3 div.sk-label-container {text-align: center;}#sk-container-id-3 div.sk-container {/* jupyter's `normalize.less` sets `[hidden] { display: none; }` but bootstrap.min.css set `[hidden] { display: none !important; }` so we also need the `!important` here to be able to override the default hidden behavior on the sphinx rendered scikit-learn.org. See: https://github.com/scikit-learn/scikit-learn/issues/21755 */display: inline-block !important;position: relative;}#sk-container-id-3 div.sk-text-repr-fallback {display: none;}</style><div id=\"sk-container-id-3\" class=\"sk-top-container\"><div class=\"sk-text-repr-fallback\"><pre>Pipeline(steps=[(&#x27;vect&#x27;,\n",
              "                 TfidfVectorizer(max_df=0.7, max_features=10000, min_df=2,\n",
              "                                 ngram_range=(1, 2),\n",
              "                                 stop_words=[&#x27;이봐&#x27;, &#x27;남들&#x27;, &#x27;가령&#x27;, &#x27;하지마&#x27;, &#x27;해봐요&#x27;,\n",
              "                                             &#x27;반대로 말하자면&#x27;, &#x27;그렇게 함으로써&#x27;, &#x27;매번&#x27;,\n",
              "                                             &#x27;얼마나&#x27;, &#x27;다섯&#x27;, &#x27;으로서&#x27;, &#x27;대해 말하자면&#x27;,\n",
              "                                             &#x27;예를 들면&#x27;, &#x27;운운&#x27;, &#x27;참&#x27;, &#x27;월&#x27;, &#x27;다수&#x27;,\n",
              "                                             &#x27;설사&#x27;, &#x27;하도다&#x27;, &#x27;향하다&#x27;, &#x27;단지&#x27;, &#x27;무엇때문에&#x27;,\n",
              "                                             &#x27;대하면&#x27;, &#x27;관한&#x27;, &#x27;비걱거리다&#x27;, &#x27;우리&#x27;, &#x27;그렇지만&#x27;,\n",
              "                                             &#x27;이곳&#x27;, &#x27;힘입어&#x27;, &#x27;하는것만 못하다&#x27;, ...],\n",
              "                                 tokenizer=&lt;function tokenize_test at 0x7bbe80d86dd0&gt;)),\n",
              "                (&#x27;svd&#x27;, TruncatedSVD(random_state=11)),\n",
              "                (&#x27;clf&#x27;,\n",
              "                 RandomForestClassifier(n_estimators=500, random_state=11))])</pre><b>In a Jupyter environment, please rerun this cell to show the HTML representation or trust the notebook. <br />On GitHub, the HTML representation is unable to render, please try loading this page with nbviewer.org.</b></div><div class=\"sk-container\" hidden><div class=\"sk-item sk-dashed-wrapped\"><div class=\"sk-label-container\"><div class=\"sk-label sk-toggleable\"><input class=\"sk-toggleable__control sk-hidden--visually\" id=\"sk-estimator-id-6\" type=\"checkbox\" ><label for=\"sk-estimator-id-6\" class=\"sk-toggleable__label sk-toggleable__label-arrow\">Pipeline</label><div class=\"sk-toggleable__content\"><pre>Pipeline(steps=[(&#x27;vect&#x27;,\n",
              "                 TfidfVectorizer(max_df=0.7, max_features=10000, min_df=2,\n",
              "                                 ngram_range=(1, 2),\n",
              "                                 stop_words=[&#x27;이봐&#x27;, &#x27;남들&#x27;, &#x27;가령&#x27;, &#x27;하지마&#x27;, &#x27;해봐요&#x27;,\n",
              "                                             &#x27;반대로 말하자면&#x27;, &#x27;그렇게 함으로써&#x27;, &#x27;매번&#x27;,\n",
              "                                             &#x27;얼마나&#x27;, &#x27;다섯&#x27;, &#x27;으로서&#x27;, &#x27;대해 말하자면&#x27;,\n",
              "                                             &#x27;예를 들면&#x27;, &#x27;운운&#x27;, &#x27;참&#x27;, &#x27;월&#x27;, &#x27;다수&#x27;,\n",
              "                                             &#x27;설사&#x27;, &#x27;하도다&#x27;, &#x27;향하다&#x27;, &#x27;단지&#x27;, &#x27;무엇때문에&#x27;,\n",
              "                                             &#x27;대하면&#x27;, &#x27;관한&#x27;, &#x27;비걱거리다&#x27;, &#x27;우리&#x27;, &#x27;그렇지만&#x27;,\n",
              "                                             &#x27;이곳&#x27;, &#x27;힘입어&#x27;, &#x27;하는것만 못하다&#x27;, ...],\n",
              "                                 tokenizer=&lt;function tokenize_test at 0x7bbe80d86dd0&gt;)),\n",
              "                (&#x27;svd&#x27;, TruncatedSVD(random_state=11)),\n",
              "                (&#x27;clf&#x27;,\n",
              "                 RandomForestClassifier(n_estimators=500, random_state=11))])</pre></div></div></div><div class=\"sk-serial\"><div class=\"sk-item\"><div class=\"sk-estimator sk-toggleable\"><input class=\"sk-toggleable__control sk-hidden--visually\" id=\"sk-estimator-id-7\" type=\"checkbox\" ><label for=\"sk-estimator-id-7\" class=\"sk-toggleable__label sk-toggleable__label-arrow\">TfidfVectorizer</label><div class=\"sk-toggleable__content\"><pre>TfidfVectorizer(max_df=0.7, max_features=10000, min_df=2, ngram_range=(1, 2),\n",
              "                stop_words=[&#x27;이봐&#x27;, &#x27;남들&#x27;, &#x27;가령&#x27;, &#x27;하지마&#x27;, &#x27;해봐요&#x27;, &#x27;반대로 말하자면&#x27;,\n",
              "                            &#x27;그렇게 함으로써&#x27;, &#x27;매번&#x27;, &#x27;얼마나&#x27;, &#x27;다섯&#x27;, &#x27;으로서&#x27;, &#x27;대해 말하자면&#x27;,\n",
              "                            &#x27;예를 들면&#x27;, &#x27;운운&#x27;, &#x27;참&#x27;, &#x27;월&#x27;, &#x27;다수&#x27;, &#x27;설사&#x27;, &#x27;하도다&#x27;, &#x27;향하다&#x27;,\n",
              "                            &#x27;단지&#x27;, &#x27;무엇때문에&#x27;, &#x27;대하면&#x27;, &#x27;관한&#x27;, &#x27;비걱거리다&#x27;, &#x27;우리&#x27;, &#x27;그렇지만&#x27;,\n",
              "                            &#x27;이곳&#x27;, &#x27;힘입어&#x27;, &#x27;하는것만 못하다&#x27;, ...],\n",
              "                tokenizer=&lt;function tokenize_test at 0x7bbe80d86dd0&gt;)</pre></div></div></div><div class=\"sk-item\"><div class=\"sk-estimator sk-toggleable\"><input class=\"sk-toggleable__control sk-hidden--visually\" id=\"sk-estimator-id-8\" type=\"checkbox\" ><label for=\"sk-estimator-id-8\" class=\"sk-toggleable__label sk-toggleable__label-arrow\">TruncatedSVD</label><div class=\"sk-toggleable__content\"><pre>TruncatedSVD(random_state=11)</pre></div></div></div><div class=\"sk-item\"><div class=\"sk-estimator sk-toggleable\"><input class=\"sk-toggleable__control sk-hidden--visually\" id=\"sk-estimator-id-9\" type=\"checkbox\" ><label for=\"sk-estimator-id-9\" class=\"sk-toggleable__label sk-toggleable__label-arrow\">RandomForestClassifier</label><div class=\"sk-toggleable__content\"><pre>RandomForestClassifier(n_estimators=500, random_state=11)</pre></div></div></div></div></div></div></div>"
            ]
          },
          "metadata": {},
          "execution_count": 40
        }
      ],
      "source": [
        "pipe.fit(x_train,y_train)"
      ]
    },
    {
      "cell_type": "markdown",
      "metadata": {
        "id": "To6xF2FoOgxb"
      },
      "source": [
        "**Cross Validation Parameter Search**"
      ]
    },
    {
      "cell_type": "code",
      "execution_count": 41,
      "metadata": {
        "colab": {
          "base_uri": "https://localhost:8080/",
          "height": 1000
        },
        "id": "D9fDxg4oKPhY",
        "outputId": "d52b1893-0ddb-4bb6-eb52-ff369a23ff61"
      },
      "outputs": [
        {
          "output_type": "stream",
          "name": "stdout",
          "text": [
            "Fitting 5 folds for each of 10 candidates, totalling 50 fits\n"
          ]
        },
        {
          "output_type": "stream",
          "name": "stderr",
          "text": [
            "/usr/local/lib/python3.10/dist-packages/sklearn/feature_extraction/text.py:528: UserWarning: The parameter 'token_pattern' will not be used since 'tokenizer' is not None'\n",
            "  warnings.warn(\n",
            "/usr/local/lib/python3.10/dist-packages/sklearn/feature_extraction/text.py:409: UserWarning: Your stop_words may be inconsistent with your preprocessing. Tokenizing the stop words generated tokens ['각하', '간', '개', '거나', '거리', '걸', '겁', '것과', '견지', '결과', '결론', '고려', '곤', '곳', '공동', '관', '관계', '관련', '구체', '구토', '근거', '기대', '기점', '기준', '김', '까닭', '나머지', '남', '낫다', '낼', '년도', '논', '누가', '다시', '답', '대로', '대하', '대해', '더', '더욱이', '도달', '도착', '동시', '됏', '두번째', '뒤', '듯', '따름', '때문', '라면', '리하', '마자', '막론', '만', '만이', '만하', '말', '망정', '메', '몰랏다', '무릎', '바', '반대', '방면', '보아', '본대', '부류', '불구', '불문', '비', '비걱거리', '비교', '뿐', '사람', '상대', '생각', '서술', '수', '시오', '시작', '시초', '아래', '아무', '안', '알', '알다', '앞', '어기', '어쨋', '어찌됏', '여보', '연관', '옆', '외', '요', '우', '위', '위해', '윗', '의거', '의지', '의치', '이로', '이서', '이외', '이용', '이유', '인', '일반', '일지', '임', '입', '입장', '적', '점', '정도', '제외', '젠', '종합', '주저', '줄', '중', '즈음', '지경', '진짜', '집', '쪽', '차', '첫', '토', '통', '편이', '하든', '하자', '한적', '함', '항목', '해', '해도', '향', '형식', '후', '힘'] not in stop_words.\n",
            "  warnings.warn(\n",
            "/usr/local/lib/python3.10/dist-packages/sklearn/feature_extraction/text.py:528: UserWarning: The parameter 'token_pattern' will not be used since 'tokenizer' is not None'\n",
            "  warnings.warn(\n",
            "/usr/local/lib/python3.10/dist-packages/sklearn/feature_extraction/text.py:409: UserWarning: Your stop_words may be inconsistent with your preprocessing. Tokenizing the stop words generated tokens ['각하', '간', '개', '거나', '거리', '걸', '겁', '것과', '견지', '결과', '결론', '고려', '곤', '곳', '공동', '관', '관계', '관련', '구체', '구토', '근거', '기대', '기점', '기준', '김', '까닭', '나머지', '남', '낫다', '낼', '년도', '논', '누가', '다시', '답', '대로', '대하', '대해', '더', '더욱이', '도달', '도착', '동시', '됏', '두번째', '뒤', '듯', '따름', '때문', '라면', '리하', '마자', '막론', '만', '만이', '만하', '말', '망정', '메', '몰랏다', '무릎', '바', '반대', '방면', '보아', '본대', '부류', '불구', '불문', '비', '비걱거리', '비교', '뿐', '사람', '상대', '생각', '서술', '수', '시오', '시작', '시초', '아래', '아무', '안', '알', '알다', '앞', '어기', '어쨋', '어찌됏', '여보', '연관', '옆', '외', '요', '우', '위', '위해', '윗', '의거', '의지', '의치', '이로', '이서', '이외', '이용', '이유', '인', '일반', '일지', '임', '입', '입장', '적', '점', '정도', '제외', '젠', '종합', '주저', '줄', '중', '즈음', '지경', '진짜', '집', '쪽', '차', '첫', '토', '통', '편이', '하든', '하자', '한적', '함', '항목', '해', '해도', '향', '형식', '후', '힘'] not in stop_words.\n",
            "  warnings.warn(\n",
            "/usr/local/lib/python3.10/dist-packages/sklearn/feature_extraction/text.py:528: UserWarning: The parameter 'token_pattern' will not be used since 'tokenizer' is not None'\n",
            "  warnings.warn(\n",
            "/usr/local/lib/python3.10/dist-packages/sklearn/feature_extraction/text.py:409: UserWarning: Your stop_words may be inconsistent with your preprocessing. Tokenizing the stop words generated tokens ['각하', '간', '개', '거나', '거리', '걸', '겁', '것과', '견지', '결과', '결론', '고려', '곤', '곳', '공동', '관', '관계', '관련', '구체', '구토', '근거', '기대', '기점', '기준', '김', '까닭', '나머지', '남', '낫다', '낼', '년도', '논', '누가', '다시', '답', '대로', '대하', '대해', '더', '더욱이', '도달', '도착', '동시', '됏', '두번째', '뒤', '듯', '따름', '때문', '라면', '리하', '마자', '막론', '만', '만이', '만하', '말', '망정', '메', '몰랏다', '무릎', '바', '반대', '방면', '보아', '본대', '부류', '불구', '불문', '비', '비걱거리', '비교', '뿐', '사람', '상대', '생각', '서술', '수', '시오', '시작', '시초', '아래', '아무', '안', '알', '알다', '앞', '어기', '어쨋', '어찌됏', '여보', '연관', '옆', '외', '요', '우', '위', '위해', '윗', '의거', '의지', '의치', '이로', '이서', '이외', '이용', '이유', '인', '일반', '일지', '임', '입', '입장', '적', '점', '정도', '제외', '젠', '종합', '주저', '줄', '중', '즈음', '지경', '진짜', '집', '쪽', '차', '첫', '토', '통', '편이', '하든', '하자', '한적', '함', '항목', '해', '해도', '향', '형식', '후', '힘'] not in stop_words.\n",
            "  warnings.warn(\n",
            "/usr/local/lib/python3.10/dist-packages/sklearn/feature_extraction/text.py:528: UserWarning: The parameter 'token_pattern' will not be used since 'tokenizer' is not None'\n",
            "  warnings.warn(\n",
            "/usr/local/lib/python3.10/dist-packages/sklearn/feature_extraction/text.py:409: UserWarning: Your stop_words may be inconsistent with your preprocessing. Tokenizing the stop words generated tokens ['각하', '간', '개', '거나', '거리', '걸', '겁', '것과', '견지', '결과', '결론', '고려', '곤', '곳', '공동', '관', '관계', '관련', '구체', '구토', '근거', '기대', '기점', '기준', '김', '까닭', '나머지', '남', '낫다', '낼', '년도', '논', '누가', '다시', '답', '대로', '대하', '대해', '더', '더욱이', '도달', '도착', '동시', '됏', '두번째', '뒤', '듯', '따름', '때문', '라면', '리하', '마자', '막론', '만', '만이', '만하', '말', '망정', '메', '몰랏다', '무릎', '바', '반대', '방면', '보아', '본대', '부류', '불구', '불문', '비', '비걱거리', '비교', '뿐', '사람', '상대', '생각', '서술', '수', '시오', '시작', '시초', '아래', '아무', '안', '알', '알다', '앞', '어기', '어쨋', '어찌됏', '여보', '연관', '옆', '외', '요', '우', '위', '위해', '윗', '의거', '의지', '의치', '이로', '이서', '이외', '이용', '이유', '인', '일반', '일지', '임', '입', '입장', '적', '점', '정도', '제외', '젠', '종합', '주저', '줄', '중', '즈음', '지경', '진짜', '집', '쪽', '차', '첫', '토', '통', '편이', '하든', '하자', '한적', '함', '항목', '해', '해도', '향', '형식', '후', '힘'] not in stop_words.\n",
            "  warnings.warn(\n",
            "/usr/local/lib/python3.10/dist-packages/sklearn/feature_extraction/text.py:528: UserWarning: The parameter 'token_pattern' will not be used since 'tokenizer' is not None'\n",
            "  warnings.warn(\n",
            "/usr/local/lib/python3.10/dist-packages/sklearn/feature_extraction/text.py:409: UserWarning: Your stop_words may be inconsistent with your preprocessing. Tokenizing the stop words generated tokens ['각하', '간', '개', '거나', '거리', '걸', '겁', '것과', '견지', '결과', '결론', '고려', '곤', '곳', '공동', '관', '관계', '관련', '구체', '구토', '근거', '기대', '기점', '기준', '김', '까닭', '나머지', '남', '낫다', '낼', '년도', '논', '누가', '다시', '답', '대로', '대하', '대해', '더', '더욱이', '도달', '도착', '동시', '됏', '두번째', '뒤', '듯', '따름', '때문', '라면', '리하', '마자', '막론', '만', '만이', '만하', '말', '망정', '메', '몰랏다', '무릎', '바', '반대', '방면', '보아', '본대', '부류', '불구', '불문', '비', '비걱거리', '비교', '뿐', '사람', '상대', '생각', '서술', '수', '시오', '시작', '시초', '아래', '아무', '안', '알', '알다', '앞', '어기', '어쨋', '어찌됏', '여보', '연관', '옆', '외', '요', '우', '위', '위해', '윗', '의거', '의지', '의치', '이로', '이서', '이외', '이용', '이유', '인', '일반', '일지', '임', '입', '입장', '적', '점', '정도', '제외', '젠', '종합', '주저', '줄', '중', '즈음', '지경', '진짜', '집', '쪽', '차', '첫', '토', '통', '편이', '하든', '하자', '한적', '함', '항목', '해', '해도', '향', '형식', '후', '힘'] not in stop_words.\n",
            "  warnings.warn(\n",
            "/usr/local/lib/python3.10/dist-packages/sklearn/feature_extraction/text.py:528: UserWarning: The parameter 'token_pattern' will not be used since 'tokenizer' is not None'\n",
            "  warnings.warn(\n",
            "/usr/local/lib/python3.10/dist-packages/sklearn/feature_extraction/text.py:409: UserWarning: Your stop_words may be inconsistent with your preprocessing. Tokenizing the stop words generated tokens ['각하', '간', '개', '거나', '거리', '걸', '겁', '것과', '견지', '결과', '결론', '고려', '곤', '곳', '공동', '관', '관계', '관련', '구체', '구토', '근거', '기대', '기점', '기준', '김', '까닭', '나머지', '남', '낫다', '낼', '년도', '논', '누가', '다시', '답', '대로', '대하', '대해', '더', '더욱이', '도달', '도착', '동시', '됏', '두번째', '뒤', '듯', '따름', '때문', '라면', '리하', '마자', '막론', '만', '만이', '만하', '말', '망정', '메', '몰랏다', '무릎', '바', '반대', '방면', '보아', '본대', '부류', '불구', '불문', '비', '비걱거리', '비교', '뿐', '사람', '상대', '생각', '서술', '수', '시오', '시작', '시초', '아래', '아무', '안', '알', '알다', '앞', '어기', '어쨋', '어찌됏', '여보', '연관', '옆', '외', '요', '우', '위', '위해', '윗', '의거', '의지', '의치', '이로', '이서', '이외', '이용', '이유', '인', '일반', '일지', '임', '입', '입장', '적', '점', '정도', '제외', '젠', '종합', '주저', '줄', '중', '즈음', '지경', '진짜', '집', '쪽', '차', '첫', '토', '통', '편이', '하든', '하자', '한적', '함', '항목', '해', '해도', '향', '형식', '후', '힘'] not in stop_words.\n",
            "  warnings.warn(\n",
            "/usr/local/lib/python3.10/dist-packages/sklearn/feature_extraction/text.py:528: UserWarning: The parameter 'token_pattern' will not be used since 'tokenizer' is not None'\n",
            "  warnings.warn(\n",
            "/usr/local/lib/python3.10/dist-packages/sklearn/feature_extraction/text.py:409: UserWarning: Your stop_words may be inconsistent with your preprocessing. Tokenizing the stop words generated tokens ['각하', '간', '개', '거나', '거리', '걸', '겁', '것과', '견지', '결과', '결론', '고려', '곤', '곳', '공동', '관', '관계', '관련', '구체', '구토', '근거', '기대', '기점', '기준', '김', '까닭', '나머지', '남', '낫다', '낼', '년도', '논', '누가', '다시', '답', '대로', '대하', '대해', '더', '더욱이', '도달', '도착', '동시', '됏', '두번째', '뒤', '듯', '따름', '때문', '라면', '리하', '마자', '막론', '만', '만이', '만하', '말', '망정', '메', '몰랏다', '무릎', '바', '반대', '방면', '보아', '본대', '부류', '불구', '불문', '비', '비걱거리', '비교', '뿐', '사람', '상대', '생각', '서술', '수', '시오', '시작', '시초', '아래', '아무', '안', '알', '알다', '앞', '어기', '어쨋', '어찌됏', '여보', '연관', '옆', '외', '요', '우', '위', '위해', '윗', '의거', '의지', '의치', '이로', '이서', '이외', '이용', '이유', '인', '일반', '일지', '임', '입', '입장', '적', '점', '정도', '제외', '젠', '종합', '주저', '줄', '중', '즈음', '지경', '진짜', '집', '쪽', '차', '첫', '토', '통', '편이', '하든', '하자', '한적', '함', '항목', '해', '해도', '향', '형식', '후', '힘'] not in stop_words.\n",
            "  warnings.warn(\n",
            "/usr/local/lib/python3.10/dist-packages/sklearn/feature_extraction/text.py:528: UserWarning: The parameter 'token_pattern' will not be used since 'tokenizer' is not None'\n",
            "  warnings.warn(\n",
            "/usr/local/lib/python3.10/dist-packages/sklearn/feature_extraction/text.py:409: UserWarning: Your stop_words may be inconsistent with your preprocessing. Tokenizing the stop words generated tokens ['각하', '간', '개', '거나', '거리', '걸', '겁', '것과', '견지', '결과', '결론', '고려', '곤', '곳', '공동', '관', '관계', '관련', '구체', '구토', '근거', '기대', '기점', '기준', '김', '까닭', '나머지', '남', '낫다', '낼', '년도', '논', '누가', '다시', '답', '대로', '대하', '대해', '더', '더욱이', '도달', '도착', '동시', '됏', '두번째', '뒤', '듯', '따름', '때문', '라면', '리하', '마자', '막론', '만', '만이', '만하', '말', '망정', '메', '몰랏다', '무릎', '바', '반대', '방면', '보아', '본대', '부류', '불구', '불문', '비', '비걱거리', '비교', '뿐', '사람', '상대', '생각', '서술', '수', '시오', '시작', '시초', '아래', '아무', '안', '알', '알다', '앞', '어기', '어쨋', '어찌됏', '여보', '연관', '옆', '외', '요', '우', '위', '위해', '윗', '의거', '의지', '의치', '이로', '이서', '이외', '이용', '이유', '인', '일반', '일지', '임', '입', '입장', '적', '점', '정도', '제외', '젠', '종합', '주저', '줄', '중', '즈음', '지경', '진짜', '집', '쪽', '차', '첫', '토', '통', '편이', '하든', '하자', '한적', '함', '항목', '해', '해도', '향', '형식', '후', '힘'] not in stop_words.\n",
            "  warnings.warn(\n",
            "/usr/local/lib/python3.10/dist-packages/sklearn/feature_extraction/text.py:528: UserWarning: The parameter 'token_pattern' will not be used since 'tokenizer' is not None'\n",
            "  warnings.warn(\n",
            "/usr/local/lib/python3.10/dist-packages/sklearn/feature_extraction/text.py:409: UserWarning: Your stop_words may be inconsistent with your preprocessing. Tokenizing the stop words generated tokens ['각하', '간', '개', '거나', '거리', '걸', '겁', '것과', '견지', '결과', '결론', '고려', '곤', '곳', '공동', '관', '관계', '관련', '구체', '구토', '근거', '기대', '기점', '기준', '김', '까닭', '나머지', '남', '낫다', '낼', '년도', '논', '누가', '다시', '답', '대로', '대하', '대해', '더', '더욱이', '도달', '도착', '동시', '됏', '두번째', '뒤', '듯', '따름', '때문', '라면', '리하', '마자', '막론', '만', '만이', '만하', '말', '망정', '메', '몰랏다', '무릎', '바', '반대', '방면', '보아', '본대', '부류', '불구', '불문', '비', '비걱거리', '비교', '뿐', '사람', '상대', '생각', '서술', '수', '시오', '시작', '시초', '아래', '아무', '안', '알', '알다', '앞', '어기', '어쨋', '어찌됏', '여보', '연관', '옆', '외', '요', '우', '위', '위해', '윗', '의거', '의지', '의치', '이로', '이서', '이외', '이용', '이유', '인', '일반', '일지', '임', '입', '입장', '적', '점', '정도', '제외', '젠', '종합', '주저', '줄', '중', '즈음', '지경', '진짜', '집', '쪽', '차', '첫', '토', '통', '편이', '하든', '하자', '한적', '함', '항목', '해', '해도', '향', '형식', '후', '힘'] not in stop_words.\n",
            "  warnings.warn(\n",
            "/usr/local/lib/python3.10/dist-packages/sklearn/feature_extraction/text.py:528: UserWarning: The parameter 'token_pattern' will not be used since 'tokenizer' is not None'\n",
            "  warnings.warn(\n",
            "/usr/local/lib/python3.10/dist-packages/sklearn/feature_extraction/text.py:409: UserWarning: Your stop_words may be inconsistent with your preprocessing. Tokenizing the stop words generated tokens ['각하', '간', '개', '거나', '거리', '걸', '겁', '것과', '견지', '결과', '결론', '고려', '곤', '곳', '공동', '관', '관계', '관련', '구체', '구토', '근거', '기대', '기점', '기준', '김', '까닭', '나머지', '남', '낫다', '낼', '년도', '논', '누가', '다시', '답', '대로', '대하', '대해', '더', '더욱이', '도달', '도착', '동시', '됏', '두번째', '뒤', '듯', '따름', '때문', '라면', '리하', '마자', '막론', '만', '만이', '만하', '말', '망정', '메', '몰랏다', '무릎', '바', '반대', '방면', '보아', '본대', '부류', '불구', '불문', '비', '비걱거리', '비교', '뿐', '사람', '상대', '생각', '서술', '수', '시오', '시작', '시초', '아래', '아무', '안', '알', '알다', '앞', '어기', '어쨋', '어찌됏', '여보', '연관', '옆', '외', '요', '우', '위', '위해', '윗', '의거', '의지', '의치', '이로', '이서', '이외', '이용', '이유', '인', '일반', '일지', '임', '입', '입장', '적', '점', '정도', '제외', '젠', '종합', '주저', '줄', '중', '즈음', '지경', '진짜', '집', '쪽', '차', '첫', '토', '통', '편이', '하든', '하자', '한적', '함', '항목', '해', '해도', '향', '형식', '후', '힘'] not in stop_words.\n",
            "  warnings.warn(\n",
            "/usr/local/lib/python3.10/dist-packages/sklearn/feature_extraction/text.py:528: UserWarning: The parameter 'token_pattern' will not be used since 'tokenizer' is not None'\n",
            "  warnings.warn(\n",
            "/usr/local/lib/python3.10/dist-packages/sklearn/feature_extraction/text.py:409: UserWarning: Your stop_words may be inconsistent with your preprocessing. Tokenizing the stop words generated tokens ['각하', '간', '개', '거나', '거리', '걸', '겁', '것과', '견지', '결과', '결론', '고려', '곤', '곳', '공동', '관', '관계', '관련', '구체', '구토', '근거', '기대', '기점', '기준', '김', '까닭', '나머지', '남', '낫다', '낼', '년도', '논', '누가', '다시', '답', '대로', '대하', '대해', '더', '더욱이', '도달', '도착', '동시', '됏', '두번째', '뒤', '듯', '따름', '때문', '라면', '리하', '마자', '막론', '만', '만이', '만하', '말', '망정', '메', '몰랏다', '무릎', '바', '반대', '방면', '보아', '본대', '부류', '불구', '불문', '비', '비걱거리', '비교', '뿐', '사람', '상대', '생각', '서술', '수', '시오', '시작', '시초', '아래', '아무', '안', '알', '알다', '앞', '어기', '어쨋', '어찌됏', '여보', '연관', '옆', '외', '요', '우', '위', '위해', '윗', '의거', '의지', '의치', '이로', '이서', '이외', '이용', '이유', '인', '일반', '일지', '임', '입', '입장', '적', '점', '정도', '제외', '젠', '종합', '주저', '줄', '중', '즈음', '지경', '진짜', '집', '쪽', '차', '첫', '토', '통', '편이', '하든', '하자', '한적', '함', '항목', '해', '해도', '향', '형식', '후', '힘'] not in stop_words.\n",
            "  warnings.warn(\n",
            "/usr/local/lib/python3.10/dist-packages/sklearn/feature_extraction/text.py:528: UserWarning: The parameter 'token_pattern' will not be used since 'tokenizer' is not None'\n",
            "  warnings.warn(\n",
            "/usr/local/lib/python3.10/dist-packages/sklearn/feature_extraction/text.py:409: UserWarning: Your stop_words may be inconsistent with your preprocessing. Tokenizing the stop words generated tokens ['각하', '간', '개', '거나', '거리', '걸', '겁', '것과', '견지', '결과', '결론', '고려', '곤', '곳', '공동', '관', '관계', '관련', '구체', '구토', '근거', '기대', '기점', '기준', '김', '까닭', '나머지', '남', '낫다', '낼', '년도', '논', '누가', '다시', '답', '대로', '대하', '대해', '더', '더욱이', '도달', '도착', '동시', '됏', '두번째', '뒤', '듯', '따름', '때문', '라면', '리하', '마자', '막론', '만', '만이', '만하', '말', '망정', '메', '몰랏다', '무릎', '바', '반대', '방면', '보아', '본대', '부류', '불구', '불문', '비', '비걱거리', '비교', '뿐', '사람', '상대', '생각', '서술', '수', '시오', '시작', '시초', '아래', '아무', '안', '알', '알다', '앞', '어기', '어쨋', '어찌됏', '여보', '연관', '옆', '외', '요', '우', '위', '위해', '윗', '의거', '의지', '의치', '이로', '이서', '이외', '이용', '이유', '인', '일반', '일지', '임', '입', '입장', '적', '점', '정도', '제외', '젠', '종합', '주저', '줄', '중', '즈음', '지경', '진짜', '집', '쪽', '차', '첫', '토', '통', '편이', '하든', '하자', '한적', '함', '항목', '해', '해도', '향', '형식', '후', '힘'] not in stop_words.\n",
            "  warnings.warn(\n",
            "/usr/local/lib/python3.10/dist-packages/sklearn/feature_extraction/text.py:528: UserWarning: The parameter 'token_pattern' will not be used since 'tokenizer' is not None'\n",
            "  warnings.warn(\n",
            "/usr/local/lib/python3.10/dist-packages/sklearn/feature_extraction/text.py:409: UserWarning: Your stop_words may be inconsistent with your preprocessing. Tokenizing the stop words generated tokens ['각하', '간', '개', '거나', '거리', '걸', '겁', '것과', '견지', '결과', '결론', '고려', '곤', '곳', '공동', '관', '관계', '관련', '구체', '구토', '근거', '기대', '기점', '기준', '김', '까닭', '나머지', '남', '낫다', '낼', '년도', '논', '누가', '다시', '답', '대로', '대하', '대해', '더', '더욱이', '도달', '도착', '동시', '됏', '두번째', '뒤', '듯', '따름', '때문', '라면', '리하', '마자', '막론', '만', '만이', '만하', '말', '망정', '메', '몰랏다', '무릎', '바', '반대', '방면', '보아', '본대', '부류', '불구', '불문', '비', '비걱거리', '비교', '뿐', '사람', '상대', '생각', '서술', '수', '시오', '시작', '시초', '아래', '아무', '안', '알', '알다', '앞', '어기', '어쨋', '어찌됏', '여보', '연관', '옆', '외', '요', '우', '위', '위해', '윗', '의거', '의지', '의치', '이로', '이서', '이외', '이용', '이유', '인', '일반', '일지', '임', '입', '입장', '적', '점', '정도', '제외', '젠', '종합', '주저', '줄', '중', '즈음', '지경', '진짜', '집', '쪽', '차', '첫', '토', '통', '편이', '하든', '하자', '한적', '함', '항목', '해', '해도', '향', '형식', '후', '힘'] not in stop_words.\n",
            "  warnings.warn(\n",
            "/usr/local/lib/python3.10/dist-packages/sklearn/feature_extraction/text.py:528: UserWarning: The parameter 'token_pattern' will not be used since 'tokenizer' is not None'\n",
            "  warnings.warn(\n",
            "/usr/local/lib/python3.10/dist-packages/sklearn/feature_extraction/text.py:409: UserWarning: Your stop_words may be inconsistent with your preprocessing. Tokenizing the stop words generated tokens ['각하', '간', '개', '거나', '거리', '걸', '겁', '것과', '견지', '결과', '결론', '고려', '곤', '곳', '공동', '관', '관계', '관련', '구체', '구토', '근거', '기대', '기점', '기준', '김', '까닭', '나머지', '남', '낫다', '낼', '년도', '논', '누가', '다시', '답', '대로', '대하', '대해', '더', '더욱이', '도달', '도착', '동시', '됏', '두번째', '뒤', '듯', '따름', '때문', '라면', '리하', '마자', '막론', '만', '만이', '만하', '말', '망정', '메', '몰랏다', '무릎', '바', '반대', '방면', '보아', '본대', '부류', '불구', '불문', '비', '비걱거리', '비교', '뿐', '사람', '상대', '생각', '서술', '수', '시오', '시작', '시초', '아래', '아무', '안', '알', '알다', '앞', '어기', '어쨋', '어찌됏', '여보', '연관', '옆', '외', '요', '우', '위', '위해', '윗', '의거', '의지', '의치', '이로', '이서', '이외', '이용', '이유', '인', '일반', '일지', '임', '입', '입장', '적', '점', '정도', '제외', '젠', '종합', '주저', '줄', '중', '즈음', '지경', '진짜', '집', '쪽', '차', '첫', '토', '통', '편이', '하든', '하자', '한적', '함', '항목', '해', '해도', '향', '형식', '후', '힘'] not in stop_words.\n",
            "  warnings.warn(\n",
            "/usr/local/lib/python3.10/dist-packages/sklearn/feature_extraction/text.py:528: UserWarning: The parameter 'token_pattern' will not be used since 'tokenizer' is not None'\n",
            "  warnings.warn(\n",
            "/usr/local/lib/python3.10/dist-packages/sklearn/feature_extraction/text.py:409: UserWarning: Your stop_words may be inconsistent with your preprocessing. Tokenizing the stop words generated tokens ['각하', '간', '개', '거나', '거리', '걸', '겁', '것과', '견지', '결과', '결론', '고려', '곤', '곳', '공동', '관', '관계', '관련', '구체', '구토', '근거', '기대', '기점', '기준', '김', '까닭', '나머지', '남', '낫다', '낼', '년도', '논', '누가', '다시', '답', '대로', '대하', '대해', '더', '더욱이', '도달', '도착', '동시', '됏', '두번째', '뒤', '듯', '따름', '때문', '라면', '리하', '마자', '막론', '만', '만이', '만하', '말', '망정', '메', '몰랏다', '무릎', '바', '반대', '방면', '보아', '본대', '부류', '불구', '불문', '비', '비걱거리', '비교', '뿐', '사람', '상대', '생각', '서술', '수', '시오', '시작', '시초', '아래', '아무', '안', '알', '알다', '앞', '어기', '어쨋', '어찌됏', '여보', '연관', '옆', '외', '요', '우', '위', '위해', '윗', '의거', '의지', '의치', '이로', '이서', '이외', '이용', '이유', '인', '일반', '일지', '임', '입', '입장', '적', '점', '정도', '제외', '젠', '종합', '주저', '줄', '중', '즈음', '지경', '진짜', '집', '쪽', '차', '첫', '토', '통', '편이', '하든', '하자', '한적', '함', '항목', '해', '해도', '향', '형식', '후', '힘'] not in stop_words.\n",
            "  warnings.warn(\n",
            "/usr/local/lib/python3.10/dist-packages/sklearn/feature_extraction/text.py:528: UserWarning: The parameter 'token_pattern' will not be used since 'tokenizer' is not None'\n",
            "  warnings.warn(\n",
            "/usr/local/lib/python3.10/dist-packages/sklearn/feature_extraction/text.py:409: UserWarning: Your stop_words may be inconsistent with your preprocessing. Tokenizing the stop words generated tokens ['각하', '간', '개', '거나', '거리', '걸', '겁', '것과', '견지', '결과', '결론', '고려', '곤', '곳', '공동', '관', '관계', '관련', '구체', '구토', '근거', '기대', '기점', '기준', '김', '까닭', '나머지', '남', '낫다', '낼', '년도', '논', '누가', '다시', '답', '대로', '대하', '대해', '더', '더욱이', '도달', '도착', '동시', '됏', '두번째', '뒤', '듯', '따름', '때문', '라면', '리하', '마자', '막론', '만', '만이', '만하', '말', '망정', '메', '몰랏다', '무릎', '바', '반대', '방면', '보아', '본대', '부류', '불구', '불문', '비', '비걱거리', '비교', '뿐', '사람', '상대', '생각', '서술', '수', '시오', '시작', '시초', '아래', '아무', '안', '알', '알다', '앞', '어기', '어쨋', '어찌됏', '여보', '연관', '옆', '외', '요', '우', '위', '위해', '윗', '의거', '의지', '의치', '이로', '이서', '이외', '이용', '이유', '인', '일반', '일지', '임', '입', '입장', '적', '점', '정도', '제외', '젠', '종합', '주저', '줄', '중', '즈음', '지경', '진짜', '집', '쪽', '차', '첫', '토', '통', '편이', '하든', '하자', '한적', '함', '항목', '해', '해도', '향', '형식', '후', '힘'] not in stop_words.\n",
            "  warnings.warn(\n",
            "/usr/local/lib/python3.10/dist-packages/sklearn/feature_extraction/text.py:528: UserWarning: The parameter 'token_pattern' will not be used since 'tokenizer' is not None'\n",
            "  warnings.warn(\n",
            "/usr/local/lib/python3.10/dist-packages/sklearn/feature_extraction/text.py:409: UserWarning: Your stop_words may be inconsistent with your preprocessing. Tokenizing the stop words generated tokens ['각하', '간', '개', '거나', '거리', '걸', '겁', '것과', '견지', '결과', '결론', '고려', '곤', '곳', '공동', '관', '관계', '관련', '구체', '구토', '근거', '기대', '기점', '기준', '김', '까닭', '나머지', '남', '낫다', '낼', '년도', '논', '누가', '다시', '답', '대로', '대하', '대해', '더', '더욱이', '도달', '도착', '동시', '됏', '두번째', '뒤', '듯', '따름', '때문', '라면', '리하', '마자', '막론', '만', '만이', '만하', '말', '망정', '메', '몰랏다', '무릎', '바', '반대', '방면', '보아', '본대', '부류', '불구', '불문', '비', '비걱거리', '비교', '뿐', '사람', '상대', '생각', '서술', '수', '시오', '시작', '시초', '아래', '아무', '안', '알', '알다', '앞', '어기', '어쨋', '어찌됏', '여보', '연관', '옆', '외', '요', '우', '위', '위해', '윗', '의거', '의지', '의치', '이로', '이서', '이외', '이용', '이유', '인', '일반', '일지', '임', '입', '입장', '적', '점', '정도', '제외', '젠', '종합', '주저', '줄', '중', '즈음', '지경', '진짜', '집', '쪽', '차', '첫', '토', '통', '편이', '하든', '하자', '한적', '함', '항목', '해', '해도', '향', '형식', '후', '힘'] not in stop_words.\n",
            "  warnings.warn(\n",
            "/usr/local/lib/python3.10/dist-packages/sklearn/feature_extraction/text.py:528: UserWarning: The parameter 'token_pattern' will not be used since 'tokenizer' is not None'\n",
            "  warnings.warn(\n",
            "/usr/local/lib/python3.10/dist-packages/sklearn/feature_extraction/text.py:409: UserWarning: Your stop_words may be inconsistent with your preprocessing. Tokenizing the stop words generated tokens ['각하', '간', '개', '거나', '거리', '걸', '겁', '것과', '견지', '결과', '결론', '고려', '곤', '곳', '공동', '관', '관계', '관련', '구체', '구토', '근거', '기대', '기점', '기준', '김', '까닭', '나머지', '남', '낫다', '낼', '년도', '논', '누가', '다시', '답', '대로', '대하', '대해', '더', '더욱이', '도달', '도착', '동시', '됏', '두번째', '뒤', '듯', '따름', '때문', '라면', '리하', '마자', '막론', '만', '만이', '만하', '말', '망정', '메', '몰랏다', '무릎', '바', '반대', '방면', '보아', '본대', '부류', '불구', '불문', '비', '비걱거리', '비교', '뿐', '사람', '상대', '생각', '서술', '수', '시오', '시작', '시초', '아래', '아무', '안', '알', '알다', '앞', '어기', '어쨋', '어찌됏', '여보', '연관', '옆', '외', '요', '우', '위', '위해', '윗', '의거', '의지', '의치', '이로', '이서', '이외', '이용', '이유', '인', '일반', '일지', '임', '입', '입장', '적', '점', '정도', '제외', '젠', '종합', '주저', '줄', '중', '즈음', '지경', '진짜', '집', '쪽', '차', '첫', '토', '통', '편이', '하든', '하자', '한적', '함', '항목', '해', '해도', '향', '형식', '후', '힘'] not in stop_words.\n",
            "  warnings.warn(\n",
            "/usr/local/lib/python3.10/dist-packages/sklearn/feature_extraction/text.py:528: UserWarning: The parameter 'token_pattern' will not be used since 'tokenizer' is not None'\n",
            "  warnings.warn(\n",
            "/usr/local/lib/python3.10/dist-packages/sklearn/feature_extraction/text.py:409: UserWarning: Your stop_words may be inconsistent with your preprocessing. Tokenizing the stop words generated tokens ['각하', '간', '개', '거나', '거리', '걸', '겁', '것과', '견지', '결과', '결론', '고려', '곤', '곳', '공동', '관', '관계', '관련', '구체', '구토', '근거', '기대', '기점', '기준', '김', '까닭', '나머지', '남', '낫다', '낼', '년도', '논', '누가', '다시', '답', '대로', '대하', '대해', '더', '더욱이', '도달', '도착', '동시', '됏', '두번째', '뒤', '듯', '따름', '때문', '라면', '리하', '마자', '막론', '만', '만이', '만하', '말', '망정', '메', '몰랏다', '무릎', '바', '반대', '방면', '보아', '본대', '부류', '불구', '불문', '비', '비걱거리', '비교', '뿐', '사람', '상대', '생각', '서술', '수', '시오', '시작', '시초', '아래', '아무', '안', '알', '알다', '앞', '어기', '어쨋', '어찌됏', '여보', '연관', '옆', '외', '요', '우', '위', '위해', '윗', '의거', '의지', '의치', '이로', '이서', '이외', '이용', '이유', '인', '일반', '일지', '임', '입', '입장', '적', '점', '정도', '제외', '젠', '종합', '주저', '줄', '중', '즈음', '지경', '진짜', '집', '쪽', '차', '첫', '토', '통', '편이', '하든', '하자', '한적', '함', '항목', '해', '해도', '향', '형식', '후', '힘'] not in stop_words.\n",
            "  warnings.warn(\n",
            "/usr/local/lib/python3.10/dist-packages/sklearn/feature_extraction/text.py:528: UserWarning: The parameter 'token_pattern' will not be used since 'tokenizer' is not None'\n",
            "  warnings.warn(\n",
            "/usr/local/lib/python3.10/dist-packages/sklearn/feature_extraction/text.py:409: UserWarning: Your stop_words may be inconsistent with your preprocessing. Tokenizing the stop words generated tokens ['각하', '간', '개', '거나', '거리', '걸', '겁', '것과', '견지', '결과', '결론', '고려', '곤', '곳', '공동', '관', '관계', '관련', '구체', '구토', '근거', '기대', '기점', '기준', '김', '까닭', '나머지', '남', '낫다', '낼', '년도', '논', '누가', '다시', '답', '대로', '대하', '대해', '더', '더욱이', '도달', '도착', '동시', '됏', '두번째', '뒤', '듯', '따름', '때문', '라면', '리하', '마자', '막론', '만', '만이', '만하', '말', '망정', '메', '몰랏다', '무릎', '바', '반대', '방면', '보아', '본대', '부류', '불구', '불문', '비', '비걱거리', '비교', '뿐', '사람', '상대', '생각', '서술', '수', '시오', '시작', '시초', '아래', '아무', '안', '알', '알다', '앞', '어기', '어쨋', '어찌됏', '여보', '연관', '옆', '외', '요', '우', '위', '위해', '윗', '의거', '의지', '의치', '이로', '이서', '이외', '이용', '이유', '인', '일반', '일지', '임', '입', '입장', '적', '점', '정도', '제외', '젠', '종합', '주저', '줄', '중', '즈음', '지경', '진짜', '집', '쪽', '차', '첫', '토', '통', '편이', '하든', '하자', '한적', '함', '항목', '해', '해도', '향', '형식', '후', '힘'] not in stop_words.\n",
            "  warnings.warn(\n",
            "/usr/local/lib/python3.10/dist-packages/sklearn/feature_extraction/text.py:528: UserWarning: The parameter 'token_pattern' will not be used since 'tokenizer' is not None'\n",
            "  warnings.warn(\n",
            "/usr/local/lib/python3.10/dist-packages/sklearn/feature_extraction/text.py:409: UserWarning: Your stop_words may be inconsistent with your preprocessing. Tokenizing the stop words generated tokens ['각하', '간', '개', '거나', '거리', '걸', '겁', '것과', '견지', '결과', '결론', '고려', '곤', '곳', '공동', '관', '관계', '관련', '구체', '구토', '근거', '기대', '기점', '기준', '김', '까닭', '나머지', '남', '낫다', '낼', '년도', '논', '누가', '다시', '답', '대로', '대하', '대해', '더', '더욱이', '도달', '도착', '동시', '됏', '두번째', '뒤', '듯', '따름', '때문', '라면', '리하', '마자', '막론', '만', '만이', '만하', '말', '망정', '메', '몰랏다', '무릎', '바', '반대', '방면', '보아', '본대', '부류', '불구', '불문', '비', '비걱거리', '비교', '뿐', '사람', '상대', '생각', '서술', '수', '시오', '시작', '시초', '아래', '아무', '안', '알', '알다', '앞', '어기', '어쨋', '어찌됏', '여보', '연관', '옆', '외', '요', '우', '위', '위해', '윗', '의거', '의지', '의치', '이로', '이서', '이외', '이용', '이유', '인', '일반', '일지', '임', '입', '입장', '적', '점', '정도', '제외', '젠', '종합', '주저', '줄', '중', '즈음', '지경', '진짜', '집', '쪽', '차', '첫', '토', '통', '편이', '하든', '하자', '한적', '함', '항목', '해', '해도', '향', '형식', '후', '힘'] not in stop_words.\n",
            "  warnings.warn(\n",
            "/usr/local/lib/python3.10/dist-packages/sklearn/feature_extraction/text.py:528: UserWarning: The parameter 'token_pattern' will not be used since 'tokenizer' is not None'\n",
            "  warnings.warn(\n",
            "/usr/local/lib/python3.10/dist-packages/sklearn/feature_extraction/text.py:409: UserWarning: Your stop_words may be inconsistent with your preprocessing. Tokenizing the stop words generated tokens ['각하', '간', '개', '거나', '거리', '걸', '겁', '것과', '견지', '결과', '결론', '고려', '곤', '곳', '공동', '관', '관계', '관련', '구체', '구토', '근거', '기대', '기점', '기준', '김', '까닭', '나머지', '남', '낫다', '낼', '년도', '논', '누가', '다시', '답', '대로', '대하', '대해', '더', '더욱이', '도달', '도착', '동시', '됏', '두번째', '뒤', '듯', '따름', '때문', '라면', '리하', '마자', '막론', '만', '만이', '만하', '말', '망정', '메', '몰랏다', '무릎', '바', '반대', '방면', '보아', '본대', '부류', '불구', '불문', '비', '비걱거리', '비교', '뿐', '사람', '상대', '생각', '서술', '수', '시오', '시작', '시초', '아래', '아무', '안', '알', '알다', '앞', '어기', '어쨋', '어찌됏', '여보', '연관', '옆', '외', '요', '우', '위', '위해', '윗', '의거', '의지', '의치', '이로', '이서', '이외', '이용', '이유', '인', '일반', '일지', '임', '입', '입장', '적', '점', '정도', '제외', '젠', '종합', '주저', '줄', '중', '즈음', '지경', '진짜', '집', '쪽', '차', '첫', '토', '통', '편이', '하든', '하자', '한적', '함', '항목', '해', '해도', '향', '형식', '후', '힘'] not in stop_words.\n",
            "  warnings.warn(\n",
            "/usr/local/lib/python3.10/dist-packages/sklearn/feature_extraction/text.py:528: UserWarning: The parameter 'token_pattern' will not be used since 'tokenizer' is not None'\n",
            "  warnings.warn(\n",
            "/usr/local/lib/python3.10/dist-packages/sklearn/feature_extraction/text.py:409: UserWarning: Your stop_words may be inconsistent with your preprocessing. Tokenizing the stop words generated tokens ['각하', '간', '개', '거나', '거리', '걸', '겁', '것과', '견지', '결과', '결론', '고려', '곤', '곳', '공동', '관', '관계', '관련', '구체', '구토', '근거', '기대', '기점', '기준', '김', '까닭', '나머지', '남', '낫다', '낼', '년도', '논', '누가', '다시', '답', '대로', '대하', '대해', '더', '더욱이', '도달', '도착', '동시', '됏', '두번째', '뒤', '듯', '따름', '때문', '라면', '리하', '마자', '막론', '만', '만이', '만하', '말', '망정', '메', '몰랏다', '무릎', '바', '반대', '방면', '보아', '본대', '부류', '불구', '불문', '비', '비걱거리', '비교', '뿐', '사람', '상대', '생각', '서술', '수', '시오', '시작', '시초', '아래', '아무', '안', '알', '알다', '앞', '어기', '어쨋', '어찌됏', '여보', '연관', '옆', '외', '요', '우', '위', '위해', '윗', '의거', '의지', '의치', '이로', '이서', '이외', '이용', '이유', '인', '일반', '일지', '임', '입', '입장', '적', '점', '정도', '제외', '젠', '종합', '주저', '줄', '중', '즈음', '지경', '진짜', '집', '쪽', '차', '첫', '토', '통', '편이', '하든', '하자', '한적', '함', '항목', '해', '해도', '향', '형식', '후', '힘'] not in stop_words.\n",
            "  warnings.warn(\n",
            "/usr/local/lib/python3.10/dist-packages/sklearn/feature_extraction/text.py:528: UserWarning: The parameter 'token_pattern' will not be used since 'tokenizer' is not None'\n",
            "  warnings.warn(\n",
            "/usr/local/lib/python3.10/dist-packages/sklearn/feature_extraction/text.py:409: UserWarning: Your stop_words may be inconsistent with your preprocessing. Tokenizing the stop words generated tokens ['각하', '간', '개', '거나', '거리', '걸', '겁', '것과', '견지', '결과', '결론', '고려', '곤', '곳', '공동', '관', '관계', '관련', '구체', '구토', '근거', '기대', '기점', '기준', '김', '까닭', '나머지', '남', '낫다', '낼', '년도', '논', '누가', '다시', '답', '대로', '대하', '대해', '더', '더욱이', '도달', '도착', '동시', '됏', '두번째', '뒤', '듯', '따름', '때문', '라면', '리하', '마자', '막론', '만', '만이', '만하', '말', '망정', '메', '몰랏다', '무릎', '바', '반대', '방면', '보아', '본대', '부류', '불구', '불문', '비', '비걱거리', '비교', '뿐', '사람', '상대', '생각', '서술', '수', '시오', '시작', '시초', '아래', '아무', '안', '알', '알다', '앞', '어기', '어쨋', '어찌됏', '여보', '연관', '옆', '외', '요', '우', '위', '위해', '윗', '의거', '의지', '의치', '이로', '이서', '이외', '이용', '이유', '인', '일반', '일지', '임', '입', '입장', '적', '점', '정도', '제외', '젠', '종합', '주저', '줄', '중', '즈음', '지경', '진짜', '집', '쪽', '차', '첫', '토', '통', '편이', '하든', '하자', '한적', '함', '항목', '해', '해도', '향', '형식', '후', '힘'] not in stop_words.\n",
            "  warnings.warn(\n",
            "/usr/local/lib/python3.10/dist-packages/sklearn/feature_extraction/text.py:528: UserWarning: The parameter 'token_pattern' will not be used since 'tokenizer' is not None'\n",
            "  warnings.warn(\n",
            "/usr/local/lib/python3.10/dist-packages/sklearn/feature_extraction/text.py:409: UserWarning: Your stop_words may be inconsistent with your preprocessing. Tokenizing the stop words generated tokens ['각하', '간', '개', '거나', '거리', '걸', '겁', '것과', '견지', '결과', '결론', '고려', '곤', '곳', '공동', '관', '관계', '관련', '구체', '구토', '근거', '기대', '기점', '기준', '김', '까닭', '나머지', '남', '낫다', '낼', '년도', '논', '누가', '다시', '답', '대로', '대하', '대해', '더', '더욱이', '도달', '도착', '동시', '됏', '두번째', '뒤', '듯', '따름', '때문', '라면', '리하', '마자', '막론', '만', '만이', '만하', '말', '망정', '메', '몰랏다', '무릎', '바', '반대', '방면', '보아', '본대', '부류', '불구', '불문', '비', '비걱거리', '비교', '뿐', '사람', '상대', '생각', '서술', '수', '시오', '시작', '시초', '아래', '아무', '안', '알', '알다', '앞', '어기', '어쨋', '어찌됏', '여보', '연관', '옆', '외', '요', '우', '위', '위해', '윗', '의거', '의지', '의치', '이로', '이서', '이외', '이용', '이유', '인', '일반', '일지', '임', '입', '입장', '적', '점', '정도', '제외', '젠', '종합', '주저', '줄', '중', '즈음', '지경', '진짜', '집', '쪽', '차', '첫', '토', '통', '편이', '하든', '하자', '한적', '함', '항목', '해', '해도', '향', '형식', '후', '힘'] not in stop_words.\n",
            "  warnings.warn(\n",
            "/usr/local/lib/python3.10/dist-packages/sklearn/feature_extraction/text.py:528: UserWarning: The parameter 'token_pattern' will not be used since 'tokenizer' is not None'\n",
            "  warnings.warn(\n",
            "/usr/local/lib/python3.10/dist-packages/sklearn/feature_extraction/text.py:409: UserWarning: Your stop_words may be inconsistent with your preprocessing. Tokenizing the stop words generated tokens ['각하', '간', '개', '거나', '거리', '걸', '겁', '것과', '견지', '결과', '결론', '고려', '곤', '곳', '공동', '관', '관계', '관련', '구체', '구토', '근거', '기대', '기점', '기준', '김', '까닭', '나머지', '남', '낫다', '낼', '년도', '논', '누가', '다시', '답', '대로', '대하', '대해', '더', '더욱이', '도달', '도착', '동시', '됏', '두번째', '뒤', '듯', '따름', '때문', '라면', '리하', '마자', '막론', '만', '만이', '만하', '말', '망정', '메', '몰랏다', '무릎', '바', '반대', '방면', '보아', '본대', '부류', '불구', '불문', '비', '비걱거리', '비교', '뿐', '사람', '상대', '생각', '서술', '수', '시오', '시작', '시초', '아래', '아무', '안', '알', '알다', '앞', '어기', '어쨋', '어찌됏', '여보', '연관', '옆', '외', '요', '우', '위', '위해', '윗', '의거', '의지', '의치', '이로', '이서', '이외', '이용', '이유', '인', '일반', '일지', '임', '입', '입장', '적', '점', '정도', '제외', '젠', '종합', '주저', '줄', '중', '즈음', '지경', '진짜', '집', '쪽', '차', '첫', '토', '통', '편이', '하든', '하자', '한적', '함', '항목', '해', '해도', '향', '형식', '후', '힘'] not in stop_words.\n",
            "  warnings.warn(\n",
            "/usr/local/lib/python3.10/dist-packages/sklearn/feature_extraction/text.py:528: UserWarning: The parameter 'token_pattern' will not be used since 'tokenizer' is not None'\n",
            "  warnings.warn(\n",
            "/usr/local/lib/python3.10/dist-packages/sklearn/feature_extraction/text.py:409: UserWarning: Your stop_words may be inconsistent with your preprocessing. Tokenizing the stop words generated tokens ['각하', '간', '개', '거나', '거리', '걸', '겁', '것과', '견지', '결과', '결론', '고려', '곤', '곳', '공동', '관', '관계', '관련', '구체', '구토', '근거', '기대', '기점', '기준', '김', '까닭', '나머지', '남', '낫다', '낼', '년도', '논', '누가', '다시', '답', '대로', '대하', '대해', '더', '더욱이', '도달', '도착', '동시', '됏', '두번째', '뒤', '듯', '따름', '때문', '라면', '리하', '마자', '막론', '만', '만이', '만하', '말', '망정', '메', '몰랏다', '무릎', '바', '반대', '방면', '보아', '본대', '부류', '불구', '불문', '비', '비걱거리', '비교', '뿐', '사람', '상대', '생각', '서술', '수', '시오', '시작', '시초', '아래', '아무', '안', '알', '알다', '앞', '어기', '어쨋', '어찌됏', '여보', '연관', '옆', '외', '요', '우', '위', '위해', '윗', '의거', '의지', '의치', '이로', '이서', '이외', '이용', '이유', '인', '일반', '일지', '임', '입', '입장', '적', '점', '정도', '제외', '젠', '종합', '주저', '줄', '중', '즈음', '지경', '진짜', '집', '쪽', '차', '첫', '토', '통', '편이', '하든', '하자', '한적', '함', '항목', '해', '해도', '향', '형식', '후', '힘'] not in stop_words.\n",
            "  warnings.warn(\n",
            "/usr/local/lib/python3.10/dist-packages/sklearn/feature_extraction/text.py:528: UserWarning: The parameter 'token_pattern' will not be used since 'tokenizer' is not None'\n",
            "  warnings.warn(\n",
            "/usr/local/lib/python3.10/dist-packages/sklearn/feature_extraction/text.py:409: UserWarning: Your stop_words may be inconsistent with your preprocessing. Tokenizing the stop words generated tokens ['각하', '간', '개', '거나', '거리', '걸', '겁', '것과', '견지', '결과', '결론', '고려', '곤', '곳', '공동', '관', '관계', '관련', '구체', '구토', '근거', '기대', '기점', '기준', '김', '까닭', '나머지', '남', '낫다', '낼', '년도', '논', '누가', '다시', '답', '대로', '대하', '대해', '더', '더욱이', '도달', '도착', '동시', '됏', '두번째', '뒤', '듯', '따름', '때문', '라면', '리하', '마자', '막론', '만', '만이', '만하', '말', '망정', '메', '몰랏다', '무릎', '바', '반대', '방면', '보아', '본대', '부류', '불구', '불문', '비', '비걱거리', '비교', '뿐', '사람', '상대', '생각', '서술', '수', '시오', '시작', '시초', '아래', '아무', '안', '알', '알다', '앞', '어기', '어쨋', '어찌됏', '여보', '연관', '옆', '외', '요', '우', '위', '위해', '윗', '의거', '의지', '의치', '이로', '이서', '이외', '이용', '이유', '인', '일반', '일지', '임', '입', '입장', '적', '점', '정도', '제외', '젠', '종합', '주저', '줄', '중', '즈음', '지경', '진짜', '집', '쪽', '차', '첫', '토', '통', '편이', '하든', '하자', '한적', '함', '항목', '해', '해도', '향', '형식', '후', '힘'] not in stop_words.\n",
            "  warnings.warn(\n",
            "/usr/local/lib/python3.10/dist-packages/sklearn/feature_extraction/text.py:528: UserWarning: The parameter 'token_pattern' will not be used since 'tokenizer' is not None'\n",
            "  warnings.warn(\n",
            "/usr/local/lib/python3.10/dist-packages/sklearn/feature_extraction/text.py:409: UserWarning: Your stop_words may be inconsistent with your preprocessing. Tokenizing the stop words generated tokens ['각하', '간', '개', '거나', '거리', '걸', '겁', '것과', '견지', '결과', '결론', '고려', '곤', '곳', '공동', '관', '관계', '관련', '구체', '구토', '근거', '기대', '기점', '기준', '김', '까닭', '나머지', '남', '낫다', '낼', '년도', '논', '누가', '다시', '답', '대로', '대하', '대해', '더', '더욱이', '도달', '도착', '동시', '됏', '두번째', '뒤', '듯', '따름', '때문', '라면', '리하', '마자', '막론', '만', '만이', '만하', '말', '망정', '메', '몰랏다', '무릎', '바', '반대', '방면', '보아', '본대', '부류', '불구', '불문', '비', '비걱거리', '비교', '뿐', '사람', '상대', '생각', '서술', '수', '시오', '시작', '시초', '아래', '아무', '안', '알', '알다', '앞', '어기', '어쨋', '어찌됏', '여보', '연관', '옆', '외', '요', '우', '위', '위해', '윗', '의거', '의지', '의치', '이로', '이서', '이외', '이용', '이유', '인', '일반', '일지', '임', '입', '입장', '적', '점', '정도', '제외', '젠', '종합', '주저', '줄', '중', '즈음', '지경', '진짜', '집', '쪽', '차', '첫', '토', '통', '편이', '하든', '하자', '한적', '함', '항목', '해', '해도', '향', '형식', '후', '힘'] not in stop_words.\n",
            "  warnings.warn(\n",
            "/usr/local/lib/python3.10/dist-packages/sklearn/feature_extraction/text.py:528: UserWarning: The parameter 'token_pattern' will not be used since 'tokenizer' is not None'\n",
            "  warnings.warn(\n",
            "/usr/local/lib/python3.10/dist-packages/sklearn/feature_extraction/text.py:409: UserWarning: Your stop_words may be inconsistent with your preprocessing. Tokenizing the stop words generated tokens ['각하', '간', '개', '거나', '거리', '걸', '겁', '것과', '견지', '결과', '결론', '고려', '곤', '곳', '공동', '관', '관계', '관련', '구체', '구토', '근거', '기대', '기점', '기준', '김', '까닭', '나머지', '남', '낫다', '낼', '년도', '논', '누가', '다시', '답', '대로', '대하', '대해', '더', '더욱이', '도달', '도착', '동시', '됏', '두번째', '뒤', '듯', '따름', '때문', '라면', '리하', '마자', '막론', '만', '만이', '만하', '말', '망정', '메', '몰랏다', '무릎', '바', '반대', '방면', '보아', '본대', '부류', '불구', '불문', '비', '비걱거리', '비교', '뿐', '사람', '상대', '생각', '서술', '수', '시오', '시작', '시초', '아래', '아무', '안', '알', '알다', '앞', '어기', '어쨋', '어찌됏', '여보', '연관', '옆', '외', '요', '우', '위', '위해', '윗', '의거', '의지', '의치', '이로', '이서', '이외', '이용', '이유', '인', '일반', '일지', '임', '입', '입장', '적', '점', '정도', '제외', '젠', '종합', '주저', '줄', '중', '즈음', '지경', '진짜', '집', '쪽', '차', '첫', '토', '통', '편이', '하든', '하자', '한적', '함', '항목', '해', '해도', '향', '형식', '후', '힘'] not in stop_words.\n",
            "  warnings.warn(\n",
            "/usr/local/lib/python3.10/dist-packages/sklearn/feature_extraction/text.py:528: UserWarning: The parameter 'token_pattern' will not be used since 'tokenizer' is not None'\n",
            "  warnings.warn(\n",
            "/usr/local/lib/python3.10/dist-packages/sklearn/feature_extraction/text.py:409: UserWarning: Your stop_words may be inconsistent with your preprocessing. Tokenizing the stop words generated tokens ['각하', '간', '개', '거나', '거리', '걸', '겁', '것과', '견지', '결과', '결론', '고려', '곤', '곳', '공동', '관', '관계', '관련', '구체', '구토', '근거', '기대', '기점', '기준', '김', '까닭', '나머지', '남', '낫다', '낼', '년도', '논', '누가', '다시', '답', '대로', '대하', '대해', '더', '더욱이', '도달', '도착', '동시', '됏', '두번째', '뒤', '듯', '따름', '때문', '라면', '리하', '마자', '막론', '만', '만이', '만하', '말', '망정', '메', '몰랏다', '무릎', '바', '반대', '방면', '보아', '본대', '부류', '불구', '불문', '비', '비걱거리', '비교', '뿐', '사람', '상대', '생각', '서술', '수', '시오', '시작', '시초', '아래', '아무', '안', '알', '알다', '앞', '어기', '어쨋', '어찌됏', '여보', '연관', '옆', '외', '요', '우', '위', '위해', '윗', '의거', '의지', '의치', '이로', '이서', '이외', '이용', '이유', '인', '일반', '일지', '임', '입', '입장', '적', '점', '정도', '제외', '젠', '종합', '주저', '줄', '중', '즈음', '지경', '진짜', '집', '쪽', '차', '첫', '토', '통', '편이', '하든', '하자', '한적', '함', '항목', '해', '해도', '향', '형식', '후', '힘'] not in stop_words.\n",
            "  warnings.warn(\n",
            "/usr/local/lib/python3.10/dist-packages/sklearn/feature_extraction/text.py:528: UserWarning: The parameter 'token_pattern' will not be used since 'tokenizer' is not None'\n",
            "  warnings.warn(\n",
            "/usr/local/lib/python3.10/dist-packages/sklearn/feature_extraction/text.py:409: UserWarning: Your stop_words may be inconsistent with your preprocessing. Tokenizing the stop words generated tokens ['각하', '간', '개', '거나', '거리', '걸', '겁', '것과', '견지', '결과', '결론', '고려', '곤', '곳', '공동', '관', '관계', '관련', '구체', '구토', '근거', '기대', '기점', '기준', '김', '까닭', '나머지', '남', '낫다', '낼', '년도', '논', '누가', '다시', '답', '대로', '대하', '대해', '더', '더욱이', '도달', '도착', '동시', '됏', '두번째', '뒤', '듯', '따름', '때문', '라면', '리하', '마자', '막론', '만', '만이', '만하', '말', '망정', '메', '몰랏다', '무릎', '바', '반대', '방면', '보아', '본대', '부류', '불구', '불문', '비', '비걱거리', '비교', '뿐', '사람', '상대', '생각', '서술', '수', '시오', '시작', '시초', '아래', '아무', '안', '알', '알다', '앞', '어기', '어쨋', '어찌됏', '여보', '연관', '옆', '외', '요', '우', '위', '위해', '윗', '의거', '의지', '의치', '이로', '이서', '이외', '이용', '이유', '인', '일반', '일지', '임', '입', '입장', '적', '점', '정도', '제외', '젠', '종합', '주저', '줄', '중', '즈음', '지경', '진짜', '집', '쪽', '차', '첫', '토', '통', '편이', '하든', '하자', '한적', '함', '항목', '해', '해도', '향', '형식', '후', '힘'] not in stop_words.\n",
            "  warnings.warn(\n",
            "/usr/local/lib/python3.10/dist-packages/sklearn/feature_extraction/text.py:528: UserWarning: The parameter 'token_pattern' will not be used since 'tokenizer' is not None'\n",
            "  warnings.warn(\n",
            "/usr/local/lib/python3.10/dist-packages/sklearn/feature_extraction/text.py:409: UserWarning: Your stop_words may be inconsistent with your preprocessing. Tokenizing the stop words generated tokens ['각하', '간', '개', '거나', '거리', '걸', '겁', '것과', '견지', '결과', '결론', '고려', '곤', '곳', '공동', '관', '관계', '관련', '구체', '구토', '근거', '기대', '기점', '기준', '김', '까닭', '나머지', '남', '낫다', '낼', '년도', '논', '누가', '다시', '답', '대로', '대하', '대해', '더', '더욱이', '도달', '도착', '동시', '됏', '두번째', '뒤', '듯', '따름', '때문', '라면', '리하', '마자', '막론', '만', '만이', '만하', '말', '망정', '메', '몰랏다', '무릎', '바', '반대', '방면', '보아', '본대', '부류', '불구', '불문', '비', '비걱거리', '비교', '뿐', '사람', '상대', '생각', '서술', '수', '시오', '시작', '시초', '아래', '아무', '안', '알', '알다', '앞', '어기', '어쨋', '어찌됏', '여보', '연관', '옆', '외', '요', '우', '위', '위해', '윗', '의거', '의지', '의치', '이로', '이서', '이외', '이용', '이유', '인', '일반', '일지', '임', '입', '입장', '적', '점', '정도', '제외', '젠', '종합', '주저', '줄', '중', '즈음', '지경', '진짜', '집', '쪽', '차', '첫', '토', '통', '편이', '하든', '하자', '한적', '함', '항목', '해', '해도', '향', '형식', '후', '힘'] not in stop_words.\n",
            "  warnings.warn(\n",
            "/usr/local/lib/python3.10/dist-packages/sklearn/feature_extraction/text.py:528: UserWarning: The parameter 'token_pattern' will not be used since 'tokenizer' is not None'\n",
            "  warnings.warn(\n",
            "/usr/local/lib/python3.10/dist-packages/sklearn/feature_extraction/text.py:409: UserWarning: Your stop_words may be inconsistent with your preprocessing. Tokenizing the stop words generated tokens ['각하', '간', '개', '거나', '거리', '걸', '겁', '것과', '견지', '결과', '결론', '고려', '곤', '곳', '공동', '관', '관계', '관련', '구체', '구토', '근거', '기대', '기점', '기준', '김', '까닭', '나머지', '남', '낫다', '낼', '년도', '논', '누가', '다시', '답', '대로', '대하', '대해', '더', '더욱이', '도달', '도착', '동시', '됏', '두번째', '뒤', '듯', '따름', '때문', '라면', '리하', '마자', '막론', '만', '만이', '만하', '말', '망정', '메', '몰랏다', '무릎', '바', '반대', '방면', '보아', '본대', '부류', '불구', '불문', '비', '비걱거리', '비교', '뿐', '사람', '상대', '생각', '서술', '수', '시오', '시작', '시초', '아래', '아무', '안', '알', '알다', '앞', '어기', '어쨋', '어찌됏', '여보', '연관', '옆', '외', '요', '우', '위', '위해', '윗', '의거', '의지', '의치', '이로', '이서', '이외', '이용', '이유', '인', '일반', '일지', '임', '입', '입장', '적', '점', '정도', '제외', '젠', '종합', '주저', '줄', '중', '즈음', '지경', '진짜', '집', '쪽', '차', '첫', '토', '통', '편이', '하든', '하자', '한적', '함', '항목', '해', '해도', '향', '형식', '후', '힘'] not in stop_words.\n",
            "  warnings.warn(\n",
            "/usr/local/lib/python3.10/dist-packages/sklearn/feature_extraction/text.py:528: UserWarning: The parameter 'token_pattern' will not be used since 'tokenizer' is not None'\n",
            "  warnings.warn(\n",
            "/usr/local/lib/python3.10/dist-packages/sklearn/feature_extraction/text.py:409: UserWarning: Your stop_words may be inconsistent with your preprocessing. Tokenizing the stop words generated tokens ['각하', '간', '개', '거나', '거리', '걸', '겁', '것과', '견지', '결과', '결론', '고려', '곤', '곳', '공동', '관', '관계', '관련', '구체', '구토', '근거', '기대', '기점', '기준', '김', '까닭', '나머지', '남', '낫다', '낼', '년도', '논', '누가', '다시', '답', '대로', '대하', '대해', '더', '더욱이', '도달', '도착', '동시', '됏', '두번째', '뒤', '듯', '따름', '때문', '라면', '리하', '마자', '막론', '만', '만이', '만하', '말', '망정', '메', '몰랏다', '무릎', '바', '반대', '방면', '보아', '본대', '부류', '불구', '불문', '비', '비걱거리', '비교', '뿐', '사람', '상대', '생각', '서술', '수', '시오', '시작', '시초', '아래', '아무', '안', '알', '알다', '앞', '어기', '어쨋', '어찌됏', '여보', '연관', '옆', '외', '요', '우', '위', '위해', '윗', '의거', '의지', '의치', '이로', '이서', '이외', '이용', '이유', '인', '일반', '일지', '임', '입', '입장', '적', '점', '정도', '제외', '젠', '종합', '주저', '줄', '중', '즈음', '지경', '진짜', '집', '쪽', '차', '첫', '토', '통', '편이', '하든', '하자', '한적', '함', '항목', '해', '해도', '향', '형식', '후', '힘'] not in stop_words.\n",
            "  warnings.warn(\n",
            "/usr/local/lib/python3.10/dist-packages/sklearn/feature_extraction/text.py:528: UserWarning: The parameter 'token_pattern' will not be used since 'tokenizer' is not None'\n",
            "  warnings.warn(\n",
            "/usr/local/lib/python3.10/dist-packages/sklearn/feature_extraction/text.py:409: UserWarning: Your stop_words may be inconsistent with your preprocessing. Tokenizing the stop words generated tokens ['각하', '간', '개', '거나', '거리', '걸', '겁', '것과', '견지', '결과', '결론', '고려', '곤', '곳', '공동', '관', '관계', '관련', '구체', '구토', '근거', '기대', '기점', '기준', '김', '까닭', '나머지', '남', '낫다', '낼', '년도', '논', '누가', '다시', '답', '대로', '대하', '대해', '더', '더욱이', '도달', '도착', '동시', '됏', '두번째', '뒤', '듯', '따름', '때문', '라면', '리하', '마자', '막론', '만', '만이', '만하', '말', '망정', '메', '몰랏다', '무릎', '바', '반대', '방면', '보아', '본대', '부류', '불구', '불문', '비', '비걱거리', '비교', '뿐', '사람', '상대', '생각', '서술', '수', '시오', '시작', '시초', '아래', '아무', '안', '알', '알다', '앞', '어기', '어쨋', '어찌됏', '여보', '연관', '옆', '외', '요', '우', '위', '위해', '윗', '의거', '의지', '의치', '이로', '이서', '이외', '이용', '이유', '인', '일반', '일지', '임', '입', '입장', '적', '점', '정도', '제외', '젠', '종합', '주저', '줄', '중', '즈음', '지경', '진짜', '집', '쪽', '차', '첫', '토', '통', '편이', '하든', '하자', '한적', '함', '항목', '해', '해도', '향', '형식', '후', '힘'] not in stop_words.\n",
            "  warnings.warn(\n",
            "/usr/local/lib/python3.10/dist-packages/sklearn/feature_extraction/text.py:528: UserWarning: The parameter 'token_pattern' will not be used since 'tokenizer' is not None'\n",
            "  warnings.warn(\n",
            "/usr/local/lib/python3.10/dist-packages/sklearn/feature_extraction/text.py:409: UserWarning: Your stop_words may be inconsistent with your preprocessing. Tokenizing the stop words generated tokens ['각하', '간', '개', '거나', '거리', '걸', '겁', '것과', '견지', '결과', '결론', '고려', '곤', '곳', '공동', '관', '관계', '관련', '구체', '구토', '근거', '기대', '기점', '기준', '김', '까닭', '나머지', '남', '낫다', '낼', '년도', '논', '누가', '다시', '답', '대로', '대하', '대해', '더', '더욱이', '도달', '도착', '동시', '됏', '두번째', '뒤', '듯', '따름', '때문', '라면', '리하', '마자', '막론', '만', '만이', '만하', '말', '망정', '메', '몰랏다', '무릎', '바', '반대', '방면', '보아', '본대', '부류', '불구', '불문', '비', '비걱거리', '비교', '뿐', '사람', '상대', '생각', '서술', '수', '시오', '시작', '시초', '아래', '아무', '안', '알', '알다', '앞', '어기', '어쨋', '어찌됏', '여보', '연관', '옆', '외', '요', '우', '위', '위해', '윗', '의거', '의지', '의치', '이로', '이서', '이외', '이용', '이유', '인', '일반', '일지', '임', '입', '입장', '적', '점', '정도', '제외', '젠', '종합', '주저', '줄', '중', '즈음', '지경', '진짜', '집', '쪽', '차', '첫', '토', '통', '편이', '하든', '하자', '한적', '함', '항목', '해', '해도', '향', '형식', '후', '힘'] not in stop_words.\n",
            "  warnings.warn(\n",
            "/usr/local/lib/python3.10/dist-packages/sklearn/feature_extraction/text.py:528: UserWarning: The parameter 'token_pattern' will not be used since 'tokenizer' is not None'\n",
            "  warnings.warn(\n",
            "/usr/local/lib/python3.10/dist-packages/sklearn/feature_extraction/text.py:409: UserWarning: Your stop_words may be inconsistent with your preprocessing. Tokenizing the stop words generated tokens ['각하', '간', '개', '거나', '거리', '걸', '겁', '것과', '견지', '결과', '결론', '고려', '곤', '곳', '공동', '관', '관계', '관련', '구체', '구토', '근거', '기대', '기점', '기준', '김', '까닭', '나머지', '남', '낫다', '낼', '년도', '논', '누가', '다시', '답', '대로', '대하', '대해', '더', '더욱이', '도달', '도착', '동시', '됏', '두번째', '뒤', '듯', '따름', '때문', '라면', '리하', '마자', '막론', '만', '만이', '만하', '말', '망정', '메', '몰랏다', '무릎', '바', '반대', '방면', '보아', '본대', '부류', '불구', '불문', '비', '비걱거리', '비교', '뿐', '사람', '상대', '생각', '서술', '수', '시오', '시작', '시초', '아래', '아무', '안', '알', '알다', '앞', '어기', '어쨋', '어찌됏', '여보', '연관', '옆', '외', '요', '우', '위', '위해', '윗', '의거', '의지', '의치', '이로', '이서', '이외', '이용', '이유', '인', '일반', '일지', '임', '입', '입장', '적', '점', '정도', '제외', '젠', '종합', '주저', '줄', '중', '즈음', '지경', '진짜', '집', '쪽', '차', '첫', '토', '통', '편이', '하든', '하자', '한적', '함', '항목', '해', '해도', '향', '형식', '후', '힘'] not in stop_words.\n",
            "  warnings.warn(\n",
            "/usr/local/lib/python3.10/dist-packages/sklearn/feature_extraction/text.py:528: UserWarning: The parameter 'token_pattern' will not be used since 'tokenizer' is not None'\n",
            "  warnings.warn(\n",
            "/usr/local/lib/python3.10/dist-packages/sklearn/feature_extraction/text.py:409: UserWarning: Your stop_words may be inconsistent with your preprocessing. Tokenizing the stop words generated tokens ['각하', '간', '개', '거나', '거리', '걸', '겁', '것과', '견지', '결과', '결론', '고려', '곤', '곳', '공동', '관', '관계', '관련', '구체', '구토', '근거', '기대', '기점', '기준', '김', '까닭', '나머지', '남', '낫다', '낼', '년도', '논', '누가', '다시', '답', '대로', '대하', '대해', '더', '더욱이', '도달', '도착', '동시', '됏', '두번째', '뒤', '듯', '따름', '때문', '라면', '리하', '마자', '막론', '만', '만이', '만하', '말', '망정', '메', '몰랏다', '무릎', '바', '반대', '방면', '보아', '본대', '부류', '불구', '불문', '비', '비걱거리', '비교', '뿐', '사람', '상대', '생각', '서술', '수', '시오', '시작', '시초', '아래', '아무', '안', '알', '알다', '앞', '어기', '어쨋', '어찌됏', '여보', '연관', '옆', '외', '요', '우', '위', '위해', '윗', '의거', '의지', '의치', '이로', '이서', '이외', '이용', '이유', '인', '일반', '일지', '임', '입', '입장', '적', '점', '정도', '제외', '젠', '종합', '주저', '줄', '중', '즈음', '지경', '진짜', '집', '쪽', '차', '첫', '토', '통', '편이', '하든', '하자', '한적', '함', '항목', '해', '해도', '향', '형식', '후', '힘'] not in stop_words.\n",
            "  warnings.warn(\n",
            "/usr/local/lib/python3.10/dist-packages/sklearn/feature_extraction/text.py:528: UserWarning: The parameter 'token_pattern' will not be used since 'tokenizer' is not None'\n",
            "  warnings.warn(\n",
            "/usr/local/lib/python3.10/dist-packages/sklearn/feature_extraction/text.py:409: UserWarning: Your stop_words may be inconsistent with your preprocessing. Tokenizing the stop words generated tokens ['각하', '간', '개', '거나', '거리', '걸', '겁', '것과', '견지', '결과', '결론', '고려', '곤', '곳', '공동', '관', '관계', '관련', '구체', '구토', '근거', '기대', '기점', '기준', '김', '까닭', '나머지', '남', '낫다', '낼', '년도', '논', '누가', '다시', '답', '대로', '대하', '대해', '더', '더욱이', '도달', '도착', '동시', '됏', '두번째', '뒤', '듯', '따름', '때문', '라면', '리하', '마자', '막론', '만', '만이', '만하', '말', '망정', '메', '몰랏다', '무릎', '바', '반대', '방면', '보아', '본대', '부류', '불구', '불문', '비', '비걱거리', '비교', '뿐', '사람', '상대', '생각', '서술', '수', '시오', '시작', '시초', '아래', '아무', '안', '알', '알다', '앞', '어기', '어쨋', '어찌됏', '여보', '연관', '옆', '외', '요', '우', '위', '위해', '윗', '의거', '의지', '의치', '이로', '이서', '이외', '이용', '이유', '인', '일반', '일지', '임', '입', '입장', '적', '점', '정도', '제외', '젠', '종합', '주저', '줄', '중', '즈음', '지경', '진짜', '집', '쪽', '차', '첫', '토', '통', '편이', '하든', '하자', '한적', '함', '항목', '해', '해도', '향', '형식', '후', '힘'] not in stop_words.\n",
            "  warnings.warn(\n",
            "/usr/local/lib/python3.10/dist-packages/sklearn/feature_extraction/text.py:528: UserWarning: The parameter 'token_pattern' will not be used since 'tokenizer' is not None'\n",
            "  warnings.warn(\n",
            "/usr/local/lib/python3.10/dist-packages/sklearn/feature_extraction/text.py:409: UserWarning: Your stop_words may be inconsistent with your preprocessing. Tokenizing the stop words generated tokens ['각하', '간', '개', '거나', '거리', '걸', '겁', '것과', '견지', '결과', '결론', '고려', '곤', '곳', '공동', '관', '관계', '관련', '구체', '구토', '근거', '기대', '기점', '기준', '김', '까닭', '나머지', '남', '낫다', '낼', '년도', '논', '누가', '다시', '답', '대로', '대하', '대해', '더', '더욱이', '도달', '도착', '동시', '됏', '두번째', '뒤', '듯', '따름', '때문', '라면', '리하', '마자', '막론', '만', '만이', '만하', '말', '망정', '메', '몰랏다', '무릎', '바', '반대', '방면', '보아', '본대', '부류', '불구', '불문', '비', '비걱거리', '비교', '뿐', '사람', '상대', '생각', '서술', '수', '시오', '시작', '시초', '아래', '아무', '안', '알', '알다', '앞', '어기', '어쨋', '어찌됏', '여보', '연관', '옆', '외', '요', '우', '위', '위해', '윗', '의거', '의지', '의치', '이로', '이서', '이외', '이용', '이유', '인', '일반', '일지', '임', '입', '입장', '적', '점', '정도', '제외', '젠', '종합', '주저', '줄', '중', '즈음', '지경', '진짜', '집', '쪽', '차', '첫', '토', '통', '편이', '하든', '하자', '한적', '함', '항목', '해', '해도', '향', '형식', '후', '힘'] not in stop_words.\n",
            "  warnings.warn(\n",
            "/usr/local/lib/python3.10/dist-packages/sklearn/feature_extraction/text.py:528: UserWarning: The parameter 'token_pattern' will not be used since 'tokenizer' is not None'\n",
            "  warnings.warn(\n",
            "/usr/local/lib/python3.10/dist-packages/sklearn/feature_extraction/text.py:409: UserWarning: Your stop_words may be inconsistent with your preprocessing. Tokenizing the stop words generated tokens ['각하', '간', '개', '거나', '거리', '걸', '겁', '것과', '견지', '결과', '결론', '고려', '곤', '곳', '공동', '관', '관계', '관련', '구체', '구토', '근거', '기대', '기점', '기준', '김', '까닭', '나머지', '남', '낫다', '낼', '년도', '논', '누가', '다시', '답', '대로', '대하', '대해', '더', '더욱이', '도달', '도착', '동시', '됏', '두번째', '뒤', '듯', '따름', '때문', '라면', '리하', '마자', '막론', '만', '만이', '만하', '말', '망정', '메', '몰랏다', '무릎', '바', '반대', '방면', '보아', '본대', '부류', '불구', '불문', '비', '비걱거리', '비교', '뿐', '사람', '상대', '생각', '서술', '수', '시오', '시작', '시초', '아래', '아무', '안', '알', '알다', '앞', '어기', '어쨋', '어찌됏', '여보', '연관', '옆', '외', '요', '우', '위', '위해', '윗', '의거', '의지', '의치', '이로', '이서', '이외', '이용', '이유', '인', '일반', '일지', '임', '입', '입장', '적', '점', '정도', '제외', '젠', '종합', '주저', '줄', '중', '즈음', '지경', '진짜', '집', '쪽', '차', '첫', '토', '통', '편이', '하든', '하자', '한적', '함', '항목', '해', '해도', '향', '형식', '후', '힘'] not in stop_words.\n",
            "  warnings.warn(\n",
            "/usr/local/lib/python3.10/dist-packages/sklearn/feature_extraction/text.py:528: UserWarning: The parameter 'token_pattern' will not be used since 'tokenizer' is not None'\n",
            "  warnings.warn(\n",
            "/usr/local/lib/python3.10/dist-packages/sklearn/feature_extraction/text.py:409: UserWarning: Your stop_words may be inconsistent with your preprocessing. Tokenizing the stop words generated tokens ['각하', '간', '개', '거나', '거리', '걸', '겁', '것과', '견지', '결과', '결론', '고려', '곤', '곳', '공동', '관', '관계', '관련', '구체', '구토', '근거', '기대', '기점', '기준', '김', '까닭', '나머지', '남', '낫다', '낼', '년도', '논', '누가', '다시', '답', '대로', '대하', '대해', '더', '더욱이', '도달', '도착', '동시', '됏', '두번째', '뒤', '듯', '따름', '때문', '라면', '리하', '마자', '막론', '만', '만이', '만하', '말', '망정', '메', '몰랏다', '무릎', '바', '반대', '방면', '보아', '본대', '부류', '불구', '불문', '비', '비걱거리', '비교', '뿐', '사람', '상대', '생각', '서술', '수', '시오', '시작', '시초', '아래', '아무', '안', '알', '알다', '앞', '어기', '어쨋', '어찌됏', '여보', '연관', '옆', '외', '요', '우', '위', '위해', '윗', '의거', '의지', '의치', '이로', '이서', '이외', '이용', '이유', '인', '일반', '일지', '임', '입', '입장', '적', '점', '정도', '제외', '젠', '종합', '주저', '줄', '중', '즈음', '지경', '진짜', '집', '쪽', '차', '첫', '토', '통', '편이', '하든', '하자', '한적', '함', '항목', '해', '해도', '향', '형식', '후', '힘'] not in stop_words.\n",
            "  warnings.warn(\n",
            "/usr/local/lib/python3.10/dist-packages/sklearn/feature_extraction/text.py:528: UserWarning: The parameter 'token_pattern' will not be used since 'tokenizer' is not None'\n",
            "  warnings.warn(\n",
            "/usr/local/lib/python3.10/dist-packages/sklearn/feature_extraction/text.py:409: UserWarning: Your stop_words may be inconsistent with your preprocessing. Tokenizing the stop words generated tokens ['각하', '간', '개', '거나', '거리', '걸', '겁', '것과', '견지', '결과', '결론', '고려', '곤', '곳', '공동', '관', '관계', '관련', '구체', '구토', '근거', '기대', '기점', '기준', '김', '까닭', '나머지', '남', '낫다', '낼', '년도', '논', '누가', '다시', '답', '대로', '대하', '대해', '더', '더욱이', '도달', '도착', '동시', '됏', '두번째', '뒤', '듯', '따름', '때문', '라면', '리하', '마자', '막론', '만', '만이', '만하', '말', '망정', '메', '몰랏다', '무릎', '바', '반대', '방면', '보아', '본대', '부류', '불구', '불문', '비', '비걱거리', '비교', '뿐', '사람', '상대', '생각', '서술', '수', '시오', '시작', '시초', '아래', '아무', '안', '알', '알다', '앞', '어기', '어쨋', '어찌됏', '여보', '연관', '옆', '외', '요', '우', '위', '위해', '윗', '의거', '의지', '의치', '이로', '이서', '이외', '이용', '이유', '인', '일반', '일지', '임', '입', '입장', '적', '점', '정도', '제외', '젠', '종합', '주저', '줄', '중', '즈음', '지경', '진짜', '집', '쪽', '차', '첫', '토', '통', '편이', '하든', '하자', '한적', '함', '항목', '해', '해도', '향', '형식', '후', '힘'] not in stop_words.\n",
            "  warnings.warn(\n",
            "/usr/local/lib/python3.10/dist-packages/sklearn/feature_extraction/text.py:528: UserWarning: The parameter 'token_pattern' will not be used since 'tokenizer' is not None'\n",
            "  warnings.warn(\n",
            "/usr/local/lib/python3.10/dist-packages/sklearn/feature_extraction/text.py:409: UserWarning: Your stop_words may be inconsistent with your preprocessing. Tokenizing the stop words generated tokens ['각하', '간', '개', '거나', '거리', '걸', '겁', '것과', '견지', '결과', '결론', '고려', '곤', '곳', '공동', '관', '관계', '관련', '구체', '구토', '근거', '기대', '기점', '기준', '김', '까닭', '나머지', '남', '낫다', '낼', '년도', '논', '누가', '다시', '답', '대로', '대하', '대해', '더', '더욱이', '도달', '도착', '동시', '됏', '두번째', '뒤', '듯', '따름', '때문', '라면', '리하', '마자', '막론', '만', '만이', '만하', '말', '망정', '메', '몰랏다', '무릎', '바', '반대', '방면', '보아', '본대', '부류', '불구', '불문', '비', '비걱거리', '비교', '뿐', '사람', '상대', '생각', '서술', '수', '시오', '시작', '시초', '아래', '아무', '안', '알', '알다', '앞', '어기', '어쨋', '어찌됏', '여보', '연관', '옆', '외', '요', '우', '위', '위해', '윗', '의거', '의지', '의치', '이로', '이서', '이외', '이용', '이유', '인', '일반', '일지', '임', '입', '입장', '적', '점', '정도', '제외', '젠', '종합', '주저', '줄', '중', '즈음', '지경', '진짜', '집', '쪽', '차', '첫', '토', '통', '편이', '하든', '하자', '한적', '함', '항목', '해', '해도', '향', '형식', '후', '힘'] not in stop_words.\n",
            "  warnings.warn(\n",
            "/usr/local/lib/python3.10/dist-packages/sklearn/feature_extraction/text.py:528: UserWarning: The parameter 'token_pattern' will not be used since 'tokenizer' is not None'\n",
            "  warnings.warn(\n",
            "/usr/local/lib/python3.10/dist-packages/sklearn/feature_extraction/text.py:409: UserWarning: Your stop_words may be inconsistent with your preprocessing. Tokenizing the stop words generated tokens ['각하', '간', '개', '거나', '거리', '걸', '겁', '것과', '견지', '결과', '결론', '고려', '곤', '곳', '공동', '관', '관계', '관련', '구체', '구토', '근거', '기대', '기점', '기준', '김', '까닭', '나머지', '남', '낫다', '낼', '년도', '논', '누가', '다시', '답', '대로', '대하', '대해', '더', '더욱이', '도달', '도착', '동시', '됏', '두번째', '뒤', '듯', '따름', '때문', '라면', '리하', '마자', '막론', '만', '만이', '만하', '말', '망정', '메', '몰랏다', '무릎', '바', '반대', '방면', '보아', '본대', '부류', '불구', '불문', '비', '비걱거리', '비교', '뿐', '사람', '상대', '생각', '서술', '수', '시오', '시작', '시초', '아래', '아무', '안', '알', '알다', '앞', '어기', '어쨋', '어찌됏', '여보', '연관', '옆', '외', '요', '우', '위', '위해', '윗', '의거', '의지', '의치', '이로', '이서', '이외', '이용', '이유', '인', '일반', '일지', '임', '입', '입장', '적', '점', '정도', '제외', '젠', '종합', '주저', '줄', '중', '즈음', '지경', '진짜', '집', '쪽', '차', '첫', '토', '통', '편이', '하든', '하자', '한적', '함', '항목', '해', '해도', '향', '형식', '후', '힘'] not in stop_words.\n",
            "  warnings.warn(\n",
            "/usr/local/lib/python3.10/dist-packages/sklearn/feature_extraction/text.py:528: UserWarning: The parameter 'token_pattern' will not be used since 'tokenizer' is not None'\n",
            "  warnings.warn(\n",
            "/usr/local/lib/python3.10/dist-packages/sklearn/feature_extraction/text.py:409: UserWarning: Your stop_words may be inconsistent with your preprocessing. Tokenizing the stop words generated tokens ['각하', '간', '개', '거나', '거리', '걸', '겁', '것과', '견지', '결과', '결론', '고려', '곤', '곳', '공동', '관', '관계', '관련', '구체', '구토', '근거', '기대', '기점', '기준', '김', '까닭', '나머지', '남', '낫다', '낼', '년도', '논', '누가', '다시', '답', '대로', '대하', '대해', '더', '더욱이', '도달', '도착', '동시', '됏', '두번째', '뒤', '듯', '따름', '때문', '라면', '리하', '마자', '막론', '만', '만이', '만하', '말', '망정', '메', '몰랏다', '무릎', '바', '반대', '방면', '보아', '본대', '부류', '불구', '불문', '비', '비걱거리', '비교', '뿐', '사람', '상대', '생각', '서술', '수', '시오', '시작', '시초', '아래', '아무', '안', '알', '알다', '앞', '어기', '어쨋', '어찌됏', '여보', '연관', '옆', '외', '요', '우', '위', '위해', '윗', '의거', '의지', '의치', '이로', '이서', '이외', '이용', '이유', '인', '일반', '일지', '임', '입', '입장', '적', '점', '정도', '제외', '젠', '종합', '주저', '줄', '중', '즈음', '지경', '진짜', '집', '쪽', '차', '첫', '토', '통', '편이', '하든', '하자', '한적', '함', '항목', '해', '해도', '향', '형식', '후', '힘'] not in stop_words.\n",
            "  warnings.warn(\n",
            "/usr/local/lib/python3.10/dist-packages/sklearn/feature_extraction/text.py:528: UserWarning: The parameter 'token_pattern' will not be used since 'tokenizer' is not None'\n",
            "  warnings.warn(\n",
            "/usr/local/lib/python3.10/dist-packages/sklearn/feature_extraction/text.py:409: UserWarning: Your stop_words may be inconsistent with your preprocessing. Tokenizing the stop words generated tokens ['각하', '간', '개', '거나', '거리', '걸', '겁', '것과', '견지', '결과', '결론', '고려', '곤', '곳', '공동', '관', '관계', '관련', '구체', '구토', '근거', '기대', '기점', '기준', '김', '까닭', '나머지', '남', '낫다', '낼', '년도', '논', '누가', '다시', '답', '대로', '대하', '대해', '더', '더욱이', '도달', '도착', '동시', '됏', '두번째', '뒤', '듯', '따름', '때문', '라면', '리하', '마자', '막론', '만', '만이', '만하', '말', '망정', '메', '몰랏다', '무릎', '바', '반대', '방면', '보아', '본대', '부류', '불구', '불문', '비', '비걱거리', '비교', '뿐', '사람', '상대', '생각', '서술', '수', '시오', '시작', '시초', '아래', '아무', '안', '알', '알다', '앞', '어기', '어쨋', '어찌됏', '여보', '연관', '옆', '외', '요', '우', '위', '위해', '윗', '의거', '의지', '의치', '이로', '이서', '이외', '이용', '이유', '인', '일반', '일지', '임', '입', '입장', '적', '점', '정도', '제외', '젠', '종합', '주저', '줄', '중', '즈음', '지경', '진짜', '집', '쪽', '차', '첫', '토', '통', '편이', '하든', '하자', '한적', '함', '항목', '해', '해도', '향', '형식', '후', '힘'] not in stop_words.\n",
            "  warnings.warn(\n",
            "/usr/local/lib/python3.10/dist-packages/sklearn/feature_extraction/text.py:528: UserWarning: The parameter 'token_pattern' will not be used since 'tokenizer' is not None'\n",
            "  warnings.warn(\n",
            "/usr/local/lib/python3.10/dist-packages/sklearn/feature_extraction/text.py:409: UserWarning: Your stop_words may be inconsistent with your preprocessing. Tokenizing the stop words generated tokens ['각하', '간', '개', '거나', '거리', '걸', '겁', '것과', '견지', '결과', '결론', '고려', '곤', '곳', '공동', '관', '관계', '관련', '구체', '구토', '근거', '기대', '기점', '기준', '김', '까닭', '나머지', '남', '낫다', '낼', '년도', '논', '누가', '다시', '답', '대로', '대하', '대해', '더', '더욱이', '도달', '도착', '동시', '됏', '두번째', '뒤', '듯', '따름', '때문', '라면', '리하', '마자', '막론', '만', '만이', '만하', '말', '망정', '메', '몰랏다', '무릎', '바', '반대', '방면', '보아', '본대', '부류', '불구', '불문', '비', '비걱거리', '비교', '뿐', '사람', '상대', '생각', '서술', '수', '시오', '시작', '시초', '아래', '아무', '안', '알', '알다', '앞', '어기', '어쨋', '어찌됏', '여보', '연관', '옆', '외', '요', '우', '위', '위해', '윗', '의거', '의지', '의치', '이로', '이서', '이외', '이용', '이유', '인', '일반', '일지', '임', '입', '입장', '적', '점', '정도', '제외', '젠', '종합', '주저', '줄', '중', '즈음', '지경', '진짜', '집', '쪽', '차', '첫', '토', '통', '편이', '하든', '하자', '한적', '함', '항목', '해', '해도', '향', '형식', '후', '힘'] not in stop_words.\n",
            "  warnings.warn(\n",
            "/usr/local/lib/python3.10/dist-packages/sklearn/feature_extraction/text.py:528: UserWarning: The parameter 'token_pattern' will not be used since 'tokenizer' is not None'\n",
            "  warnings.warn(\n",
            "/usr/local/lib/python3.10/dist-packages/sklearn/feature_extraction/text.py:409: UserWarning: Your stop_words may be inconsistent with your preprocessing. Tokenizing the stop words generated tokens ['각하', '간', '개', '거나', '거리', '걸', '겁', '것과', '견지', '결과', '결론', '고려', '곤', '곳', '공동', '관', '관계', '관련', '구체', '구토', '근거', '기대', '기점', '기준', '김', '까닭', '나머지', '남', '낫다', '낼', '년도', '논', '누가', '다시', '답', '대로', '대하', '대해', '더', '더욱이', '도달', '도착', '동시', '됏', '두번째', '뒤', '듯', '따름', '때문', '라면', '리하', '마자', '막론', '만', '만이', '만하', '말', '망정', '메', '몰랏다', '무릎', '바', '반대', '방면', '보아', '본대', '부류', '불구', '불문', '비', '비걱거리', '비교', '뿐', '사람', '상대', '생각', '서술', '수', '시오', '시작', '시초', '아래', '아무', '안', '알', '알다', '앞', '어기', '어쨋', '어찌됏', '여보', '연관', '옆', '외', '요', '우', '위', '위해', '윗', '의거', '의지', '의치', '이로', '이서', '이외', '이용', '이유', '인', '일반', '일지', '임', '입', '입장', '적', '점', '정도', '제외', '젠', '종합', '주저', '줄', '중', '즈음', '지경', '진짜', '집', '쪽', '차', '첫', '토', '통', '편이', '하든', '하자', '한적', '함', '항목', '해', '해도', '향', '형식', '후', '힘'] not in stop_words.\n",
            "  warnings.warn(\n",
            "/usr/local/lib/python3.10/dist-packages/sklearn/feature_extraction/text.py:528: UserWarning: The parameter 'token_pattern' will not be used since 'tokenizer' is not None'\n",
            "  warnings.warn(\n",
            "/usr/local/lib/python3.10/dist-packages/sklearn/feature_extraction/text.py:409: UserWarning: Your stop_words may be inconsistent with your preprocessing. Tokenizing the stop words generated tokens ['각하', '간', '개', '거나', '거리', '걸', '겁', '것과', '견지', '결과', '결론', '고려', '곤', '곳', '공동', '관', '관계', '관련', '구체', '구토', '근거', '기대', '기점', '기준', '김', '까닭', '나머지', '남', '낫다', '낼', '년도', '논', '누가', '다시', '답', '대로', '대하', '대해', '더', '더욱이', '도달', '도착', '동시', '됏', '두번째', '뒤', '듯', '따름', '때문', '라면', '리하', '마자', '막론', '만', '만이', '만하', '말', '망정', '메', '몰랏다', '무릎', '바', '반대', '방면', '보아', '본대', '부류', '불구', '불문', '비', '비걱거리', '비교', '뿐', '사람', '상대', '생각', '서술', '수', '시오', '시작', '시초', '아래', '아무', '안', '알', '알다', '앞', '어기', '어쨋', '어찌됏', '여보', '연관', '옆', '외', '요', '우', '위', '위해', '윗', '의거', '의지', '의치', '이로', '이서', '이외', '이용', '이유', '인', '일반', '일지', '임', '입', '입장', '적', '점', '정도', '제외', '젠', '종합', '주저', '줄', '중', '즈음', '지경', '진짜', '집', '쪽', '차', '첫', '토', '통', '편이', '하든', '하자', '한적', '함', '항목', '해', '해도', '향', '형식', '후', '힘'] not in stop_words.\n",
            "  warnings.warn(\n"
          ]
        },
        {
          "output_type": "execute_result",
          "data": {
            "text/plain": [
              "RandomizedSearchCV(cv=5,\n",
              "                   estimator=Pipeline(steps=[('vect',\n",
              "                                              TfidfVectorizer(max_df=0.7,\n",
              "                                                              max_features=10000,\n",
              "                                                              min_df=2,\n",
              "                                                              ngram_range=(1,\n",
              "                                                                           2),\n",
              "                                                              stop_words=['이봐',\n",
              "                                                                          '남들',\n",
              "                                                                          '가령',\n",
              "                                                                          '하지마',\n",
              "                                                                          '해봐요',\n",
              "                                                                          '반대로 '\n",
              "                                                                          '말하자면',\n",
              "                                                                          '그렇게 '\n",
              "                                                                          '함으로써',\n",
              "                                                                          '매번',\n",
              "                                                                          '얼마나',\n",
              "                                                                          '다섯',\n",
              "                                                                          '으로서',\n",
              "                                                                          '대해 '\n",
              "                                                                          '말하자면',\n",
              "                                                                          '예를 '\n",
              "                                                                          '들면',\n",
              "                                                                          '운운',\n",
              "                                                                          '참',\n",
              "                                                                          '월',\n",
              "                                                                          '다수',\n",
              "                                                                          '설사',\n",
              "                                                                          '하도다',\n",
              "                                                                          '향하다',\n",
              "                                                                          '단지',\n",
              "                                                                          '무엇때문에',\n",
              "                                                                          '대하면',\n",
              "                                                                          '관한',\n",
              "                                                                          '비걱거리다',\n",
              "                                                                          '우리',\n",
              "                                                                          '그렇지만',\n",
              "                                                                          '이곳',\n",
              "                                                                          '힘입어',\n",
              "                                                                          '하는것만 '\n",
              "                                                                          '못하다', ...],\n",
              "                                                              tokenizer=<function tokenize_test at 0x7bbe80d86dd0>)),\n",
              "                                             ('svd',\n",
              "                                              TruncatedSVD(random_state=11)),\n",
              "                                             ('clf',\n",
              "                                              RandomForestClassifier(n_estimators=500,\n",
              "                                                                     random_state=11))]),\n",
              "                   param_distributions={'clf__max_depth': (10, 20, None),\n",
              "                                        'clf__n_estimators': (100, 500),\n",
              "                                        'vect__max_df': (0.7, 1.0),\n",
              "                                        'vect__max_features': (5000, 20000),\n",
              "                                        'vect__min_df': (2, 5, 10)},\n",
              "                   verbose=1)"
            ],
            "text/html": [
              "<style>#sk-container-id-4 {color: black;background-color: white;}#sk-container-id-4 pre{padding: 0;}#sk-container-id-4 div.sk-toggleable {background-color: white;}#sk-container-id-4 label.sk-toggleable__label {cursor: pointer;display: block;width: 100%;margin-bottom: 0;padding: 0.3em;box-sizing: border-box;text-align: center;}#sk-container-id-4 label.sk-toggleable__label-arrow:before {content: \"▸\";float: left;margin-right: 0.25em;color: #696969;}#sk-container-id-4 label.sk-toggleable__label-arrow:hover:before {color: black;}#sk-container-id-4 div.sk-estimator:hover label.sk-toggleable__label-arrow:before {color: black;}#sk-container-id-4 div.sk-toggleable__content {max-height: 0;max-width: 0;overflow: hidden;text-align: left;background-color: #f0f8ff;}#sk-container-id-4 div.sk-toggleable__content pre {margin: 0.2em;color: black;border-radius: 0.25em;background-color: #f0f8ff;}#sk-container-id-4 input.sk-toggleable__control:checked~div.sk-toggleable__content {max-height: 200px;max-width: 100%;overflow: auto;}#sk-container-id-4 input.sk-toggleable__control:checked~label.sk-toggleable__label-arrow:before {content: \"▾\";}#sk-container-id-4 div.sk-estimator input.sk-toggleable__control:checked~label.sk-toggleable__label {background-color: #d4ebff;}#sk-container-id-4 div.sk-label input.sk-toggleable__control:checked~label.sk-toggleable__label {background-color: #d4ebff;}#sk-container-id-4 input.sk-hidden--visually {border: 0;clip: rect(1px 1px 1px 1px);clip: rect(1px, 1px, 1px, 1px);height: 1px;margin: -1px;overflow: hidden;padding: 0;position: absolute;width: 1px;}#sk-container-id-4 div.sk-estimator {font-family: monospace;background-color: #f0f8ff;border: 1px dotted black;border-radius: 0.25em;box-sizing: border-box;margin-bottom: 0.5em;}#sk-container-id-4 div.sk-estimator:hover {background-color: #d4ebff;}#sk-container-id-4 div.sk-parallel-item::after {content: \"\";width: 100%;border-bottom: 1px solid gray;flex-grow: 1;}#sk-container-id-4 div.sk-label:hover label.sk-toggleable__label {background-color: #d4ebff;}#sk-container-id-4 div.sk-serial::before {content: \"\";position: absolute;border-left: 1px solid gray;box-sizing: border-box;top: 0;bottom: 0;left: 50%;z-index: 0;}#sk-container-id-4 div.sk-serial {display: flex;flex-direction: column;align-items: center;background-color: white;padding-right: 0.2em;padding-left: 0.2em;position: relative;}#sk-container-id-4 div.sk-item {position: relative;z-index: 1;}#sk-container-id-4 div.sk-parallel {display: flex;align-items: stretch;justify-content: center;background-color: white;position: relative;}#sk-container-id-4 div.sk-item::before, #sk-container-id-4 div.sk-parallel-item::before {content: \"\";position: absolute;border-left: 1px solid gray;box-sizing: border-box;top: 0;bottom: 0;left: 50%;z-index: -1;}#sk-container-id-4 div.sk-parallel-item {display: flex;flex-direction: column;z-index: 1;position: relative;background-color: white;}#sk-container-id-4 div.sk-parallel-item:first-child::after {align-self: flex-end;width: 50%;}#sk-container-id-4 div.sk-parallel-item:last-child::after {align-self: flex-start;width: 50%;}#sk-container-id-4 div.sk-parallel-item:only-child::after {width: 0;}#sk-container-id-4 div.sk-dashed-wrapped {border: 1px dashed gray;margin: 0 0.4em 0.5em 0.4em;box-sizing: border-box;padding-bottom: 0.4em;background-color: white;}#sk-container-id-4 div.sk-label label {font-family: monospace;font-weight: bold;display: inline-block;line-height: 1.2em;}#sk-container-id-4 div.sk-label-container {text-align: center;}#sk-container-id-4 div.sk-container {/* jupyter's `normalize.less` sets `[hidden] { display: none; }` but bootstrap.min.css set `[hidden] { display: none !important; }` so we also need the `!important` here to be able to override the default hidden behavior on the sphinx rendered scikit-learn.org. See: https://github.com/scikit-learn/scikit-learn/issues/21755 */display: inline-block !important;position: relative;}#sk-container-id-4 div.sk-text-repr-fallback {display: none;}</style><div id=\"sk-container-id-4\" class=\"sk-top-container\"><div class=\"sk-text-repr-fallback\"><pre>RandomizedSearchCV(cv=5,\n",
              "                   estimator=Pipeline(steps=[(&#x27;vect&#x27;,\n",
              "                                              TfidfVectorizer(max_df=0.7,\n",
              "                                                              max_features=10000,\n",
              "                                                              min_df=2,\n",
              "                                                              ngram_range=(1,\n",
              "                                                                           2),\n",
              "                                                              stop_words=[&#x27;이봐&#x27;,\n",
              "                                                                          &#x27;남들&#x27;,\n",
              "                                                                          &#x27;가령&#x27;,\n",
              "                                                                          &#x27;하지마&#x27;,\n",
              "                                                                          &#x27;해봐요&#x27;,\n",
              "                                                                          &#x27;반대로 &#x27;\n",
              "                                                                          &#x27;말하자면&#x27;,\n",
              "                                                                          &#x27;그렇게 &#x27;\n",
              "                                                                          &#x27;함으로써&#x27;,\n",
              "                                                                          &#x27;매번&#x27;,\n",
              "                                                                          &#x27;얼마나&#x27;,\n",
              "                                                                          &#x27;다섯&#x27;,\n",
              "                                                                          &#x27;으로서&#x27;,\n",
              "                                                                          &#x27;대해 &#x27;\n",
              "                                                                          &#x27;말하자면&#x27;,\n",
              "                                                                          &#x27;예를 &#x27;\n",
              "                                                                          &#x27;들면&#x27;,\n",
              "                                                                          &#x27;운운&#x27;,\n",
              "                                                                          &#x27;참&#x27;,\n",
              "                                                                          &#x27;월&#x27;,\n",
              "                                                                          &#x27;다수&#x27;,\n",
              "                                                                          &#x27;설사&#x27;,\n",
              "                                                                          &#x27;하도다&#x27;,\n",
              "                                                                          &#x27;향하다&#x27;,\n",
              "                                                                          &#x27;단지&#x27;,\n",
              "                                                                          &#x27;무엇때문에&#x27;,\n",
              "                                                                          &#x27;대하면&#x27;,\n",
              "                                                                          &#x27;관한&#x27;,\n",
              "                                                                          &#x27;비걱거리다&#x27;,\n",
              "                                                                          &#x27;우리&#x27;,\n",
              "                                                                          &#x27;그렇지만&#x27;,\n",
              "                                                                          &#x27;이곳&#x27;,\n",
              "                                                                          &#x27;힘입어&#x27;,\n",
              "                                                                          &#x27;하는것만 &#x27;\n",
              "                                                                          &#x27;못하다&#x27;, ...],\n",
              "                                                              tokenizer=&lt;function tokenize_test at 0x7bbe80d86dd0&gt;)),\n",
              "                                             (&#x27;svd&#x27;,\n",
              "                                              TruncatedSVD(random_state=11)),\n",
              "                                             (&#x27;clf&#x27;,\n",
              "                                              RandomForestClassifier(n_estimators=500,\n",
              "                                                                     random_state=11))]),\n",
              "                   param_distributions={&#x27;clf__max_depth&#x27;: (10, 20, None),\n",
              "                                        &#x27;clf__n_estimators&#x27;: (100, 500),\n",
              "                                        &#x27;vect__max_df&#x27;: (0.7, 1.0),\n",
              "                                        &#x27;vect__max_features&#x27;: (5000, 20000),\n",
              "                                        &#x27;vect__min_df&#x27;: (2, 5, 10)},\n",
              "                   verbose=1)</pre><b>In a Jupyter environment, please rerun this cell to show the HTML representation or trust the notebook. <br />On GitHub, the HTML representation is unable to render, please try loading this page with nbviewer.org.</b></div><div class=\"sk-container\" hidden><div class=\"sk-item sk-dashed-wrapped\"><div class=\"sk-label-container\"><div class=\"sk-label sk-toggleable\"><input class=\"sk-toggleable__control sk-hidden--visually\" id=\"sk-estimator-id-10\" type=\"checkbox\" ><label for=\"sk-estimator-id-10\" class=\"sk-toggleable__label sk-toggleable__label-arrow\">RandomizedSearchCV</label><div class=\"sk-toggleable__content\"><pre>RandomizedSearchCV(cv=5,\n",
              "                   estimator=Pipeline(steps=[(&#x27;vect&#x27;,\n",
              "                                              TfidfVectorizer(max_df=0.7,\n",
              "                                                              max_features=10000,\n",
              "                                                              min_df=2,\n",
              "                                                              ngram_range=(1,\n",
              "                                                                           2),\n",
              "                                                              stop_words=[&#x27;이봐&#x27;,\n",
              "                                                                          &#x27;남들&#x27;,\n",
              "                                                                          &#x27;가령&#x27;,\n",
              "                                                                          &#x27;하지마&#x27;,\n",
              "                                                                          &#x27;해봐요&#x27;,\n",
              "                                                                          &#x27;반대로 &#x27;\n",
              "                                                                          &#x27;말하자면&#x27;,\n",
              "                                                                          &#x27;그렇게 &#x27;\n",
              "                                                                          &#x27;함으로써&#x27;,\n",
              "                                                                          &#x27;매번&#x27;,\n",
              "                                                                          &#x27;얼마나&#x27;,\n",
              "                                                                          &#x27;다섯&#x27;,\n",
              "                                                                          &#x27;으로서&#x27;,\n",
              "                                                                          &#x27;대해 &#x27;\n",
              "                                                                          &#x27;말하자면&#x27;,\n",
              "                                                                          &#x27;예를 &#x27;\n",
              "                                                                          &#x27;들면&#x27;,\n",
              "                                                                          &#x27;운운&#x27;,\n",
              "                                                                          &#x27;참&#x27;,\n",
              "                                                                          &#x27;월&#x27;,\n",
              "                                                                          &#x27;다수&#x27;,\n",
              "                                                                          &#x27;설사&#x27;,\n",
              "                                                                          &#x27;하도다&#x27;,\n",
              "                                                                          &#x27;향하다&#x27;,\n",
              "                                                                          &#x27;단지&#x27;,\n",
              "                                                                          &#x27;무엇때문에&#x27;,\n",
              "                                                                          &#x27;대하면&#x27;,\n",
              "                                                                          &#x27;관한&#x27;,\n",
              "                                                                          &#x27;비걱거리다&#x27;,\n",
              "                                                                          &#x27;우리&#x27;,\n",
              "                                                                          &#x27;그렇지만&#x27;,\n",
              "                                                                          &#x27;이곳&#x27;,\n",
              "                                                                          &#x27;힘입어&#x27;,\n",
              "                                                                          &#x27;하는것만 &#x27;\n",
              "                                                                          &#x27;못하다&#x27;, ...],\n",
              "                                                              tokenizer=&lt;function tokenize_test at 0x7bbe80d86dd0&gt;)),\n",
              "                                             (&#x27;svd&#x27;,\n",
              "                                              TruncatedSVD(random_state=11)),\n",
              "                                             (&#x27;clf&#x27;,\n",
              "                                              RandomForestClassifier(n_estimators=500,\n",
              "                                                                     random_state=11))]),\n",
              "                   param_distributions={&#x27;clf__max_depth&#x27;: (10, 20, None),\n",
              "                                        &#x27;clf__n_estimators&#x27;: (100, 500),\n",
              "                                        &#x27;vect__max_df&#x27;: (0.7, 1.0),\n",
              "                                        &#x27;vect__max_features&#x27;: (5000, 20000),\n",
              "                                        &#x27;vect__min_df&#x27;: (2, 5, 10)},\n",
              "                   verbose=1)</pre></div></div></div><div class=\"sk-parallel\"><div class=\"sk-parallel-item\"><div class=\"sk-item\"><div class=\"sk-label-container\"><div class=\"sk-label sk-toggleable\"><input class=\"sk-toggleable__control sk-hidden--visually\" id=\"sk-estimator-id-11\" type=\"checkbox\" ><label for=\"sk-estimator-id-11\" class=\"sk-toggleable__label sk-toggleable__label-arrow\">estimator: Pipeline</label><div class=\"sk-toggleable__content\"><pre>Pipeline(steps=[(&#x27;vect&#x27;,\n",
              "                 TfidfVectorizer(max_df=0.7, max_features=10000, min_df=2,\n",
              "                                 ngram_range=(1, 2),\n",
              "                                 stop_words=[&#x27;이봐&#x27;, &#x27;남들&#x27;, &#x27;가령&#x27;, &#x27;하지마&#x27;, &#x27;해봐요&#x27;,\n",
              "                                             &#x27;반대로 말하자면&#x27;, &#x27;그렇게 함으로써&#x27;, &#x27;매번&#x27;,\n",
              "                                             &#x27;얼마나&#x27;, &#x27;다섯&#x27;, &#x27;으로서&#x27;, &#x27;대해 말하자면&#x27;,\n",
              "                                             &#x27;예를 들면&#x27;, &#x27;운운&#x27;, &#x27;참&#x27;, &#x27;월&#x27;, &#x27;다수&#x27;,\n",
              "                                             &#x27;설사&#x27;, &#x27;하도다&#x27;, &#x27;향하다&#x27;, &#x27;단지&#x27;, &#x27;무엇때문에&#x27;,\n",
              "                                             &#x27;대하면&#x27;, &#x27;관한&#x27;, &#x27;비걱거리다&#x27;, &#x27;우리&#x27;, &#x27;그렇지만&#x27;,\n",
              "                                             &#x27;이곳&#x27;, &#x27;힘입어&#x27;, &#x27;하는것만 못하다&#x27;, ...],\n",
              "                                 tokenizer=&lt;function tokenize_test at 0x7bbe80d86dd0&gt;)),\n",
              "                (&#x27;svd&#x27;, TruncatedSVD(random_state=11)),\n",
              "                (&#x27;clf&#x27;,\n",
              "                 RandomForestClassifier(n_estimators=500, random_state=11))])</pre></div></div></div><div class=\"sk-serial\"><div class=\"sk-item\"><div class=\"sk-serial\"><div class=\"sk-item\"><div class=\"sk-estimator sk-toggleable\"><input class=\"sk-toggleable__control sk-hidden--visually\" id=\"sk-estimator-id-12\" type=\"checkbox\" ><label for=\"sk-estimator-id-12\" class=\"sk-toggleable__label sk-toggleable__label-arrow\">TfidfVectorizer</label><div class=\"sk-toggleable__content\"><pre>TfidfVectorizer(max_df=0.7, max_features=10000, min_df=2, ngram_range=(1, 2),\n",
              "                stop_words=[&#x27;이봐&#x27;, &#x27;남들&#x27;, &#x27;가령&#x27;, &#x27;하지마&#x27;, &#x27;해봐요&#x27;, &#x27;반대로 말하자면&#x27;,\n",
              "                            &#x27;그렇게 함으로써&#x27;, &#x27;매번&#x27;, &#x27;얼마나&#x27;, &#x27;다섯&#x27;, &#x27;으로서&#x27;, &#x27;대해 말하자면&#x27;,\n",
              "                            &#x27;예를 들면&#x27;, &#x27;운운&#x27;, &#x27;참&#x27;, &#x27;월&#x27;, &#x27;다수&#x27;, &#x27;설사&#x27;, &#x27;하도다&#x27;, &#x27;향하다&#x27;,\n",
              "                            &#x27;단지&#x27;, &#x27;무엇때문에&#x27;, &#x27;대하면&#x27;, &#x27;관한&#x27;, &#x27;비걱거리다&#x27;, &#x27;우리&#x27;, &#x27;그렇지만&#x27;,\n",
              "                            &#x27;이곳&#x27;, &#x27;힘입어&#x27;, &#x27;하는것만 못하다&#x27;, ...],\n",
              "                tokenizer=&lt;function tokenize_test at 0x7bbe80d86dd0&gt;)</pre></div></div></div><div class=\"sk-item\"><div class=\"sk-estimator sk-toggleable\"><input class=\"sk-toggleable__control sk-hidden--visually\" id=\"sk-estimator-id-13\" type=\"checkbox\" ><label for=\"sk-estimator-id-13\" class=\"sk-toggleable__label sk-toggleable__label-arrow\">TruncatedSVD</label><div class=\"sk-toggleable__content\"><pre>TruncatedSVD(random_state=11)</pre></div></div></div><div class=\"sk-item\"><div class=\"sk-estimator sk-toggleable\"><input class=\"sk-toggleable__control sk-hidden--visually\" id=\"sk-estimator-id-14\" type=\"checkbox\" ><label for=\"sk-estimator-id-14\" class=\"sk-toggleable__label sk-toggleable__label-arrow\">RandomForestClassifier</label><div class=\"sk-toggleable__content\"><pre>RandomForestClassifier(n_estimators=500, random_state=11)</pre></div></div></div></div></div></div></div></div></div></div></div></div>"
            ]
          },
          "metadata": {},
          "execution_count": 41
        }
      ],
      "source": [
        "# 파라미터 셋팅\n",
        "parameters = {\n",
        "    'vect__max_df': (0.7, 1.0)\n",
        "    ,'vect__min_df': (2, 5, 10)\n",
        "    ,'vect__max_features': (5000, 20000)\n",
        "    ,'clf__n_estimators': (100, 500)\n",
        "    ,'clf__max_depth': (10, 20, None)\n",
        "}\n",
        "\n",
        "random_search = RandomizedSearchCV(pipe, parameters, cv=5, verbose=1)\n",
        "random_search.fit(x_train,y_train)"
      ]
    },
    {
      "cell_type": "code",
      "execution_count": 42,
      "metadata": {
        "colab": {
          "base_uri": "https://localhost:8080/"
        },
        "id": "DLFER2mtKWy2",
        "outputId": "924e8f94-2bee-4bcf-ef99-6f438cf1c2bc"
      },
      "outputs": [
        {
          "output_type": "execute_result",
          "data": {
            "text/plain": [
              "0.9676361713379166"
            ]
          },
          "metadata": {},
          "execution_count": 42
        }
      ],
      "source": [
        "random_search.best_score_"
      ]
    },
    {
      "cell_type": "code",
      "execution_count": 43,
      "metadata": {
        "colab": {
          "base_uri": "https://localhost:8080/"
        },
        "id": "X6OHqBpHKXZa",
        "outputId": "b44fb9bd-3de7-4adc-b133-6686aabe4086"
      },
      "outputs": [
        {
          "output_type": "execute_result",
          "data": {
            "text/plain": [
              "{'vect__min_df': 5,\n",
              " 'vect__max_features': 5000,\n",
              " 'vect__max_df': 1.0,\n",
              " 'clf__n_estimators': 100,\n",
              " 'clf__max_depth': 20}"
            ]
          },
          "metadata": {},
          "execution_count": 43
        }
      ],
      "source": [
        "random_search.best_params_"
      ]
    },
    {
      "cell_type": "markdown",
      "metadata": {
        "id": "LcRsWwxoOmxR"
      },
      "source": [
        "**Accuracy score**"
      ]
    },
    {
      "cell_type": "code",
      "execution_count": 44,
      "metadata": {
        "colab": {
          "base_uri": "https://localhost:8080/"
        },
        "id": "HEpJ7HzRNu0h",
        "outputId": "7e5e6998-b81a-42f5-e2db-a9a2d7f5e39a"
      },
      "outputs": [
        {
          "output_type": "execute_result",
          "data": {
            "text/plain": [
              "0.9699248120300752"
            ]
          },
          "metadata": {},
          "execution_count": 44
        }
      ],
      "source": [
        "y_pred = random_search.predict(x_test)\n",
        "accuracy_score(y_test, y_pred)"
      ]
    },
    {
      "cell_type": "code",
      "execution_count": 45,
      "metadata": {
        "colab": {
          "base_uri": "https://localhost:8080/"
        },
        "id": "kbzKDmk2b-WU",
        "outputId": "7a108d29-f3c1-42da-8c68-bbd1df1da560"
      },
      "outputs": [
        {
          "output_type": "stream",
          "name": "stdout",
          "text": [
            "              precision    recall  f1-score   support\n",
            "\n",
            "           0       0.97      1.00      0.98       129\n",
            "           1       0.00      0.00      0.00         4\n",
            "\n",
            "    accuracy                           0.97       133\n",
            "   macro avg       0.48      0.50      0.49       133\n",
            "weighted avg       0.94      0.97      0.96       133\n",
            "\n"
          ]
        },
        {
          "output_type": "stream",
          "name": "stderr",
          "text": [
            "/usr/local/lib/python3.10/dist-packages/sklearn/metrics/_classification.py:1344: UndefinedMetricWarning: Precision and F-score are ill-defined and being set to 0.0 in labels with no predicted samples. Use `zero_division` parameter to control this behavior.\n",
            "  _warn_prf(average, modifier, msg_start, len(result))\n",
            "/usr/local/lib/python3.10/dist-packages/sklearn/metrics/_classification.py:1344: UndefinedMetricWarning: Precision and F-score are ill-defined and being set to 0.0 in labels with no predicted samples. Use `zero_division` parameter to control this behavior.\n",
            "  _warn_prf(average, modifier, msg_start, len(result))\n",
            "/usr/local/lib/python3.10/dist-packages/sklearn/metrics/_classification.py:1344: UndefinedMetricWarning: Precision and F-score are ill-defined and being set to 0.0 in labels with no predicted samples. Use `zero_division` parameter to control this behavior.\n",
            "  _warn_prf(average, modifier, msg_start, len(result))\n"
          ]
        }
      ],
      "source": [
        "print(classification_report(y_test, y_pred))"
      ]
    }
  ],
  "metadata": {
    "accelerator": "GPU",
    "colab": {
      "provenance": [],
      "gpuType": "T4"
    },
    "kernelspec": {
      "display_name": "Python 3",
      "name": "python3"
    },
    "language_info": {
      "codemirror_mode": {
        "name": "ipython",
        "version": 3
      },
      "file_extension": ".py",
      "mimetype": "text/x-python",
      "name": "python",
      "nbconvert_exporter": "python",
      "pygments_lexer": "ipython3",
      "version": "3.11.7"
    }
  },
  "nbformat": 4,
  "nbformat_minor": 0
}